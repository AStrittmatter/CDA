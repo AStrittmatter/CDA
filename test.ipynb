{
 "cells": [
  {
   "cell_type": "markdown",
   "metadata": {},
   "source": [
    "# PC Session 1"
   ]
  },
  {
   "cell_type": "markdown",
   "metadata": {},
   "source": [
    "# **Machine Learning for Prediction**"
   ]
  },
  {
   "cell_type": "markdown",
   "metadata": {},
   "source": [
    "**Authors:**\n",
    "[Anthony Strittmatter](http://www.anthonystrittmatter.com),\n",
    "[Helge Liebert](https://hliebert.github.io/), and\n",
    "Johnathan Chassot"
   ]
  },
  {
   "cell_type": "markdown",
   "metadata": {},
   "source": [
    "You want to buy an used car at the online auction platform *MyLemons*. You are worried that many used cars on this platform are overpriced. Therefore, you want to do some market research before you buy an used car. For this purpose, you web-scrape the used car offers on the *MyLemons* platform. You obtain the following variables:\n",
    "\n",
    "|Variable name| Description|\n",
    "|:----|:----|\n",
    "|**Outcome variables** ||\n",
    "|*first_price*| First asking price in 1,000 CHF |\n",
    "|*final_price*| Transaction price in 1,000 CHF|\n",
    "|*overprice*| Dummy indicating *first_price > final_price* |\n",
    "|**Baseline covariates**| |\n",
    "|*bmw_320, opel_astra, mercedes_c, vw_golf, vw_passat*| Dummies for the car make and model|\n",
    "|*mileage*| Mileage of the used car (in 1,000 km)|\n",
    "|*age_car_years*| Age of the used car (in years)|\n",
    "|*diesel*| Dummy for diesel engines |\n",
    "|*private_seller*| Dummy for private seller (as opposed to professional used car sellers) |\n",
    "|*other_car_owner*| Number of previous caar owners |\n",
    "|*guarantee*| Dummy indicating that the seller offers a guarantee for the used car|\n",
    "|*maintenance_cert*| Dummy indicating that the seller has a complete maintenace certificate for the used car|\n",
    "|*inspection*| Categorial variable for the duration until next general inspection (3 categories: new, 1-2 years, > 2 years) |\n",
    "|*pm_green*| Dummy indicating that the used car has low particular matter emissions|\n",
    "|*co2_em*| CO2 emssion (in liter per 100km)|\n",
    "|*euro_norm*| EURO emission norm under which the car is registered |\n",
    "\n",
    "\n",
    "Furthermore, you generate some transformations of your covariates that you want to use for later analysis. The transformed covariates are:\n",
    "\n",
    "|Variable name| Description|\n",
    "|:----|:----|\n",
    "|**Additional covariates** ||\n",
    "|*mileage2, mileage3, mileage4, age_car_years2, age_car_years3, age_car_years4*| Squared, cubic, and quadratic *mileage* and *age_car_years* |\n",
    "|*mile_20, mile_30, mile_40, mile_50, mile_100, mile_150*| Dummies indicating that the used car has a mileage above 20,000km, 30,000km, 40,000km, 50,000km, 100,000km, or 150,000km |\n",
    "|*age_3, age_6*| Dummies indicating that the used car is above 3 or 6 years old |\n",
    "|*dur_next_ins_1_2*| Dummy indicating that the duration until the next general inspection is between 1 and 2 years |\n",
    "|*new_inspection*| Dummy indicating that the used car has a new general inspection |\n",
    "\n",
    "\n",
    "You store the prepared data in the file *used_cars.csv*. Now you start you analysis. \n"
   ]
  },
  {
   "cell_type": "markdown",
   "metadata": {},
   "source": [
    "## Load Packages"
   ]
  },
  {
   "cell_type": "markdown",
   "metadata": {},
   "source": [
    "In the first place, you install and load the R-packages you want to use."
   ]
  },
  {
   "cell_type": "code",
   "execution_count": 37,
   "metadata": {},
   "outputs": [
    {
     "name": "stdout",
     "output_type": "stream",
     "text": [
      "[1] \"All packages successfully installed and loaded.\"\n"
     ]
    }
   ],
   "source": [
    "# List of required packages\n",
    "pkgs <- c('fBasics', 'corrplot', 'psych', 'glmnet', 'glmnetUtils', 'rpart',\n",
    "          'rpart.plot', 'treeClust', 'randomForest', 'rlang', 'readr', 'devtools',\n",
    "          'tidyverse', 'reshape2', 'caret')\n",
    "# Load packages (install if needed)\n",
    "for(pkg in pkgs){\n",
    "    if(!(pkg %in% rownames(installed.packages()))){\n",
    "        install.packages(pkg, repos=\"http://stat.ethz.ch/CRAN\")\n",
    "    }\n",
    "    library(pkg, character.only = TRUE)\n",
    "}\n",
    "print('All packages successfully installed and loaded.')"
   ]
  },
  {
   "cell_type": "markdown",
   "metadata": {},
   "source": [
    "## Load Data Frame"
   ]
  },
  {
   "cell_type": "markdown",
   "metadata": {},
   "source": [
    "Now you load the data frame and define different covariate categories. You distinguish between binary and continuous/discrete covariates. Furthermore, you decrease the sample size to 10,000 in order to decrease the computation time while you are testing your code. You plan to use the entire sample of 78,645 used cars after you are finised with programming."
   ]
  },
  {
   "cell_type": "code",
   "execution_count": 38,
   "metadata": {},
   "outputs": [
    {
     "name": "stdout",
     "output_type": "stream",
     "text": [
      "[1] \"Data frame successfully loaded and sample selected.\"\n"
     ]
    }
   ],
   "source": [
    "set.seed(100231) # set starting value for random number generator\n",
    "\n",
    "# Load data frame\n",
    "data_raw <- read.csv(\"used_cars.csv\",header=TRUE, sep=\",\")\n",
    "\n",
    "# Outcome Variables\n",
    "outcomes <- c(\"first_price\", \"final_price\", \"overprice\")\n",
    "\n",
    "# Covariates/Features\n",
    "baseline_covariates_bin <- c(\"bmw_320\", \"opel_astra\", \"mercedes_c\", \"vw_golf\", \"vw_passat\", \n",
    "                          \"diesel\",   \"private_seller\", \"guarantee\", \"maintenance_cert\",  \"pm_green\") # binary\n",
    "baseline_covariates_cont <- c(\"mileage\", \"age_car_years\", \"other_car_owner\", \"inspection\",\n",
    "                              \"co2_em\", \"euro_norm\") # continuous/discrete\n",
    "baseline_covariates <- c(baseline_covariates_cont,baseline_covariates_bin)\n",
    "lasso_covariates_bin <- c(\"mile_20\", \"mile_30\", \"mile_40\", \"mile_50\", \"mile_100\", \"mile_150\", \n",
    "                       \"age_3\", \"age_6\", \"dur_next_ins_1_2\", \"new_inspection\") # binary \n",
    "lasso_covariates_cont <- c(\"mileage2\", \"mileage3\", \"mileage4\", \"age_car_years2\", \"age_car_years3\",\n",
    "                           \"age_car_years4\") # continuous/discrete\n",
    "\n",
    "lasso_covariates <- c(lasso_covariates_cont, lasso_covariates_bin)  \n",
    "all_covariates <- c(baseline_covariates, lasso_covariates)\n",
    "all_variables <- c(outcomes, all_covariates)\n",
    "\n",
    "# Selection of Subsample size, max. 78,645 observations\n",
    "# Select smaller subsample to decrease computation time\n",
    "n_obs <- 10000\n",
    "df <- data_raw %>%\n",
    "  dplyr::sample_n(n_obs) %>%\n",
    "  dplyr::select(all_variables)\n",
    "\n",
    "print('Data frame successfully loaded and sample selected.')"
   ]
  },
  {
   "cell_type": "markdown",
   "metadata": {},
   "source": [
    "## Descriptive Statistics"
   ]
  },
  {
   "cell_type": "markdown",
   "metadata": {},
   "source": [
    "### Means and Standard Deviations"
   ]
  },
  {
   "cell_type": "markdown",
   "metadata": {},
   "source": [
    "Now you have a look at the descriptive statistics to check for data errors and missing values."
   ]
  },
  {
   "cell_type": "code",
   "execution_count": 40,
   "metadata": {},
   "outputs": [
    {
     "name": "stdout",
     "output_type": "stream",
     "text": [
      "                        Mean       Stdev Kurtosis Minimum      Maximum  nobs\n",
      "first_price             15.6         7.4      6.6       1        100.5 10000\n",
      "final_price             15.2         7.1      3.3       1         98.7 10000\n",
      "overprice                0.6         0.5     -1.8       0          1.0 10000\n",
      "mileage                100.4        49.8     -0.9      10        200.0 10000\n",
      "age_car_years            4.6         2.6      1.6       1         19.4 10000\n",
      "other_car_owner          1.1         0.7      0.6       0          6.0 10000\n",
      "inspection               0.9         0.7     -1.1       0          2.0 10000\n",
      "co2_em                 138.8        24.9      1.7       1        249.0 10000\n",
      "euro_norm                4.8         0.6      3.6       1          6.0 10000\n",
      "bmw_320                  0.2         0.4     -0.5       0          1.0 10000\n",
      "opel_astra               0.1         0.3      3.6       0          1.0 10000\n",
      "mercedes_c               0.1         0.3      2.3       0          1.0 10000\n",
      "vw_golf                  0.2         0.4      0.9       0          1.0 10000\n",
      "vw_passat                0.3         0.5     -1.5       0          1.0 10000\n",
      "diesel                   0.8         0.4     -0.1       0          1.0 10000\n",
      "private_seller           0.1         0.3      3.0       0          1.0 10000\n",
      "guarantee                0.1         0.3      6.3       0          1.0 10000\n",
      "maintenance_cert         0.7         0.4     -0.8       0          1.0 10000\n",
      "pm_green                 0.9         0.3      2.5       0          1.0 10000\n",
      "mileage2             12559.9     10489.4     -0.2     100      40000.0 10000\n",
      "mileage3           1767077.4   1990765.2      1.2    1000    8000000.0 10000\n",
      "mileage4         267767061.2 373395149.0      2.8   10000 1600000000.0 10000\n",
      "age_car_years2          28.6        34.3     13.4       1        376.4 10000\n",
      "age_car_years3         219.1       438.9     52.8       1       7301.4 10000\n",
      "age_car_years4        1990.9      6200.9    135.9       1     141646.8 10000\n",
      "mile_20                  1.0         0.2     17.6       0          1.0 10000\n",
      "mile_30                  0.9         0.3      4.5       0          1.0 10000\n",
      "mile_40                  0.9         0.4      2.0       0          1.0 10000\n",
      "mile_50                  0.8         0.4      0.5       0          1.0 10000\n",
      "mile_100                 0.5         0.5     -2.0       0          1.0 10000\n",
      "mile_150                 0.2         0.4      0.8       0          1.0 10000\n",
      "age_3                    0.8         0.4     -0.3       0          1.0 10000\n",
      "age_6                    0.3         0.4     -0.8       0          1.0 10000\n",
      "dur_next_ins_1_2         0.4         0.5     -2.0       0          1.0 10000\n",
      "new_inspection           0.2         0.4      0.2       0          1.0 10000\n"
     ]
    }
   ],
   "source": [
    "# Table of descriptive statistics\n",
    "desc <- fBasics::basicStats(df) %>% t() %>% as.data.frame() %>% \n",
    "  select(Mean, Stdev, Minimum, Maximum, nobs)\n",
    "print(round(desc, digits=1))\n",
    "\n",
    "# Print as tex-file\n",
    "#kable(desc, \"latex\", booktabs = T)"
   ]
  },
  {
   "cell_type": "markdown",
   "metadata": {},
   "source": [
    "### Correlation Matrix"
   ]
  },
  {
   "cell_type": "markdown",
   "metadata": {},
   "source": [
    "You plot the correlation matrix. The correlation structure between the covariates is important for the later interpretation of the results."
   ]
  },
  {
   "cell_type": "code",
   "execution_count": 30,
   "metadata": {},
   "outputs": [
    {
     "data": {
      "image/png": "[encoded data removed]",
      "text/plain": [
       "Plot with title \"\""
      ]
     },
     "metadata": {},
     "output_type": "display_data",
     "source": "R display func"
    }
   ],
   "source": [
    "# Plot correlation matrix\n",
    "corr = cor(df)\n",
    "corrplot(corr, type = \"upper\", tl.col = \"black\")\n",
    "\n",
    "# Save correlation matrix as png-file\n",
    "#png(height=1200, width=1200, file=\"correlation.png\")\n",
    "    #corrplot(corr, type = \"upper\", tl.col = \"black\")\n",
    "#dev.off()\n"
   ]
  },
  {
   "cell_type": "markdown",
   "metadata": {},
   "source": [
    "## Extract Data"
   ]
  },
  {
   "cell_type": "markdown",
   "metadata": {},
   "source": [
    "You extract the different variable categories from your data frame and drop observations with missing values."
   ]
  },
  {
   "cell_type": "code",
   "execution_count": 32,
   "metadata": {},
   "outputs": [
    {
     "name": "stdout",
     "output_type": "stream",
     "text": [
      "[1] \"Data successfully extracted.\"\n"
     ]
    }
   ],
   "source": [
    "########################  Extract dataset  ########################\n",
    "\n",
    "# Extracting continuous variables\n",
    "baseline_covariates_cont <- df %>%\n",
    "  dplyr::select(baseline_covariates_cont) \n",
    "\n",
    "lasso_covariates_cont <- df %>%\n",
    "  dplyr::select(lasso_covariates_cont) \n",
    "\n",
    "# Extracting indicator variables\n",
    "baseline_covariates_bin <- df %>%\n",
    "  dplyr::select(baseline_covariates_bin)\n",
    "\n",
    "lasso_covariates_bin <- df %>%\n",
    "  dplyr::select(lasso_covariates_bin)\n",
    "\n",
    "# Extracting outcome \n",
    "outcomes <- df %>% dplyr::select(outcomes)\n",
    "\n",
    "# Setting up the data, renaming columns and discarding rows with NA (if any)\n",
    "df <- bind_cols(outcomes, baseline_covariates_cont, baseline_covariates_bin, lasso_covariates_cont, lasso_covariates_bin) %>%\n",
    "  na.omit()\n",
    "\n",
    "print('Data successfully extracted.')"
   ]
  },
  {
   "cell_type": "markdown",
   "metadata": {},
   "source": [
    "## Take Hold-Out-Sample and Scale Data"
   ]
  },
  {
   "cell_type": "markdown",
   "metadata": {},
   "source": [
    "You want to compare the relative prediction power of different estimation procedures based on the out-of-sample MSE and $R^2$. For this purpose, you create a training/estimation- and hold-out-sample. You will use the training/estimation-sample to train the machine learning procedures and estimate the final used car prices. Then you will extrapolate the results to the retared hold-out-sample.\n",
    "\n",
    "\n",
    "Furthermore, you standardise the continuous covariates by the means and standard deviations in the training/estimation-sample. Some machine learning algorithms are sensitive to rescaling. Even though most machine learning procedures standardise the covariates automatically, this is a cautionary transformation for those procedures that have no automatic standardisation implemented."
   ]
  },
  {
   "cell_type": "code",
   "execution_count": 33,
   "metadata": {},
   "outputs": [
    {
     "name": "stdout",
     "output_type": "stream",
     "text": [
      "[1] \"The data is now ready for your first analysis!\"\n"
     ]
    }
   ],
   "source": [
    "########################  Take hold-out-sample  ########################\n",
    "\n",
    "df_part <- modelr::resample_partition(df, c(obs = 0.8, hold_out = 0.2))\n",
    "df_obs <- as.data.frame(df_part$obs) # Training and estimation sample\n",
    "df_hold_out <- as.data.frame(df_part$hold_out) # Hold-out-sample\n",
    "\n",
    "# Outcomes\n",
    "first_price_obs <- as.matrix(df_obs[,1])\n",
    "final_price_obs <- as.matrix(df_obs[,2])\n",
    "overprice_obs <- as.matrix(df_obs[,3])\n",
    "\n",
    "first_price_hold_out <- as.matrix(df_hold_out[,1])\n",
    "final_price_hold_out <- as.matrix(df_hold_out[,2])\n",
    "overprice_hold_out <- as.matrix(df_hold_out[,3])\n",
    "\n",
    "## Covariates/Features\n",
    "baseline_covariates_cont_obs <- as.matrix(df_obs[,c(4:9)])\n",
    "baseline_covariates_bin_obs <- as.matrix(df_obs[,c(10:19)])\n",
    "baseline_covariates_hold_cont_out <- as.matrix(df_hold_out[,c(4:9)])\n",
    "baseline_covariates_hold_bin_out <- as.matrix(df_hold_out[,c(10:19)])\n",
    "\n",
    "# Standardise continuous variables\n",
    "preProcValues <- preProcess(baseline_covariates_cont_obs, method = c(\"center\", \"scale\")) # Take means and standard deviations from training sample\n",
    "ObsTransformed <- predict(preProcValues, baseline_covariates_cont_obs) # Apply the transformation to trainings sample\n",
    "HoldOutTransformed <- predict(preProcValues, baseline_covariates_hold_cont_out) # Apply the transformation to hold-out-sample (based on means and standard deviations from training sample)\n",
    "# Note: Outcome variables are not rescaled\n",
    "\n",
    "baseline_covariates_obs <- as.matrix(cbind(ObsTransformed,baseline_covariates_bin_obs)) \n",
    "baseline_covariates_hold_out <- as.matrix(cbind(HoldOutTransformed,baseline_covariates_hold_bin_out)) \n",
    "                  \n",
    "print('The data is now ready for your first analysis!')"
   ]
  },
  {
   "cell_type": "markdown",
   "metadata": {},
   "source": [
    "# Tree Estimator"
   ]
  },
  {
   "cell_type": "markdown",
   "metadata": {},
   "source": [
    "Trees partition the sample into mutually exclusive groups $l_j$, which are called leaves. Let $\\pi= \\{ l_1, ...,l_{\\# (\\pi)} \\}$ be a specific tree or sample partition, let $l_j \\equiv l_j (x,\\pi)$ be the respective leaf (for $j=1,…,\\#(\\pi))$, and let $\\#(\\pi)$ be the number of leaves in tree $\\pi$. The leaf $l_j (x,\\pi)$ of tree $\\pi$ is a function of the covariate space of $X_{i}$ (for $i = 1,..., N$ used cars) such that $x \\in l_j$. \n",
    "\n",
    "For an explicit example, consider that $X_{i}$ contains only a binary indicator for used diesel cars. Then, you can choose between two possible trees; either you make no sample split, $\\pi'=\\{ l_1 \\}=\\{ \\mbox{diesel}, \\mbox{gasoline} \\}$, or you partition used diesel and gasoline cars into two separate leaves, $\\pi'' =\\{ l_1,l_2 \\}= \\{ \\{ \\mbox{diesel} \\}, \\{ \\mbox{gasoline} \\} \\}$.  \n",
    "\n",
    "\n",
    "For a specific sample partition $\\pi$, which is called tree, you can predict the final used car price by\n",
    "\\begin{equation*}\n",
    "\\hat{E}[final\\_price|(x,\\pi)] = \\frac{1}{\\sum_{i=1}^{N}1\\{ X_{i} \\in l_j(x,\\pi)\\}}\\sum_{i=1}^{N} 1\\{ X_{i} \\in l_j(x,\\pi)\\} \\cdot final\\_price.\n",
    "\\end{equation*}\n",
    "Trees select the partition $\\pi$ with a greedy algorithm, i.e., by recursively adding leaves to the tree that minimise the MSE. Accordingly, trees aim to partition the sample into leaves with homogeneous outcomes. Because of the a hierarchical partition structure, the first splits contribute more prediction power than the last splits. "
   ]
  },
  {
   "cell_type": "code",
   "execution_count": null,
   "metadata": {},
   "outputs": [],
   "source": []
  },
  {
   "cell_type": "code",
   "execution_count": null,
   "metadata": {},
   "outputs": [],
   "source": []
  },
  {
   "cell_type": "code",
   "execution_count": 41,
   "metadata": {},
   "outputs": [
    {
     "name": "stdout",
     "output_type": "stream",
     "text": [
      "          CP nsplit rel error    xerror       xstd\n",
      "1 0.33147274      0 1.0000000 1.0002415 0.02666723\n",
      "2 0.08550624      1 0.6685273 0.6687304 0.01997315\n",
      "3 0.07344012      2 0.5830210 0.5841441 0.01969729\n",
      "4 0.02234055      3 0.5095809 0.5040440 0.01708852\n",
      "5 0.02064299      4 0.4872403 0.4805680 0.01694461\n",
      "6 0.01443385      5 0.4665974 0.4702051 0.01675832\n",
      "7 0.01323307      6 0.4521635 0.4551272 0.01669127\n",
      "8 0.00002000      7 0.4389304 0.4427405 0.01666620\n",
      "[1] \"Optimal number final leaves: 8\"\n",
      "[1] \"In-Sample RMSE: 4.696\"\n",
      "[1] \"Hold-out-Sample RMSE: 4.699\"\n",
      "[1] \"In-Sample R-squared: 0.561\"\n",
      "[1] \"Hold-out-Sample R-squared: 0.542\"\n"
     ]
    },
    {
     "data": {
      "image/png": "[encoded data removed]",
      "text/plain": [
       "plot without title"
      ]
     },
     "metadata": {},
     "output_type": "display_data",
     "source": "R display func"
    }
   ],
   "source": [
    "########################  Tree estimator  ########################                         \n",
    "\n",
    "# Prepare data for tree estimator\n",
    "tree_data_obs <-  data.frame(final_price_obs, baseline_covariates_obs)\n",
    "empty <- as.matrix(final_price_hold_out)\n",
    "empty[1,] <-NA\n",
    "tree_data_hold_out <- data.frame(rbind(final_price_obs,empty),rbind(baseline_covariates_obs, baseline_covariates_hold_out))\n",
    "\n",
    "# Setup the formula of the linear regression model\n",
    "sumx <- paste(baseline_covariates, collapse = \" + \")  \n",
    "linear <- paste(\"final_price_obs\",paste(sumx, sep=\" + \"), sep=\" ~ \")\n",
    "linear <- as.formula(linear)\n",
    "\n",
    "# Build the tree\n",
    "linear.singletree_1 <- rpart(formula = linear, data = tree_data_obs , method = \"anova\", xval = 10,\n",
    "                             y = TRUE, control = rpart.control(cp = 0.00002, minbucket=500))\n",
    "\n",
    "# Plot CV-MSE\n",
    "plotcp(linear.singletree_1)\n",
    "\n",
    "# Save CV-MSE as png-file\n",
    "#png(filename= \"cp_tree1.png\", units=\"in\", width=5, height=4, pointsize=12, res=72)\n",
    "#plotcp(linear.singletree_1)\n",
    "#dev.off()\n",
    "\n",
    "# Find tree size that minimises CV-MSE\n",
    "print(linear.singletree_1$cptable)\n",
    "op.index_1 <- which.min(linear.singletree_1$cptable[, \"xerror\"])\n",
    "print(paste0(\"Optimal number final leaves: \", op.index_1))\n",
    "\n",
    "# Get cp-value that corresponds to optimal tree size\n",
    "cp.vals_1 <- linear.singletree_1$cptable[op.index_1, \"CP\"]\n",
    "\n",
    "# Prune the tree\n",
    "treepruned.linearsingle_1 <- prune(linear.singletree_1, cp = cp.vals_1)\n",
    "\n",
    "# Predict final price in the observed and hold-out-samples\n",
    "pred_tree_hold_out_1 <- as.matrix(predict(treepruned.linearsingle_1, newdata=tree_data_hold_out))\n",
    "pred_tree_obs_1 <- pred_tree_hold_out_1[c(1:nrow(tree_data_obs)),]\n",
    "r <-nrow(final_price_obs)+1\n",
    "pred_tree_hold_out_1 <- pred_tree_hold_out_1[c(r:nrow(pred_tree_hold_out_1)),]\n",
    "\n",
    "## Assess performance of tree estimator\n",
    "# In-sample RMSE\n",
    "rmse_obs_1 <- round(sqrt(mean((final_price_obs - pred_tree_obs_1)^2)),digits=3)\n",
    "# Hold-out-sample RMSE\n",
    "rmse_hold_out_1 <- round(sqrt(mean((final_price_hold_out - pred_tree_hold_out_1)^2)),digits=3)\n",
    "# In-sample R-squared\n",
    "r2_obs_1 <- round(1-mean((final_price_obs - pred_tree_obs_1)^2)/mean((final_price_obs - mean(final_price_obs))^2),digits=3)\n",
    "# Hold-out-sample R-squared\n",
    "r2_hold_out_1 <- round(1-mean((final_price_hold_out - pred_tree_hold_out_1)^2)/mean((final_price_hold_out - mean(final_price_hold_out))^2),digits=3)\n",
    "\n",
    "print(paste0(\"In-Sample RMSE: \", rmse_obs_1))\n",
    "print(paste0(\"Hold-out-Sample RMSE: \", rmse_hold_out_1))\n",
    "print(paste0(\"In-Sample R-squared: \", r2_obs_1))\n",
    "print(paste0(\"Hold-out-Sample R-squared: \", r2_hold_out_1))\n",
    "\n"
   ]
  },
  {
   "cell_type": "code",
   "execution_count": null,
   "metadata": {},
   "outputs": [],
   "source": []
  },
  {
   "cell_type": "code",
   "execution_count": 44,
   "metadata": {},
   "outputs": [
    {
     "data": {
      "image/png": "[encoded data removed]",
      "text/plain": [
       "plot without title"
      ]
     },
     "metadata": {},
     "output_type": "display_data",
     "source": "R display func"
    }
   ],
   "source": [
    "########################  Visulatisation of tree  ######################## \n",
    "\n",
    "## Plot tree structure\n",
    "rpart.plot(treepruned.linearsingle_1,digits=3)\n",
    "\n",
    "# Save tree structure as png-file\n",
    "#png(filename= \"full_tree1.png\",units=\"in\", width=9, height=9, pointsize=12,res=72)\n",
    "#rpart.plot(treepruned.linearsingle_1,digits=3)\n",
    "#dev.off()\n"
   ]
  },
  {
   "cell_type": "code",
   "execution_count": null,
   "metadata": {},
   "outputs": [],
   "source": []
  },
  {
   "cell_type": "code",
   "execution_count": 43,
   "metadata": {},
   "outputs": [
    {
     "data": {
      "image/png": "[encoded data removed]",
      "text/plain": [
       "plot without title"
      ]
     },
     "metadata": {},
     "output_type": "display_data",
     "source": "R display func"
    }
   ],
   "source": [
    "#####\n",
    "\n",
    "## Plot average regresor value for each leaf\n",
    "# Take hold-out data only\n",
    "tree_data_out <- data.frame(pred_tree_hold_out_1, baseline_covariates_hold_out)\n",
    "\n",
    "# Map to each individual row the leaf number and add the covariates\n",
    "individual_leaf <- treeClust::rpart.predict.leaves(treepruned.linearsingle_1, tree_data_out)  %>% \n",
    "  as_tibble()  %>% \n",
    "  dplyr::rename(leaf=value) \n",
    "leaf_covariates <- cbind(individual_leaf, tree_data_out[baseline_covariates])\n",
    "\n",
    "# Get predicted final price of each leaf \n",
    "leaf_price <- treepruned.linearsingle_1$frame %>% as_tibble() %>%\n",
    "  dplyr::mutate(row = 1:nrow(.)) %>% \n",
    "  dplyr::filter(var == \"<leaf>\") %>% \n",
    "  dplyr::rename(leaf=row, pred_price=yval) %>% \n",
    "  dplyr::select(leaf, pred_price) \n",
    "\n",
    "# Merge all the information on leaf level\n",
    "leaf_data <- left_join(leaf_covariates, leaf_price, by=\"leaf\")\n",
    "\n",
    "# Mean of each covariate on each leaf, \n",
    "# Leafs sorted and renumbered by predicted prive\n",
    "leaf_mean <- leaf_data %>% \n",
    "  dplyr::group_by(leaf) %>%\n",
    "  dplyr::summarise_all(mean) %>%\n",
    "  dplyr::arrange(desc(pred_price)) %>%\n",
    "  dplyr::mutate(leaf = 1:nrow(.)) \n",
    "\n",
    "# Plot\n",
    "plt <- leaf_mean %>% \n",
    "  dplyr::select(leaf, baseline_covariates[c(16:1)]) %>%\n",
    "  melt(id=\"leaf\") %>%\n",
    "  ggplot(aes(x=factor(leaf), y=variable, fill=value)) +\n",
    "  geom_raster() +\n",
    "  scale_fill_gradient2() + \n",
    "  scale_x_discrete(breaks=seq_along(leaf_mean$pred_price),      \n",
    "                   labels=round(leaf_mean$pred_price, 1)) +\n",
    "  # From here on, all the code is optional styling\n",
    "  geom_tile(colour=\"white\",size=0.25) +            # white cell border\n",
    "  labs(x=\"Predicted final price\",\n",
    "       y=\"\", title=\"Average covariate value on each leaf\") +# axis labels \n",
    "  coord_fixed()+                                   # square cells\n",
    "  theme_grey(base_size=8)+                         # basic hue \n",
    "  theme(\n",
    "    axis.text=element_text(face=\"bold\"),      # axis font style\n",
    "    plot.background=element_blank(),          # cleaner background\n",
    "    panel.border=element_blank(),             # cleaner panel\n",
    "    legend.key.width=grid::unit(0.2,\"cm\"),    # slim legend color bar\n",
    "    axis.ticks=element_line(size=0.4),        # tick style\n",
    "    axis.text.x=element_text(size=7,          # tick label style\n",
    "                             colour=\"grey40\",\n",
    "                             angle = 60,\n",
    "                             hjust = 1),\n",
    "    plot.title=element_text(colour=\"grey40\",  # plot title style\n",
    "                            hjust=.5,size=7,\n",
    "                            face=\"bold\")\n",
    "  )\n",
    "\n",
    "plot(plt)\n",
    "\n",
    "# Save average covariate values as png-file\n",
    "#png(filename= \"regressor_values.png\",units=\"in\", width=6, height=6, pointsize=38,res=300)\n",
    "#plt\n",
    "#dev.off()"
   ]
  },
  {
   "cell_type": "code",
   "execution_count": null,
   "metadata": {},
   "outputs": [],
   "source": []
  },
  {
   "cell_type": "code",
   "execution_count": null,
   "metadata": {},
   "outputs": [],
   "source": []
  },
  {
   "cell_type": "code",
   "execution_count": null,
   "metadata": {},
   "outputs": [],
   "source": []
  }
 ],
 "metadata": {
  "kernelspec": {
   "display_name": "R",
   "language": "R",
   "name": "ir"
  },
  "language_info": {
   "codemirror_mode": "r",
   "file_extension": ".r",
   "mimetype": "text/x-r-source",
   "name": "R",
   "pygments_lexer": "r",
   "version": "3.5.1"
  }
 },
 "nbformat": 4,
 "nbformat_minor": 2
}
