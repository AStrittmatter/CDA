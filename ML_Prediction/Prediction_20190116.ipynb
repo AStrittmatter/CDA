{
 "cells": [
  {
   "cell_type": "markdown",
   "metadata": {},
   "source": [
    "# PC Session 1"
   ]
  },
  {
   "cell_type": "markdown",
   "metadata": {},
   "source": [
    "# **Machine Learning for Prediction**"
   ]
  },
  {
   "cell_type": "markdown",
   "metadata": {},
   "source": [
    "**Authors:**\n",
    "Jonathan Chassot, [Helge Liebert](https://hliebert.github.io/), and [Anthony Strittmatter](http://www.anthonystrittmatter.com)\n"
   ]
  },
  {
   "cell_type": "markdown",
   "metadata": {},
   "source": [
    "You want to buy an used car at the online auction platform *MyLemons*. You are worried that many used cars on this platform are overpriced. Therefore, you want to do some market research before you buy an used car. For this purpose, you web-scrape the used car offers on the *MyLemons* platform. You obtain the following variables:\n",
    "\n",
    "\n",
    "|Variable name| Description|\n",
    "|:----|:----|\n",
    "|**Outcome variables** ||\n",
    "|*first_price*| First asking price in 1,000 CHF |\n",
    "|*final_price*| Transaction price in 1,000 CHF|\n",
    "|*overprice*| Dummy indicating *first_price > final_price* |\n",
    "|**Baseline covariates**| |\n",
    "|*bmw_320, opel_astra, mercedes_c, vw_golf, vw_passat*| Dummies for the car make and model|\n",
    "|*mileage*| Mileage of the used car (in 1,000 km)|\n",
    "|*age_car_years*| Age of the used car (in years)|\n",
    "|*diesel*| Dummy for diesel engines |\n",
    "|*private_seller*| Dummy for private seller (as opposed to professional used car sellers) |\n",
    "|*other_car_owner*| Number of previous caar owners |\n",
    "|*guarantee*| Dummy indicating that the seller offers a guarantee for the used car|\n",
    "|*maintenance_cert*| Dummy indicating that the seller has a complete maintenace certificate for the used car|\n",
    "|*inspection*| Categorial variable for the duration until next general inspection (3 categories: new, 1-2 years, > 2 years) |\n",
    "|*pm_green*| Dummy indicating that the used car has low particular matter emissions|\n",
    "|*co2_em*| CO2 emssion (in liter per 100km)|\n",
    "|*euro_norm*| EURO emission norm under which the car is registered |\n",
    "\n",
    "\n",
    "Furthermore, you generate some transformations of your covariates that you want to use for later analysis. The transformed covariates are:\n",
    "\n",
    "|Variable name| Description|\n",
    "|:----|:----|\n",
    "|**Additional covariates** ||\n",
    "|*mileage2, mileage3, mileage4, age_car_years2, age_car_years3, age_car_years4*| Squared, cubic, and quadratic *mileage* and *age_car_years* |\n",
    "|*mile_20, mile_30, mile_40, mile_50, mile_100, mile_150*| Dummies indicating that the used car has a mileage above 20,000km, 30,000km, 40,000km, 50,000km, 100,000km, or 150,000km |\n",
    "|*age_3, age_6*| Dummies indicating that the used car is above 3 or 6 years old |\n",
    "|*dur_next_ins_1_2*| Dummy indicating that the duration until the next general inspection is between 1 and 2 years |\n",
    "|*new_inspection*| Dummy indicating that the used car has a new general inspection |\n",
    "\n",
    "\n",
    "You store the prepared data in the file *used_cars.csv*. Now you start you analysis. \n"
   ]
  },
  {
   "cell_type": "markdown",
   "metadata": {},
   "source": [
    "## Load Packages"
   ]
  },
  {
   "cell_type": "markdown",
   "metadata": {},
   "source": [
    "In the first place, you install and load the R-packages you want to use."
   ]
  },
  {
   "cell_type": "code",
   "execution_count": 28,
   "metadata": {},
   "outputs": [
    {
     "name": "stderr",
     "output_type": "stream",
     "text": [
      "also installing the dependencies 'plotrix', 'TeachingDemos'\n",
      "\n"
     ]
    },
    {
     "name": "stdout",
     "output_type": "stream",
     "text": [
      "package 'plotrix' successfully unpacked and MD5 sums checked\n",
      "package 'TeachingDemos' successfully unpacked and MD5 sums checked\n",
      "package 'plotmo' successfully unpacked and MD5 sums checked\n",
      "\n",
      "The downloaded binary packages are in\n",
      "\tC:\\Users\\user\\AppData\\Local\\Temp\\RtmpIlshRe\\downloaded_packages\n"
     ]
    },
    {
     "name": "stderr",
     "output_type": "stream",
     "text": [
      "Warning message:\n",
      "\"package 'plotmo' was built under R version 3.5.2\"Loading required package: plotrix\n",
      "Warning message:\n",
      "\"package 'plotrix' was built under R version 3.5.2\"\n",
      "Attaching package: 'plotrix'\n",
      "\n",
      "The following object is masked from 'package:psych':\n",
      "\n",
      "    rescale\n",
      "\n",
      "Loading required package: TeachingDemos\n",
      "Warning message:\n",
      "\"package 'TeachingDemos' was built under R version 3.5.2\""
     ]
    },
    {
     "ename": "ERROR",
     "evalue": "Error: 'setInternet2' is defunct.\nSee help(\"Defunct\")\n",
     "execution_count": 28,
     "output_type": "error",
     "traceback": [
      "Error: 'setInternet2' is defunct.\nSee help(\"Defunct\")\nTraceback:\n",
      "1. install_github(\"MCKnaus/pkg\")   # at line 19 of file <text>",
      "2. install_remotes(remotes, auth_token = auth_token, host = host, \n .     dependencies = dependencies, upgrade = upgrade, force = force, \n .     quiet = quiet, build = build, build_opts = build_opts, repos = repos, \n .     type = type, ...)",
      "3. vapply(remotes, install_remote, ..., FUN.VALUE = character(1))",
      "4. FUN(X[[i]], ...)",
      "5. remote_package_name(remote)",
      "6. remote_package_name.github_remote(remote)",
      "7. github_DESCRIPTION(username = remote$username, repo = remote$repo, \n .     subdir = remote$subdir, host = remote$host, ref = remote$ref, \n .     pat = remote$auth_token %||% github_pat(), use_curl = use_curl)",
      "8. build_url(host, \"repos\", username, repo, \"contents\", subdir, \n .     \"DESCRIPTION\")",
      "9. download_url(do.call(file.path, as.list(c(host, ...))))",
      "10. download_method_secure()",
      "11. utils::setInternet2(NA)",
      "12. .Defunct()",
      "13. stop(paste(msg, collapse = \"\"), call. = FALSE, domain = NA)"
     ]
    }
   ],
   "source": [
    "########################  Load Packages  ########################\n",
    "\n",
    "# List of required packages\n",
    "pkgs <- c('fBasics', 'corrplot', 'psych', 'glmnet', 'glmnetUtils', 'rpart',\n",
    "          'rpart.plot', 'treeClust', 'randomForest', 'rlang', 'readr', 'devtools',\n",
    "          'tidyverse', 'grf', 'reshape2', 'caret', 'neuralnet', 'plotmo')\n",
    "\n",
    "\n",
    "# Load packages (install if needed)\n",
    "for(pkg in pkgs){\n",
    "    if(!(pkg %in% rownames(installed.packages()))){\n",
    "        install.packages(pkg, repos=\"http://stat.ethz.ch/CRAN\")\n",
    "    }\n",
    "    library(pkg, character.only = TRUE)\n",
    "}\n",
    "\n",
    "# Load non-CRAN packages\n",
    "if(!(pkg %in% 'dmlmt' )){\n",
    "    install_github('MCKnaus/pkg')\n",
    "}\n",
    "library(dmlmt)\n",
    "\n",
    "print('All packages successfully installed and loaded.')"
   ]
  },
  {
   "cell_type": "markdown",
   "metadata": {},
   "source": [
    "## Load Data Frame"
   ]
  },
  {
   "cell_type": "markdown",
   "metadata": {},
   "source": [
    "Now you load the data frame and define different covariate categories. You distinguish between binary and continuous/discrete covariates. Furthermore, you decrease the sample size to 10,000 in order to decrease the computation time while you are testing your code. You plan to use the entire sample of 78,645 used cars after you are finised with programming."
   ]
  },
  {
   "cell_type": "code",
   "execution_count": 29,
   "metadata": {},
   "outputs": [
    {
     "name": "stdout",
     "output_type": "stream",
     "text": [
      "[1] \"Data frame successfully loaded and sample selected.\"\n"
     ]
    }
   ],
   "source": [
    "########################  Load Data Frame  ########################\n",
    "\n",
    "set.seed(100239) # set starting value for random number generator\n",
    "\n",
    "# Load data frame\n",
    "data_raw <- read.csv(\"used_cars.csv\",header=TRUE, sep=\",\")\n",
    "\n",
    "# Outcome Variables\n",
    "outcomes <- c(\"first_price\", \"final_price\", \"overprice\")\n",
    "\n",
    "# Covariates/Features\n",
    "baseline_covariates_bin <- c(\"bmw_320\", \"opel_astra\", \"mercedes_c\", \"vw_golf\", \"vw_passat\", \n",
    "                          \"diesel\",   \"private_seller\", \"guarantee\", \"maintenance_cert\",  \"pm_green\") # binary\n",
    "baseline_covariates_cont <- c(\"mileage\", \"age_car_years\", \"other_car_owner\", \"inspection\",\n",
    "                              \"co2_em\", \"euro_norm\") # continuous/ordered discrete\n",
    "baseline_covariates <- c(baseline_covariates_cont,baseline_covariates_bin)\n",
    "lasso_covariates_bin <- c(\"mile_20\", \"mile_30\", \"mile_40\", \"mile_50\", \"mile_100\", \"mile_150\", \n",
    "                       \"age_3\", \"age_6\",\"dur_next_ins_0\", \"dur_next_ins_1_2\", \"new_inspection\",\n",
    "                       \"euro_1\", \"euro_2\", \"euro_3\", \"euro_4\", \"euro_5\", \"euro_6\") # binary \n",
    "lasso_covariates_cont <- c(\"mileage2\", \"mileage3\", \"mileage4\", \"age_car_years2\", \"age_car_years3\",\n",
    "                           \"age_car_years4\") # continuous\n",
    "\n",
    "lasso_covariates <- c(lasso_covariates_cont, lasso_covariates_bin)  \n",
    "all_covariates <- c(baseline_covariates, lasso_covariates)\n",
    "all_variables <- c(outcomes, baseline_covariates, lasso_covariates)\n",
    "\n",
    "# Selection of Subsample size, max. 104,719 observations\n",
    "# Select smaller subsample to decrease computation time\n",
    "n_obs <- 10000\n",
    "df <- data_raw %>%\n",
    "  dplyr::sample_n(n_obs) %>%\n",
    "  dplyr::select(all_variables)\n",
    "\n",
    "print('Data frame successfully loaded and sample selected.')"
   ]
  },
  {
   "cell_type": "markdown",
   "metadata": {},
   "source": [
    "## Descriptive Statistics"
   ]
  },
  {
   "cell_type": "markdown",
   "metadata": {},
   "source": [
    "### Means and Standard Deviations"
   ]
  },
  {
   "cell_type": "markdown",
   "metadata": {},
   "source": [
    "Now you have a look at the descriptive statistics to check for data errors and missing values."
   ]
  },
  {
   "cell_type": "code",
   "execution_count": 30,
   "metadata": {},
   "outputs": [
    {
     "name": "stdout",
     "output_type": "stream",
     "text": [
      "                        Mean       Stdev Minimum      Maximum  nobs\n",
      "first_price             15.6         7.5     1.2        100.5 10000\n",
      "final_price             15.4         7.4     1.0        100.3 10000\n",
      "overprice                0.3         0.5     0.0          1.0 10000\n",
      "mileage                100.0        50.1    10.0        200.0 10000\n",
      "age_car_years            4.6         2.6     1.0         18.8 10000\n",
      "other_car_owner          1.1         0.7     0.0          4.0 10000\n",
      "inspection               0.9         0.7     0.0          2.0 10000\n",
      "co2_em                 138.7        24.8     1.0        249.0 10000\n",
      "euro_norm                4.8         0.6     1.0          6.0 10000\n",
      "bmw_320                  0.2         0.4     0.0          1.0 10000\n",
      "opel_astra               0.1         0.3     0.0          1.0 10000\n",
      "mercedes_c               0.1         0.3     0.0          1.0 10000\n",
      "vw_golf                  0.2         0.4     0.0          1.0 10000\n",
      "vw_passat                0.3         0.5     0.0          1.0 10000\n",
      "diesel                   0.8         0.4     0.0          1.0 10000\n",
      "private_seller           0.1         0.3     0.0          1.0 10000\n",
      "guarantee                0.1         0.3     0.0          1.0 10000\n",
      "maintenance_cert         0.7         0.4     0.0          1.0 10000\n",
      "pm_green                 0.9         0.3     0.0          1.0 10000\n",
      "mileage2             12514.2     10553.2   100.0      40000.0 10000\n",
      "mileage3           1764480.7   1998231.8  1000.0    8000000.0 10000\n",
      "mileage4         267962959.9 373798094.8 10000.0 1600000000.0 10000\n",
      "age_car_years2          28.3        34.2     1.0        353.4 10000\n",
      "age_car_years3         216.4       439.8     1.0       6644.7 10000\n",
      "age_car_years4        1969.2      6228.1     1.0     124919.8 10000\n",
      "mile_20                  1.0         0.2     0.0          1.0 10000\n",
      "mile_30                  0.9         0.3     0.0          1.0 10000\n",
      "mile_40                  0.8         0.4     0.0          1.0 10000\n",
      "mile_50                  0.8         0.4     0.0          1.0 10000\n",
      "mile_100                 0.5         0.5     0.0          1.0 10000\n",
      "mile_150                 0.2         0.4     0.0          1.0 10000\n",
      "age_3                    0.8         0.4     0.0          1.0 10000\n",
      "age_6                    0.3         0.4     0.0          1.0 10000\n",
      "dur_next_ins_0           0.3         0.5     0.0          1.0 10000\n",
      "dur_next_ins_1_2         0.4         0.5     0.0          1.0 10000\n",
      "new_inspection           0.2         0.4     0.0          1.0 10000\n",
      "euro_1                   0.0         0.0     0.0          1.0 10000\n",
      "euro_2                   0.0         0.0     0.0          1.0 10000\n",
      "euro_3                   0.0         0.1     0.0          1.0 10000\n",
      "euro_4                   0.2         0.4     0.0          1.0 10000\n",
      "euro_5                   0.7         0.5     0.0          1.0 10000\n",
      "euro_6                   0.1         0.2     0.0          1.0 10000\n"
     ]
    }
   ],
   "source": [
    "########################  Table with Descriptive Statistics  ########################\n",
    "\n",
    "desc <- fBasics::basicStats(df) %>% t() %>% as.data.frame() %>% \n",
    "  select(Mean, Stdev, Minimum, Maximum, nobs)\n",
    "print(round(desc, digits=1))\n",
    "\n",
    "# Print as tex-file\n",
    "#kable(desc, \"latex\", booktabs = T)"
   ]
  },
  {
   "cell_type": "markdown",
   "metadata": {},
   "source": [
    "### Correlation Matrix"
   ]
  },
  {
   "cell_type": "markdown",
   "metadata": {},
   "source": [
    "You plot the correlation matrix. The correlation structure between the covariates is important for the later interpretation of the results."
   ]
  },
  {
   "cell_type": "code",
   "execution_count": 31,
   "metadata": {},
   "outputs": [
    {
     "data": {
      "image/png": "[encoded data removed]",
      "text/plain": [
       "Plot with title \"\""
      ]
     },
     "metadata": {},
     "output_type": "display_data",
     "source": "R display func"
    }
   ],
   "source": [
    "########################  Correlation Matrix  ########################\n",
    "\n",
    "corr = cor(df)\n",
    "corrplot(corr, type = \"upper\", tl.col = \"black\")\n",
    "\n",
    "# Save correlation matrix as png-file\n",
    "#png(height=1200, width=1200, file=\"correlation.png\")\n",
    "    #corrplot(corr, type = \"upper\", tl.col = \"black\")\n",
    "#dev.off()\n"
   ]
  },
  {
   "cell_type": "markdown",
   "metadata": {},
   "source": [
    "## Extract Data"
   ]
  },
  {
   "cell_type": "markdown",
   "metadata": {},
   "source": [
    "You extract the different variable categories from your data frame and drop observations with missing values."
   ]
  },
  {
   "cell_type": "code",
   "execution_count": 32,
   "metadata": {},
   "outputs": [
    {
     "name": "stdout",
     "output_type": "stream",
     "text": [
      "[1] \"Data successfully extracted.\"\n"
     ]
    }
   ],
   "source": [
    "########################  Extract Dataset  ########################\n",
    "\n",
    "# Extracting continuous variables\n",
    "baseline_covariates_cont <- df %>%\n",
    "  dplyr::select(baseline_covariates_cont) \n",
    "\n",
    "lasso_covariates_cont <- df %>%\n",
    "  dplyr::select(lasso_covariates_cont) \n",
    "\n",
    "# Extracting indicator variables\n",
    "baseline_covariates_bin <- df %>%\n",
    "  dplyr::select(baseline_covariates_bin)\n",
    "\n",
    "lasso_covariates_bin <- df %>%\n",
    "  dplyr::select(lasso_covariates_bin)\n",
    "\n",
    "# Extracting outcome \n",
    "outcomes <- df %>% dplyr::select(outcomes)\n",
    "\n",
    "# Setting up the data, renaming columns and discarding rows with NA (if any)\n",
    "df <- bind_cols(outcomes, baseline_covariates_cont, baseline_covariates_bin, lasso_covariates_cont, lasso_covariates_bin) %>%\n",
    "  na.omit()\n",
    "\n",
    "print('Data successfully extracted.')"
   ]
  },
  {
   "cell_type": "markdown",
   "metadata": {},
   "source": [
    "## Take Hold-Out-Sample and Scale Data"
   ]
  },
  {
   "cell_type": "markdown",
   "metadata": {},
   "source": [
    "You want to compare the relative prediction power of different estimation procedures based on the out-of-sample MSE and $R^2$. For this purpose, you create a training/estimation- and hold-out-sample. You will use the training/estimation-sample to train the machine learning procedures and estimate the final used car prices. Then you will extrapolate the results to the retared hold-out-sample.\n",
    "\n",
    "\n",
    "Furthermore, you standardise the continuous covariates by the means and standard deviations in the training/estimation-sample. Some machine learning algorithms are sensitive to rescaling. Even though most machine learning procedures standardise the covariates automatically, this is a cautionary transformation for those procedures that have no automatic standardisation implemented."
   ]
  },
  {
   "cell_type": "code",
   "execution_count": 33,
   "metadata": {},
   "outputs": [
    {
     "name": "stdout",
     "output_type": "stream",
     "text": [
      "[1] \"The data is now ready for your first analysis!\"\n"
     ]
    }
   ],
   "source": [
    "########################  Take Hold-Out-Sample  ########################\n",
    "\n",
    "df_part <- modelr::resample_partition(df, c(obs = 0.8, hold_out = 0.2))\n",
    "df_obs <- as.data.frame(df_part$obs) # Training and estimation sample\n",
    "df_hold_out <- as.data.frame(df_part$hold_out) # Hold-out-sample\n",
    "\n",
    "# Outcomes\n",
    "first_price_obs <- as.matrix(df_obs[,1])\n",
    "final_price_obs <- as.matrix(df_obs[,2])\n",
    "overprice_obs <- as.matrix(df_obs[,3])\n",
    "\n",
    "first_price_hold_out <- as.matrix(df_hold_out[,1])\n",
    "final_price_hold_out <- as.matrix(df_hold_out[,2])\n",
    "overprice_hold_out <- as.matrix(df_hold_out[,3])\n",
    "\n",
    "## Covariates/Features\n",
    "baseline_covariates_cont_obs <- as.matrix(df_obs[,c(4:9)])\n",
    "baseline_covariates_bin_obs <- as.matrix(df_obs[,c(10:19)])\n",
    "baseline_covariates_hold_cont_out <- as.matrix(df_hold_out[,c(4:9)])\n",
    "baseline_covariates_hold_bin_out <- as.matrix(df_hold_out[,c(10:19)])\n",
    "\n",
    "# Standardise continuous variables\n",
    "preProcValues <- preProcess(baseline_covariates_cont_obs, method = c(\"center\", \"scale\")) # Take means and standard deviations from training sample\n",
    "ObsTransformed <- predict(preProcValues, baseline_covariates_cont_obs) # Apply the transformation to trainings sample\n",
    "HoldOutTransformed <- predict(preProcValues, baseline_covariates_hold_cont_out) # Apply the transformation to hold-out-sample (based on means and standard deviations from training sample)\n",
    "# Note: Outcome variables are not rescaled\n",
    "\n",
    "baseline_covariates_obs <- as.matrix(cbind(ObsTransformed,baseline_covariates_bin_obs)) \n",
    "baseline_covariates_hold_out <- as.matrix(cbind(HoldOutTransformed,baseline_covariates_hold_bin_out)) \n",
    "                  \n",
    "print('The data is now ready for your first analysis!')"
   ]
  },
  {
   "cell_type": "markdown",
   "metadata": {},
   "source": [
    "# Tree Estimators"
   ]
  },
  {
   "cell_type": "markdown",
   "metadata": {},
   "source": [
    "You start the prediction of the final used car price with a tree estimator. Trees partition the sample into mutually exclusive groups $l_j$, which are called terminal leaves. Let $\\pi= \\{ l_1, ...,l_{\\# (\\pi)} \\}$ be a specific tree or sample partition, let $l_j \\equiv l_j (x,\\pi)$ be the respective terminal leaf (for $j=1,…,\\#(\\pi))$, and let $\\#(\\pi)$ be the number of terminal leaves in tree $\\pi$. The terminal leaf $l_j (x,\\pi)$ of tree $\\pi$ is a function of the covariates $X_{i}$ (for $i = 1,..., N$ used cars) such that $x \\in l_j$. \n",
    "\n",
    "For an explicit example, consider that $X_{i}$ contains only a binary indicator for used diesel cars. Then, you can choose between two possible trees; either you make no sample split, $\\pi'=\\{ l_1 \\}=\\{ \\mbox{diesel}, \\mbox{gasoline} \\}$, or you partition used diesel and gasoline cars into two separate leaves, $\\pi'' =\\{ l_1,l_2 \\}= \\{ \\{ \\mbox{diesel} \\}, \\{ \\mbox{gasoline} \\} \\}$.  \n",
    "\n",
    "Trees select the partition $\\pi$ by recursively adding leaves to the tree that minimise the MSE. Accordingly, trees aim to partition the sample into leaves with homogeneous outcomes. Because of the hierarchical partition structure, the first splits contribute more prediction power than the last splits. \n",
    "\n",
    "\n",
    "For a specific tree $\\pi$, you can predict the final used car price by\n",
    "\\begin{equation*}\n",
    "\\hat{E}[final\\_price|(x,\\pi)] = \\frac{1}{\\sum_{i=1}^{N}1\\{ X_{i} \\in l_j(x,\\pi)\\}}\\sum_{i=1}^{N} 1\\{ X_{i} \\in l_j(x,\\pi)\\} \\cdot final\\_price.\n",
    "\\end{equation*}\n",
    "\n"
   ]
  },
  {
   "cell_type": "markdown",
   "metadata": {},
   "source": [
    "## Shallow Tree"
   ]
  },
  {
   "cell_type": "markdown",
   "metadata": {},
   "source": [
    "You start the analysis with a reletively small (shallow) tree, by imposing that each terminal leave needs to contain at least 500 used cars."
   ]
  },
  {
   "cell_type": "code",
   "execution_count": 34,
   "metadata": {},
   "outputs": [
    {
     "name": "stdout",
     "output_type": "stream",
     "text": [
      "[1] \"Relative CV-MSE for different tree sizes\"\n",
      "            CP nsplit rel error    xerror       xstd\n",
      "1  0.291455755      0 1.0000000 1.0003493 0.04061802\n",
      "2  0.082146764      1 0.7085442 0.7184214 0.03833520\n",
      "3  0.070593817      2 0.6263975 0.6558555 0.03869249\n",
      "4  0.052987040      3 0.5558037 0.5840473 0.03777743\n",
      "5  0.023149332      4 0.5028166 0.5235351 0.03658154\n",
      "6  0.015483663      5 0.4796673 0.4993662 0.03627949\n",
      "7  0.012913279      6 0.4641836 0.4878109 0.03625677\n",
      "8  0.011779786      7 0.4512704 0.4716951 0.03606987\n",
      "9  0.005406536      8 0.4394906 0.4711068 0.03606734\n",
      "10 0.004826355      9 0.4340840 0.4711068 0.03606734\n",
      "11 0.000020000     10 0.4292577 0.4711068 0.03606734\n"
     ]
    },
    {
     "data": {
      "image/png": "[encoded data removed]",
      "text/plain": [
       "plot without title"
      ]
     },
     "metadata": {},
     "output_type": "display_data",
     "source": "R display func"
    }
   ],
   "source": [
    "########################  Build Trees with different Leave Sizes  ########################                         \n",
    "\n",
    "# Prepare data for tree estimator\n",
    "tree_data_obs <-  data.frame(final_price_obs, baseline_covariates_obs)\n",
    "empty <- as.matrix(final_price_hold_out)\n",
    "empty[1,] <-NA\n",
    "tree_data_hold_out <- data.frame(rbind(final_price_obs,empty),rbind(baseline_covariates_obs, baseline_covariates_hold_out))\n",
    "\n",
    "# Setup the formula of the linear regression model\n",
    "sumx <- paste(baseline_covariates, collapse = \" + \")  \n",
    "linear <- paste(\"final_price_obs\",paste(sumx, sep=\" + \"), sep=\" ~ \")\n",
    "linear <- as.formula(linear)\n",
    "\n",
    "# Build the tree\n",
    "linear.singletree_1 <- rpart(formula = linear, data = tree_data_obs , method = \"anova\", xval = 10,\n",
    "                             y = TRUE, control = rpart.control(cp = 0.00002, minbucket=500))\n",
    "# Note: 'minbucket=500' imposes the restriction that each terminal leave should contain at least 500 used cars. Algorithm 'rpart' stops growing trees when either one leave has less than 500 observations or the MSE gain of addidng one addidtional leave is below cp=0.00002.\n",
    "\n",
    "print('Relative CV-MSE for different tree sizes')\n",
    "print(linear.singletree_1$cptable)\n",
    "\n",
    "# Plot CV-MSE\n",
    "plotcp(linear.singletree_1)\n",
    "\n",
    "# Save CV-MSE as png-file\n",
    "#png(filename= \"cp_tree1.png\", units=\"in\", width=5, height=4, pointsize=12, res=72)\n",
    "#plotcp(linear.singletree_1)\n",
    "#dev.off()"
   ]
  },
  {
   "cell_type": "markdown",
   "metadata": {},
   "source": [
    "In the next step, you select the tree that minimises the CV-MSE."
   ]
  },
  {
   "cell_type": "code",
   "execution_count": 35,
   "metadata": {},
   "outputs": [
    {
     "name": "stdout",
     "output_type": "stream",
     "text": [
      "[1] \"Optimal number final leaves: 9\"\n"
     ]
    }
   ],
   "source": [
    "########################  Select the Tree that Minimises CV-MSE  ######################## \n",
    "\n",
    "op.index_1 <- which.min(linear.singletree_1$cptable[, \"xerror\"])\n",
    "print(paste0(\"Optimal number final leaves: \", op.index_1))\n",
    "\n",
    "# Get cp-value that corresponds to optimal tree size\n",
    "cp.vals_1 <- linear.singletree_1$cptable[op.index_1, \"CP\"]"
   ]
  },
  {
   "cell_type": "markdown",
   "metadata": {},
   "source": [
    "The CV-MSE is minimised at the maximum leave size of eight. This suggests that the tree is not deep enough to unfold the bias-variance trade-off. For illustrational purposes, we continue working with this shallow tree, but later we will relax the restrictions on the minimum leave size.\n",
    "\n",
    "Now you estimate the optimal tree and estimate out-of-sample RMSE and $R^2$ to compare the relative performance of different approaches."
   ]
  },
  {
   "cell_type": "code",
   "execution_count": 36,
   "metadata": {},
   "outputs": [
    {
     "name": "stdout",
     "output_type": "stream",
     "text": [
      "[1] \"In-Sample RMSE: 5.004\"\n",
      "[1] \"Hold-out-Sample RMSE: 4.421\"\n",
      "[1] \"In-Sample R-squared: 0.561\"\n",
      "[1] \"Hold-out-Sample R-squared: 0.592\"\n"
     ]
    }
   ],
   "source": [
    "########################  Select the Optimal Tree and Assess Out-of-Sample Performance  ######################## \n",
    "\n",
    "# Prune the tree\n",
    "treepruned.linearsingle_1 <- prune(linear.singletree_1, cp = cp.vals_1)\n",
    "\n",
    "# Predict final price in the observed and hold-out-samples\n",
    "pred_tree_hold_out_1 <- as.matrix(predict(treepruned.linearsingle_1, newdata=tree_data_hold_out))\n",
    "pred_tree_obs_1 <- pred_tree_hold_out_1[c(1:nrow(tree_data_obs)),]\n",
    "r <-nrow(final_price_obs)+1\n",
    "pred_tree_hold_out_1 <- pred_tree_hold_out_1[c(r:nrow(pred_tree_hold_out_1)),]\n",
    "\n",
    "## Assess performance of tree estimator\n",
    "# In-sample RMSE\n",
    "rmse_obs_1 <- round(sqrt(mean((final_price_obs - pred_tree_obs_1)^2)),digits=3)\n",
    "# Hold-out-sample RMSE\n",
    "rmse_hold_out_1 <- round(sqrt(mean((final_price_hold_out - pred_tree_hold_out_1)^2)),digits=3)\n",
    "# In-sample R-squared\n",
    "r2_obs_1 <- round(1-mean((final_price_obs - pred_tree_obs_1)^2)/mean((final_price_obs - mean(final_price_obs))^2),digits=3)\n",
    "# Hold-out-sample R-squared\n",
    "r2_hold_out_1 <- round(1-mean((final_price_hold_out - pred_tree_hold_out_1)^2)/mean((final_price_hold_out - mean(final_price_hold_out))^2),digits=3)\n",
    "\n",
    "print(paste0(\"In-Sample RMSE: \", rmse_obs_1))\n",
    "print(paste0(\"Hold-out-Sample RMSE: \", rmse_hold_out_1))\n",
    "print(paste0(\"In-Sample R-squared: \", r2_obs_1))\n",
    "print(paste0(\"Hold-out-Sample R-squared: \", r2_hold_out_1))"
   ]
  },
  {
   "cell_type": "markdown",
   "metadata": {},
   "source": [
    "By splitting the sample into eight groups, you can explain already 54\\% of the out-of-sample *final_price*. Next, you visualise the tree by plotting the tree structure."
   ]
  },
  {
   "cell_type": "code",
   "execution_count": 37,
   "metadata": {},
   "outputs": [
    {
     "data": {
      "image/png": "[encoded data removed]",
      "text/plain": [
       "plot without title"
      ]
     },
     "metadata": {},
     "output_type": "display_data",
     "source": "R display func"
    }
   ],
   "source": [
    "########################  Visulatisation of tree  ######################## \n",
    "\n",
    "## Plot tree structure\n",
    "#plot(treepruned.linearsingle_1,digits=3)\n",
    "# Note: All continuous variables are standardised.\n",
    "\n",
    "# Save tree structure as png-file\n",
    "#png(filename= \"full_tree1.png\",units=\"in\", width=9, height=9, pointsize=12,res=72)\n",
    "rpart.plot(treepruned.linearsingle_1,digits=3)\n",
    "#dev.off()\n"
   ]
  },
  {
   "cell_type": "markdown",
   "metadata": {},
   "source": [
    "You have to be careful when interpreting the leaves of the tree. That some sample splits are based on, e.g., *car_age_years* does not necessarily mean that *car_age_years* causally affects *final_price*. The reason is, *car_age_years* is correlated with several other covartiates (e.g., *mileage* and *co2_em*). Possibly, the causal effect operates through one of the correlated covariates and *car_age_years* is just a good proxy. To demonstrate this, you plot in the next step the average regressor value for each leaf.\n"
   ]
  },
  {
   "cell_type": "code",
   "execution_count": 38,
   "metadata": {},
   "outputs": [
    {
     "data": {
      "image/png": "[encoded data removed]",
      "text/plain": [
       "plot without title"
      ]
     },
     "metadata": {},
     "output_type": "display_data",
     "source": "R display func"
    }
   ],
   "source": [
    "########################  Plot Average Regresor Value for Each Leaf  ######################## \n",
    "## Code from Susan Athey and Guido Imbens AEA lecture\n",
    "\n",
    "# Take hold-out data only\n",
    "tree_data_out <- data.frame(pred_tree_hold_out_1, baseline_covariates_hold_out)\n",
    "\n",
    "# Map to each individual row the leaf number and add the covariates\n",
    "individual_leaf <- treeClust::rpart.predict.leaves(treepruned.linearsingle_1, tree_data_out)  %>% \n",
    "  as_tibble()  %>% \n",
    "  dplyr::rename(leaf=value) \n",
    "leaf_covariates <- cbind(individual_leaf, tree_data_out[baseline_covariates])\n",
    "\n",
    "# Get predicted final price of each leaf \n",
    "leaf_price <- treepruned.linearsingle_1$frame %>% as_tibble() %>%\n",
    "  dplyr::mutate(row = 1:nrow(.)) %>% \n",
    "  dplyr::filter(var == \"<leaf>\") %>% \n",
    "  dplyr::rename(leaf=row, pred_price=yval) %>% \n",
    "  dplyr::select(leaf, pred_price) \n",
    "\n",
    "# Merge all the information on leaf level\n",
    "leaf_data <- left_join(leaf_covariates, leaf_price, by=\"leaf\")\n",
    "\n",
    "# Mean of each covariate on each leaf, \n",
    "# Leafs sorted and renumbered by predicted prive\n",
    "leaf_mean <- leaf_data %>% \n",
    "  dplyr::group_by(leaf) %>%\n",
    "  dplyr::summarise_all(mean) %>%\n",
    "  dplyr::arrange(desc(pred_price)) %>%\n",
    "  dplyr::mutate(leaf = 1:nrow(.)) \n",
    "\n",
    "# Plot\n",
    "plt <- leaf_mean %>% \n",
    "  dplyr::select(leaf, baseline_covariates[c(16:1)]) %>%\n",
    "  melt(id=\"leaf\") %>%\n",
    "  ggplot(aes(x=factor(leaf), y=variable, fill=value)) +\n",
    "  geom_raster() +\n",
    "  scale_fill_gradient2() + \n",
    "  scale_x_discrete(breaks=seq_along(leaf_mean$pred_price),      \n",
    "                   labels=round(leaf_mean$pred_price, 1)) +\n",
    "  # From here on, all the code is optional styling\n",
    "  geom_tile(colour=\"white\",size=0.25) +            # white cell border\n",
    "  labs(x=\"Predicted final price\",\n",
    "       y=\"\", title=\"Average covariate value for each leaf\") +# axis labels \n",
    "  coord_fixed()+                                   # square cells\n",
    "  theme_grey(base_size=8)+                         # basic hue \n",
    "  theme(\n",
    "    axis.text=element_text(face=\"bold\"),      # axis font style\n",
    "    plot.background=element_blank(),          # cleaner background\n",
    "    panel.border=element_blank(),             # cleaner panel\n",
    "    legend.key.width=grid::unit(0.2,\"cm\"),    # slim legend color bar\n",
    "    axis.ticks=element_line(size=0.4),        # tick style\n",
    "    axis.text.x=element_text(size=7,          # tick label style\n",
    "                             colour=\"grey40\",\n",
    "                             angle = 60,\n",
    "                             hjust = 1),\n",
    "    plot.title=element_text(colour=\"grey40\",  # plot title style\n",
    "                            hjust=.5,size=7,\n",
    "                            face=\"bold\")\n",
    "  )\n",
    "\n",
    "plot(plt)\n",
    "\n",
    "# Save average covariate values as png-file\n",
    "#png(filename= \"regressor_values.png\",units=\"in\", width=6, height=6, pointsize=38,res=300)\n",
    "#plt\n",
    "#dev.off()"
   ]
  },
  {
   "cell_type": "markdown",
   "metadata": {},
   "source": [
    "The structure of the average covariates is similar for *milage*, *age_car_years* and negatively correlated with *inspection* and *euro_norm*. Accordingly, all of these variables could to some extend replace each other for the prediction of *final_price*. If anything, those covariates with little variation in the colour are less important to predict *final_price*."
   ]
  },
  {
   "cell_type": "markdown",
   "metadata": {},
   "source": [
    "## Deep Tree"
   ]
  },
  {
   "cell_type": "code",
   "execution_count": 68,
   "metadata": {},
   "outputs": [],
   "source": [
    "#Now you relax the restriction on the minimum leave size."
   ]
  },
  {
   "cell_type": "code",
   "execution_count": 39,
   "metadata": {},
   "outputs": [
    {
     "name": "stdout",
     "output_type": "stream",
     "text": [
      "[1] \"Optimal number final leaves: 249\"\n"
     ]
    },
    {
     "data": {
      "image/png": "[encoded data removed]",
      "text/plain": [
       "plot without title"
      ]
     },
     "metadata": {},
     "output_type": "display_data",
     "source": "R display func"
    }
   ],
   "source": [
    "######################## Deep tree estimator  ########################                         \n",
    "\n",
    "# Build deep Tree\n",
    "linear.singletree_2 <- rpart(formula = linear, data = tree_data_obs , method = \"anova\", xval = 10,\n",
    "                             y = TRUE, control = rpart.control(cp = 0.00002, minbucket=5))\n",
    "\n",
    "# Find tree size that minimises CV-MSE\n",
    "op.index_2 <- which.min(linear.singletree_2$cptable[, \"xerror\"])\n",
    "print(paste0(\"Optimal number final leaves: \", op.index_2))\n",
    "\n",
    "# Plot CV-MSE\n",
    "plotcp(linear.singletree_2)\n",
    "abline(v = op.index_2, lty = \"dashed\")\n"
   ]
  },
  {
   "cell_type": "code",
   "execution_count": null,
   "metadata": {},
   "outputs": [],
   "source": []
  },
  {
   "cell_type": "code",
   "execution_count": 40,
   "metadata": {},
   "outputs": [
    {
     "name": "stderr",
     "output_type": "stream",
     "text": [
      "Warning message:\n",
      "\"labs do not fit even at cex 0.15, there may be some overplotting\""
     ]
    },
    {
     "data": {
      "image/png": "[encoded data removed]",
      "text/plain": [
       "plot without title"
      ]
     },
     "metadata": {},
     "output_type": "display_data",
     "source": "R display func"
    },
    {
     "data": {
      "image/png": "[encoded data removed]",
      "text/plain": [
       "Plot with title \"First few leaves\""
      ]
     },
     "metadata": {},
     "output_type": "display_data",
     "source": "R display func"
    }
   ],
   "source": [
    "# Get cp-value that corresponds to optimal tree size\n",
    "cp.vals_2 <- linear.singletree_2$cptable[op.index_2, \"CP\"]\n",
    "\n",
    "# Prune the tree\n",
    "treepruned.linearsingle_2 <- prune(linear.singletree_2, cp = cp.vals_2)\n",
    "\n",
    "# Plot tree structure\n",
    "rpart.plot(treepruned.linearsingle_2,digits=3)\n",
    "treepruned.linearsingle_2_short <- prune(linear.singletree_2, cp = 150*cp.vals_2)\n",
    "rpart.plot(treepruned.linearsingle_2_short,digits=3, main = \"First few leaves\",fallen.leaves=FALSE)\n"
   ]
  },
  {
   "cell_type": "code",
   "execution_count": null,
   "metadata": {},
   "outputs": [],
   "source": []
  },
  {
   "cell_type": "code",
   "execution_count": 42,
   "metadata": {},
   "outputs": [
    {
     "name": "stdout",
     "output_type": "stream",
     "text": [
      "[1] \"In-Sample RMSE: 2.906\"\n",
      "[1] \"Hold-out-Sample RMSE: 2.756\"\n",
      "[1] \"In-Sample R-squared: 0.852\"\n",
      "[1] \"Hold-out-Sample R-squared: 0.841\"\n"
     ]
    }
   ],
   "source": [
    "# Predict final price in the observed and hold-out-samples\n",
    "pred_tree_hold_out_2 <- as.matrix(predict(treepruned.linearsingle_2, newdata=tree_data_hold_out))\n",
    "pred_tree_obs_2 <- pred_tree_hold_out_2[c(1:nrow(tree_data_obs)),]\n",
    "r <-nrow(final_price_obs)+1\n",
    "pred_tree_hold_out_2 <- pred_tree_hold_out_2[c(r:nrow(pred_tree_hold_out_2)),]\n",
    "\n",
    "## Assess performance of tree estimator\n",
    "# In-sample RMSE\n",
    "rmse_obs_2 <- round(sqrt(mean((final_price_obs - pred_tree_obs_2)^2)),digits=3)\n",
    "# Hold-out-sample RMSE\n",
    "rmse_hold_out_2 <- round(sqrt(mean((final_price_hold_out - pred_tree_hold_out_2)^2)),digits=3)\n",
    "# In-sample R-squared\n",
    "r2_obs_2 <- round(1-mean((final_price_obs - pred_tree_obs_2)^2)/mean((final_price_obs - mean(final_price_obs))^2),digits=3)\n",
    "# Hold-out-sample R-squared\n",
    "r2_hold_out_2 <- round(1-mean((final_price_hold_out - pred_tree_hold_out_2)^2)/mean((final_price_hold_out - mean(final_price_hold_out))^2),digits=3)\n",
    "\n",
    "print(paste0(\"In-Sample RMSE: \", rmse_obs_2))\n",
    "print(paste0(\"Hold-out-Sample RMSE: \", rmse_hold_out_2))\n",
    "print(paste0(\"In-Sample R-squared: \", r2_obs_2))\n",
    "print(paste0(\"Hold-out-Sample R-squared: \", r2_hold_out_2))"
   ]
  },
  {
   "cell_type": "code",
   "execution_count": null,
   "metadata": {},
   "outputs": [],
   "source": []
  },
  {
   "cell_type": "markdown",
   "metadata": {},
   "source": [
    "## Deep Honest Tree"
   ]
  },
  {
   "cell_type": "code",
   "execution_count": null,
   "metadata": {},
   "outputs": [],
   "source": []
  },
  {
   "cell_type": "code",
   "execution_count": 43,
   "metadata": {},
   "outputs": [
    {
     "name": "stdout",
     "output_type": "stream",
     "text": [
      "[1] \"Optimal number final leaves: 346\"\n",
      "[1] \"Training-Sample RMSE: 2.88\"\n",
      "[1] \"Estimation-Sample RMSE: 3.712\"\n",
      "[1] \"Hold-out-Sample RMSE: 3.048\"\n",
      "[1] \"Training-Sample R-squared: 0.854\"\n",
      "[1] \"Estimation-Sample R-squared: 0.758\"\n",
      "[1] \"Hold-out-Sample R-squared: 0.806\"\n"
     ]
    },
    {
     "data": {
      "image/png": "[encoded data removed]",
      "text/plain": [
       "plot without title"
      ]
     },
     "metadata": {},
     "output_type": "display_data",
     "source": "R display func"
    }
   ],
   "source": [
    "######################## Honest deep tree estimator ########################                        \n",
    "\n",
    "# Create tratining and estimation sample\n",
    "df_obs_part <- modelr::resample_partition(df_obs, c(train = 0.5, est = 0.5))\n",
    "df_train <- as.data.frame(df_obs_part$train)\n",
    "df_est <- as.data.frame(df_obs_part$est)\n",
    "\n",
    "# Outcomes\n",
    "final_price_train <- as.matrix(df_train[,2])\n",
    "final_price_est <- as.matrix(df_est[,2])\n",
    "\n",
    "# Covariates/Features\n",
    "baseline_covariates_hold_cont_out <- as.matrix(df_hold_out[,c(4:9)])\n",
    "baseline_covariates_cont_train <- as.matrix(df_train[,c(4:9)]) \n",
    "baseline_covariates_cont_est <- as.matrix(df_est[,c(4:9)])\n",
    "baseline_covariates_hold_bin_out <- as.matrix(df_hold_out[,c(10:19)])\n",
    "baseline_covariates_bin_train <- as.matrix(df_train[,c(10:19)]) \n",
    "baseline_covariates_bin_est <- as.matrix(df_est[,c(10:19)])\n",
    "\n",
    "# Scale continuous variables\n",
    "preProcValues <- preProcess(baseline_covariates_cont_train, method = c(\"center\", \"scale\"))\n",
    "TrainTransformed <- predict(preProcValues, baseline_covariates_cont_train)\n",
    "HoldOutTransformed <- predict(preProcValues, baseline_covariates_hold_cont_out)\n",
    "EstTransformed <- predict(preProcValues, baseline_covariates_cont_est)\n",
    "\n",
    "baseline_covariates_hold_out <- as.matrix(cbind(HoldOutTransformed,baseline_covariates_hold_bin_out)) \n",
    "baseline_covariates_train <- as.matrix(cbind(TrainTransformed,baseline_covariates_bin_train)) \n",
    "baseline_covariates_est <- as.matrix(cbind(EstTransformed,baseline_covariates_bin_est)) \n",
    "\n",
    "# Prepare data for tree estimator\n",
    "tree_data_train <-  data.frame(final_price_train, baseline_covariates_train)\n",
    "empty1 <- as.matrix(final_price_train)\n",
    "empty1[1,] <-NA\n",
    "empty2 <- as.matrix(final_price_hold_out)\n",
    "empty2[1,] <-NA\n",
    "tree_data_hold_out <-  data.frame(rbind(empty1,final_price_est,empty2),rbind(baseline_covariates_train,baseline_covariates_est, baseline_covariates_hold_out))\n",
    "\n",
    "# Setup the formula of the linear regression model\n",
    "linear <- paste(\"final_price_train\",paste(sumx, sep=\" + \"), sep=\" ~ \")\n",
    "linear <- as.formula(linear)\n",
    "\n",
    "# Build deep tree\n",
    "linear.singletree_3 <- rpart(formula = linear, data = tree_data_train , method = \"anova\", xval = 10,\n",
    "                             y = TRUE, control = rpart.control(cp = 0.00002, minbucket=5))\n",
    "\n",
    "\n",
    "# Find tree size that minimises CV-MSE\n",
    "op.index_3 <- which.min(linear.singletree_3$cptable[, \"xerror\"])\n",
    "print(paste0(\"Optimal number final leaves: \", op.index_3))\n",
    "\n",
    "# Plot CV-MSE\n",
    "plotcp(linear.singletree_3)\n",
    "abline(v = op.index_3, lty = \"dashed\")\n",
    "\n",
    "# Get cp-value that corresponds to optimal tree size\n",
    "cp.vals_3 <- linear.singletree_3$cptable[op.index_3, \"CP\"]\n",
    "\n",
    "# Prune the tree\n",
    "treepruned.linearsingle_3 <- prune(linear.singletree_3, cp = cp.vals_3)\n",
    "\n",
    "# Predict final price in the observed and hold-out-samples\n",
    "pred_tree_hold_out_3 <- as.matrix(predict(treepruned.linearsingle_3, newdata=tree_data_hold_out))\n",
    "pred_tree_train_3 <- pred_tree_hold_out_3[c(1:nrow(final_price_train)),]\n",
    "r <-nrow(final_price_train)+1\n",
    "pred_tree_est_3 <- pred_tree_hold_out_3[c(r:nrow(final_price_obs)),]\n",
    "r <-nrow(final_price_obs)+1\n",
    "pred_tree_hold_out_3 <- pred_tree_hold_out_3[c(r:nrow(pred_tree_hold_out_3)),]\n",
    "\n",
    "## Assess performance of tree estimator\n",
    "# Training-sample RMSE\n",
    "rmse_train_3 <- round(sqrt(mean((final_price_train - pred_tree_train_3)^2)),digits=3)\n",
    "# Estimation-sample RMSE\n",
    "rmse_est_3 <- round(sqrt(mean((final_price_est - pred_tree_est_3)^2)),digits=3)\n",
    "# Hold-out-sample RMSE\n",
    "rmse_hold_out_3 <- round(sqrt(mean((final_price_hold_out - pred_tree_hold_out_3)^2)),digits=3)\n",
    "# Training-sample R-squared\n",
    "r2_train_3 <- round(1-mean((final_price_train - pred_tree_train_3)^2)/mean((final_price_train - mean(final_price_train))^2),digits=3)\n",
    "# Estimation-sample R-squared\n",
    "r2_est_3 <- round(1-mean((final_price_est - pred_tree_est_3)^2)/mean((final_price_est - mean(final_price_est))^2),digits=3)\n",
    "# Hold-out-sample R-squared\n",
    "r2_hold_out_3 <- round(1-mean((final_price_hold_out - pred_tree_hold_out_3)^2)/mean((final_price_hold_out - mean(final_price_hold_out))^2),digits=3)\n",
    "\n",
    "print(paste0(\"Training-Sample RMSE: \", rmse_train_3))\n",
    "print(paste0(\"Estimation-Sample RMSE: \", rmse_est_3))\n",
    "print(paste0(\"Hold-out-Sample RMSE: \", rmse_hold_out_3))\n",
    "print(paste0(\"Training-Sample R-squared: \", r2_train_3))\n",
    "print(paste0(\"Estimation-Sample R-squared: \", r2_est_3))\n",
    "print(paste0(\"Hold-out-Sample R-squared: \", r2_hold_out_3))\n"
   ]
  },
  {
   "cell_type": "code",
   "execution_count": null,
   "metadata": {},
   "outputs": [],
   "source": []
  },
  {
   "cell_type": "markdown",
   "metadata": {},
   "source": [
    "## Deep Honest Cross-Fitted Tree"
   ]
  },
  {
   "cell_type": "code",
   "execution_count": 44,
   "metadata": {},
   "outputs": [
    {
     "name": "stdout",
     "output_type": "stream",
     "text": [
      "[1] \"Optimal number final leaves: 238\"\n",
      "[1] \"Optimal number final leaves: 218\"\n"
     ]
    },
    {
     "data": {
      "image/png": "[encoded data removed]",
      "text/plain": [
       "plot without title"
      ]
     },
     "metadata": {},
     "output_type": "display_data",
     "source": "R display func"
    },
    {
     "name": "stdout",
     "output_type": "stream",
     "text": [
      "[1] \"Hold-out-Sample RMSE: 2.626\"\n",
      "[1] \"Hold-out-Sample R-squared: 0.856\"\n"
     ]
    },
    {
     "data": {
      "image/png": "[encoded data removed]",
      "text/plain": [
       "plot without title"
      ]
     },
     "metadata": {},
     "output_type": "display_data",
     "source": "R display func"
    }
   ],
   "source": [
    "########################  Crosfitted honest deep tree estimator  ########################                        \n",
    "\n",
    "# Alternate tratining and estimation sample\n",
    "tree_data_train1 <-  data.frame(final_price_train, baseline_covariates_train)\n",
    "tree_data_train2 <-  data.frame(final_price_est, baseline_covariates_est)\n",
    "\n",
    "# Prepare both data data for tree estimator\n",
    "empty1 <- as.matrix(final_price_train)\n",
    "empty1[1,] <-NA\n",
    "empty2 <- as.matrix(final_price_hold_out)\n",
    "empty2[1,] <-NA\n",
    "tree_data_hold_out1 <-  data.frame(rbind(empty1,final_price_est,empty2),rbind(baseline_covariates_train,baseline_covariates_est, baseline_covariates_hold_out))\n",
    "\n",
    "empty1 <- as.matrix(final_price_est)\n",
    "empty1[1,] <-NA\n",
    "empty2 <- as.matrix(final_price_hold_out)\n",
    "empty2[1,] <-NA\n",
    "tree_data_hold_out2 <-  data.frame(rbind(final_price_train,empty1,empty2),rbind(baseline_covariates_train,baseline_covariates_est, baseline_covariates_hold_out))\n",
    "\n",
    "#####\n",
    "\n",
    "# Setup the formula of the linear regression model for the first tree\n",
    "linear <- paste(\"final_price_train\",paste(sumx, sep=\" + \"), sep=\" ~ \")\n",
    "linear <- as.formula(linear)\n",
    "\n",
    "# Build first deep tree\n",
    "linear.singletree_4 <- rpart(formula = linear, data = tree_data_train1 , method = \"anova\", xval = 10,\n",
    "                             y = TRUE, control = rpart.control(cp = 0.00002, minbucket=5))\n",
    "\n",
    "\n",
    "# Find tree size that minimises CV-MSE\n",
    "op.index_4 <- which.min(linear.singletree_4$cptable[, \"xerror\"])\n",
    "print(paste0(\"Optimal number final leaves: \", op.index_4))\n",
    "\n",
    "# Plot CV-MSE\n",
    "plotcp(linear.singletree_4)\n",
    "abline(v = op.index_4, lty = \"dashed\")\n",
    "\n",
    "# Get cp-value that corresponds to optimal tree size\n",
    "cp.vals_4 <- linear.singletree_4$cptable[op.index_4, \"CP\"]\n",
    "\n",
    "# Prune the tree\n",
    "treepruned.linearsingle_4 <- prune(linear.singletree_4, cp = cp.vals_4)\n",
    "\n",
    "# Predict final price in the hold-out-sample\n",
    "pred_tree_hold_out_4 <- as.matrix(predict(treepruned.linearsingle_4, newdata=tree_data_hold_out1))\n",
    "r <-nrow(final_price_obs)+1\n",
    "pred_tree_hold_out_4 <- pred_tree_hold_out_4[c(r:nrow(pred_tree_hold_out_4)),]\n",
    "\n",
    "#####\n",
    "\n",
    "# Setup the formula of the linear regression model for the second tree\n",
    "linear <- paste(\"final_price_est\",paste(sumx, sep=\" + \"), sep=\" ~ \")\n",
    "linear <- as.formula(linear)\n",
    "\n",
    "# Build second deep tree\n",
    "linear.singletree_5 <- rpart(formula = linear, data = tree_data_train2 , method = \"anova\", xval = 10,\n",
    "                             y = TRUE, control = rpart.control(cp = 0.00000001, minbucket=5))\n",
    "\n",
    "\n",
    "# Find tree size that minimises CV-MSE\n",
    "op.index_5 <- which.min(linear.singletree_5$cptable[, \"xerror\"])\n",
    "print(paste0(\"Optimal number final leaves: \", op.index_5))\n",
    "\n",
    "# Plot CV-MSE\n",
    "plotcp(linear.singletree_5)\n",
    "abline(v = op.index_5, lty = \"dashed\")\n",
    "\n",
    "# Get cp-value that corresponds to optimal tree size\n",
    "cp.vals_5 <- linear.singletree_5$cptable[op.index_5, \"CP\"]\n",
    "\n",
    "# Prune the tree\n",
    "treepruned.linearsingle_5 <- prune(linear.singletree_5, cp = cp.vals_5)\n",
    "\n",
    "# Predict final price in the hold-out-sample\n",
    "pred_tree_hold_out_5 <- as.matrix(predict(treepruned.linearsingle_5, newdata=tree_data_hold_out2))\n",
    "r <-nrow(final_price_obs)+1\n",
    "pred_tree_hold_out_5 <- pred_tree_hold_out_5[c(r:nrow(pred_tree_hold_out_5)),]\n",
    "\n",
    "#####\n",
    "\n",
    "## Assess performance of tree estimator\n",
    "# Hold-out-sample RMSE\n",
    "rmse_hold_out_4 <- round(sqrt(mean((final_price_hold_out - 0.5*(pred_tree_hold_out_4 + pred_tree_hold_out_5))^2)),digits=3)\n",
    "# Hold-out-sample R-squared\n",
    "r2_hold_out_4 <- round(1-mean((final_price_hold_out - 0.5*(pred_tree_hold_out_4 + pred_tree_hold_out_5))^2)/mean((final_price_hold_out - mean(final_price_hold_out))^2),digits=3)\n",
    "\n",
    "print(paste0(\"Hold-out-Sample RMSE: \", rmse_hold_out_4))\n",
    "print(paste0(\"Hold-out-Sample R-squared: \", r2_hold_out_4))"
   ]
  },
  {
   "cell_type": "code",
   "execution_count": null,
   "metadata": {},
   "outputs": [],
   "source": []
  },
  {
   "cell_type": "markdown",
   "metadata": {},
   "source": [
    "# Random Forest"
   ]
  },
  {
   "cell_type": "code",
   "execution_count": null,
   "metadata": {},
   "outputs": [],
   "source": []
  },
  {
   "cell_type": "code",
   "execution_count": 45,
   "metadata": {},
   "outputs": [
    {
     "name": "stdout",
     "output_type": "stream",
     "text": [
      "[1] \"Hold-out-Sample RMSE: 2.449\"\n",
      "[1] \"Hold-out-Sample R-squared: 0.875\"\n"
     ]
    }
   ],
   "source": [
    "########################  Random forest estimator  ######################## \n",
    "\n",
    "# Tuning parameters\n",
    "min_tree = 1\n",
    "num_trees = 500\n",
    "cov_frac = 2/3\n",
    "\n",
    "# Build random forest\n",
    "forest <- regression_forest(baseline_covariates_obs, final_price_obs, sample.fraction = 0.5, \n",
    "                  mtry = floor(cov_frac*ncol(baseline_covariates_obs)),\n",
    "                  num.trees = num_trees, min.node.size = min_tree,\n",
    "                  honesty = TRUE, honesty.fraction = 0.5)\n",
    "\n",
    "# Predict prices in hold-out-sample\n",
    "pred_forest <- predict(forest, newdata = baseline_covariates_hold_out)\n",
    "\n",
    "## Assess performance of forest estimator\n",
    "# Hold-out-sample RMSE\n",
    "rmse_forest <- round(sqrt(mean((final_price_hold_out - pred_forest$predictions)^2)),digits=3)\n",
    "# Hold-out-sample R-squared\n",
    "r2_forest <- round(1-mean((final_price_hold_out - pred_forest$predictions)^2)/mean((final_price_hold_out - mean(final_price_hold_out))^2),digits=3)\n",
    "\n",
    "print(paste0(\"Hold-out-Sample RMSE: \", rmse_forest))\n",
    "print(paste0(\"Hold-out-Sample R-squared: \", r2_forest))\n"
   ]
  },
  {
   "cell_type": "code",
   "execution_count": null,
   "metadata": {},
   "outputs": [],
   "source": []
  },
  {
   "cell_type": "code",
   "execution_count": 22,
   "metadata": {},
   "outputs": [
    {
     "name": "stdout",
     "output_type": "stream",
     "text": [
      "     mileage age_car_years other_car_owner inspection co2_em euro_norm bmw_320\n",
      "[1,]      96           318               0          0     27        43       1\n",
      "[2,]     190           446               2          1     15       142     131\n",
      "[3,]     355           558               9          2    239        81     277\n",
      "[4,]     751           868              21         30    562       125     317\n",
      "     opel_astra mercedes_c vw_golf vw_passat diesel private_seller guarantee\n",
      "[1,]         11          1       0         0      1              1         0\n",
      "[2,]         44         13       9         0      4              1         0\n",
      "[3,]        239        129      85         2     12              0         3\n",
      "[4,]        517        420     213        33     60             12        13\n",
      "     maintenance_cert pm_green\n",
      "[1,]                1        0\n",
      "[2,]                1        1\n",
      "[3,]                8        1\n",
      "[4,]               30       20\n"
     ]
    }
   ],
   "source": [
    "# Number of splits by covariate and tree depht\n",
    "split <- split_frequencies(forest, max.depth = 4)\n",
    "colnames(split) <- baseline_covariates\n",
    "print(split)"
   ]
  },
  {
   "cell_type": "code",
   "execution_count": 46,
   "metadata": {},
   "outputs": [
    {
     "data": {
      "image/png": "[encoded data removed]",
      "text/plain": [
       "Plot with title \"Tuning of forest size\""
      ]
     },
     "metadata": {},
     "output_type": "display_data",
     "source": "R display func"
    },
    {
     "data": {
      "image/png": "[encoded data removed]",
      "text/plain": [
       "Plot with title \"Tuning of forest size\""
      ]
     },
     "metadata": {},
     "output_type": "display_data",
     "source": "R display func"
    }
   ],
   "source": [
    "# Select tuning parameters for forest\n",
    "#for_sizes = c(1,5, 10,15, 20,25,50,100,150,200,250, 300,350, 400, 450, 500, 1000, 1500, 2000, 3000, 4000, 5000, 10000)\n",
    "for_sizes = c(1,5, 10,15, 20,25,50,100,150,200,250, 300,350, 400, 450, 500)\n",
    "auc <- matrix(NA,nrow=length(for_sizes),ncol=3)\n",
    "ctr <- 0\n",
    "for (n in for_sizes){\n",
    "  ctr <- ctr + 1\n",
    "  auc[ctr,1] <- n\n",
    "  \n",
    "  forest <- regression_forest(baseline_covariates_obs, final_price_obs, sample.fraction = 0.5, \n",
    "                              mtry = floor(cov_frac*ncol(baseline_covariates_obs)),\n",
    "                              num.trees = n, min.node.size = min_tree,\n",
    "                              honesty = TRUE, honesty.fraction = 0.5)\n",
    "  \n",
    "  # Predict prices in hold-out-sample\n",
    "  pred_forest <- predict(forest, newdata = baseline_covariates_hold_out)\n",
    "  rmse_forest <- round(sqrt(mean((final_price_hold_out - pred_forest$predictions)^2)),digits=3)\n",
    "  auc[ctr,2] <- rmse_forest\n",
    "  if (ctr >1) {\n",
    "    auc[ctr,3] <- rmse_forest-auc[ctr-1,2]\n",
    "  }\n",
    "}\n",
    "\n",
    "plot(auc[,1], auc[,2], main=\"Tuning of forest size\", \n",
    "     xlab=\"Number of trees in forest \", ylab=\"RMSE\", pch=19)\n",
    "# fit a non-linear regression\n",
    "nls_fit <- lm(auc[,2] ~  auc[,1] + I(auc[,1]^(1/2)) + I(auc[,1]^2) + I(auc[,1]^3) + I(log(auc[,1])))\n",
    "lines(auc[,1], predict(nls_fit), col = \"red\")\n",
    "\n",
    "plot(auc[c(2:nrow(auc)),1], auc[c(2:nrow(auc)),3], main=\"Tuning of forest size\", \n",
    "     xlab=\"Number of trees in forest \", ylab=\"Delta RMSE\", pch=19)\n",
    "# fit a non-linear regression\n",
    "nls_fit <- lm(auc[c(2:nrow(auc)),3] ~  auc[c(2:nrow(auc)),1] + I(auc[c(2:nrow(auc)),1]^(1/2)) + I(auc[c(2:nrow(auc)),1]^2) + I(auc[c(2:nrow(auc)),1]^3) + I(log(auc[c(2:nrow(auc)),1])))\n",
    "lines(auc[c(2:nrow(auc)),1], predict(nls_fit), col = \"red\")\n",
    "abline(h=0)\n",
    "\n",
    "\n",
    "# Save graph\n",
    "#png(filename= \"auc.png\",units=\"in\", width=6, height=6, pointsize=10,res=300)\n",
    "#  plot(auc[,1], auc[,2], main=\"Tuning of forest size\", \n",
    "#       xlab=\"Number of trees in forest \", ylab=\"RMSE\", pch=19)\n",
    "#  # fit a non-linear regression\n",
    "#  nls_fit <- lm(auc[,2] ~  auc[,1] + I(auc[,1]^(1/2)) + I(auc[,1]^2) + I(auc[,1]^3) + I(log(auc[,1])))\n",
    "#  lines(auc[,1], predict(nls_fit), col = \"red\")\n",
    "#dev.off()\n",
    "\n",
    "#png(filename= \"delta_auc.png\",units=\"in\", width=6, height=6, pointsize=10,res=300)\n",
    "#  plot(auc[c(2:nrow(auc)),1], auc[c(2:nrow(auc)),3], main=\"Tuning of forest size\", \n",
    "#       xlab=\"Number of trees in forest \", ylab=\"Delta RMSE\", pch=19)\n",
    "#  # fit a non-linear regression\n",
    "#  nls_fit <- lm(auc[c(2:nrow(auc)),3] ~  auc[c(2:nrow(auc)),1] + I(auc[c(2:nrow(auc)),1]^(1/2)) + I(auc[c(2:nrow(auc)),1]^2) + I(auc[c(2:nrow(auc)),1]^3) + I(log(auc[c(2:nrow(auc)),1])))\n",
    "#  lines(auc[c(2:nrow(auc)),1], predict(nls_fit), col = \"red\")\n",
    "#  abline(h=0)\n",
    "#dev.off()"
   ]
  },
  {
   "cell_type": "code",
   "execution_count": null,
   "metadata": {},
   "outputs": [],
   "source": []
  },
  {
   "cell_type": "markdown",
   "metadata": {},
   "source": [
    "# LASSO"
   ]
  },
  {
   "cell_type": "markdown",
   "metadata": {},
   "source": [
    "## Prepare Data"
   ]
  },
  {
   "cell_type": "code",
   "execution_count": 48,
   "metadata": {},
   "outputs": [
    {
     "data": {
      "text/html": [
       "42"
      ],
      "text/latex": [
       "42"
      ],
      "text/markdown": [
       "42"
      ],
      "text/plain": [
       "[1] 42"
      ]
     },
     "metadata": {},
     "output_type": "display_data"
    },
    {
     "name": "stdout",
     "output_type": "stream",
     "text": [
      "[1] \"Lasso data ready\"\n"
     ]
    }
   ],
   "source": [
    "## Prepare Lasso data###\n",
    "\n",
    "# Generate some noisy covariates to disturbe the estimation\n",
    "noise.covars.hold.out <- matrix(data = rnorm(nrow(df_hold_out)),  nrow = nrow(df_hold_out), ncol = 13)\n",
    "colnames(noise.covars.hold.out) <- c(\"noise1\", \"noise2\", \"noise3\", \"noise4\", \"noise5\", \"noise6\", \"noise7\", \"noise8\", \"noise9\", \"noise10\", \"noise11\", \"noise12\",\"noise13\")\n",
    "\n",
    "noise.covars.est <- matrix(data = rnorm(nrow(df_est)),  nrow = nrow(df_est), ncol = 13)\n",
    "colnames(noise.covars.est) <- c(\"noise1\", \"noise2\", \"noise3\", \"noise4\", \"noise5\", \"noise6\", \"noise7\", \"noise8\", \"noise9\", \"noise10\", \"noise11\", \"noise12\",\"noise13\")\n",
    "\n",
    "noise.covars.train <- matrix(data = rnorm(nrow(df_train)),  nrow = nrow(df_train), ncol = 13)\n",
    "colnames(noise.covars.train) <- c(\"noise1\", \"noise2\", \"noise3\", \"noise4\", \"noise5\", \"noise6\", \"noise7\", \"noise8\", \"noise9\", \"noise10\", \"noise11\", \"noise12\",\"noise13\")\n",
    "\n",
    "ncol(df_hold_out)\n",
    "# Prepare LASSO variables\n",
    "lasso_covariates_hold_out_cont <- as.matrix(df_hold_out[,c(4:6,8,20:25)])\n",
    "lasso_covariates_est_cont <- as.matrix(df_est[,c(4:6,8,20:25)])\n",
    "lasso_covariates_train_cont <- as.matrix(df_train[,c(4:6,8,20:25)])\n",
    "\n",
    "# Scale continuous variables\n",
    "preProcValuesLasso <- preProcess(lasso_covariates_train_cont, method = c(\"center\", \"scale\"))\n",
    "TrainTransformed <- predict(preProcValuesLasso, lasso_covariates_train_cont)\n",
    "HoldOutTransformed <- predict(preProcValuesLasso, lasso_covariates_hold_out_cont)\n",
    "EstTransformed <- predict(preProcValuesLasso, lasso_covariates_est_cont)\n",
    "\n",
    "lasso_covariates_hold_out <- as.matrix(cbind(HoldOutTransformed,df_hold_out[,c(10:19, 26:ncol(df_hold_out))],noise.covars.hold.out)) \n",
    "lasso_covariates_train <- as.matrix(cbind(TrainTransformed,df_train[,c(10:19,26:ncol(df_train))],noise.covars.train)) \n",
    "lasso_covariates_est <- as.matrix(cbind(EstTransformed,df_est[,c(10:19,26:ncol(df_est))],noise.covars.est)) \n",
    "\n",
    "#########################\n",
    "print('Lasso data ready')"
   ]
  },
  {
   "cell_type": "markdown",
   "metadata": {},
   "source": [
    "## Standard Lasso"
   ]
  },
  {
   "cell_type": "code",
   "execution_count": 49,
   "metadata": {},
   "outputs": [
    {
     "name": "stdout",
     "output_type": "stream",
     "text": [
      "$lambda\n",
      " [1] 4.750659799 4.328624276 3.944081226 3.593699921 3.274445525 2.983552809\n",
      " [7] 2.718502201 2.476997958 2.256948287 2.056447221 1.873758118 1.707298612\n",
      "[13] 1.555626909 1.417429302 1.291508789 1.176774708 1.072233286 0.976979036\n",
      "[19] 0.890186912 0.811105160 0.739048813 0.673393753 0.613571308 0.559063324\n",
      "[25] 0.509397680 0.464144194 0.422910903 0.385340664 0.351108061 0.319916589\n",
      "[31] 0.291496081 0.265600373 0.242005167 0.220506095 0.200916942 0.183068034\n",
      "[37] 0.166804775 0.151986298 0.138484254 0.126181695 0.114972061 0.104758260\n",
      "[43] 0.095451825 0.086972148 0.079245782 0.072205805 0.065791240 0.059946528\n",
      "[49] 0.054621044 0.049768661 0.045347350 0.041318816 0.037648167 0.034303607\n",
      "[55] 0.031256169 0.028479457 0.025949421 0.023644146 0.021543665 0.019629785\n",
      "[61] 0.017885929 0.016296993 0.014849213 0.013530050 0.012328077 0.011232885\n",
      "[67] 0.010234986 0.009325738 0.008497265 0.007742392 0.007054579\n",
      "\n",
      "$cvm\n",
      " [1] 56.84249 53.16272 49.95139 46.68765 43.84170 41.47622 39.51243 37.88213\n",
      " [9] 36.52854 35.35844 33.74120 32.10670 30.36157 28.46635 26.84170 25.35950\n",
      "[17] 24.08276 23.00298 22.08489 21.30894 20.66218 20.12499 19.68000 19.30867\n",
      "[25] 18.98463 18.70304 18.45063 18.12461 17.79544 17.50679 17.25204 17.03225\n",
      "[33] 16.82681 16.63344 16.46938 16.32803 16.19694 16.08846 15.99945 15.92652\n",
      "[41] 15.87017 15.82370 15.78488 15.75284 15.72586 15.70357 15.68628 15.67444\n",
      "[49] 15.66593 15.65996 15.65543 15.65209 15.64939 15.64715 15.64582 15.64350\n",
      "[57] 15.64221 15.64135 15.64110 15.64106 15.64122 15.64188 15.64489 15.64804\n",
      "[65] 15.65385 15.65770 15.66469 15.66860 15.67470 15.67748 15.68193\n",
      "\n",
      "$cvsd\n",
      " [1] 3.736788 3.679249 3.597581 3.518141 3.439509 3.371757 3.313373 3.262840\n",
      " [9] 3.218983 3.189004 3.149236 3.123938 3.064943 3.006347 2.951349 2.901647\n",
      "[17] 2.852000 2.809318 2.771452 2.731934 2.696083 2.664843 2.638345 2.616160\n",
      "[25] 2.597078 2.580688 2.567377 2.550892 2.544847 2.537249 2.528248 2.519263\n",
      "[33] 2.514082 2.511050 2.507119 2.501169 2.491183 2.482258 2.473869 2.466189\n",
      "[41] 2.459722 2.454109 2.448874 2.444087 2.439440 2.434901 2.430720 2.426231\n",
      "[49] 2.421909 2.417858 2.413861 2.409898 2.406302 2.403215 2.400486 2.397272\n",
      "[57] 2.394396 2.391815 2.389382 2.387131 2.384973 2.382966 2.381079 2.379830\n",
      "[65] 2.379867 2.378844 2.379429 2.378668 2.378929 2.378357 2.378770\n",
      "\n",
      "$cvup\n",
      " [1] 60.57927 56.84197 53.54897 50.20579 47.28121 44.84797 42.82580 41.14497\n",
      " [9] 39.74752 38.54744 36.89043 35.23064 33.42652 31.47269 29.79305 28.26115\n",
      "[17] 26.93476 25.81230 24.85634 24.04087 23.35826 22.78984 22.31834 21.92483\n",
      "[25] 21.58171 21.28373 21.01801 20.67550 20.34029 20.04403 19.78029 19.55151\n",
      "[33] 19.34089 19.14449 18.97650 18.82920 18.68812 18.57072 18.47332 18.39271\n",
      "[41] 18.32990 18.27781 18.23375 18.19693 18.16530 18.13847 18.11700 18.10067\n",
      "[49] 18.08784 18.07782 18.06929 18.06198 18.05569 18.05037 18.04630 18.04077\n",
      "[57] 18.03660 18.03317 18.03048 18.02819 18.02619 18.02485 18.02597 18.02787\n",
      "[65] 18.03372 18.03655 18.04412 18.04727 18.05363 18.05584 18.06070\n",
      "\n",
      "$cvlo\n",
      " [1] 53.10570 49.48347 46.35381 43.16951 40.40219 38.10446 36.19906 34.61930\n",
      " [9] 33.30955 32.16943 30.59196 28.98277 27.29663 25.46000 23.89035 22.45786\n",
      "[17] 21.23076 20.19366 19.31343 18.57700 17.96609 17.46015 17.04165 16.69251\n",
      "[25] 16.38756 16.12235 15.88325 15.57371 15.25060 14.96954 14.72380 14.51298\n",
      "[33] 14.31273 14.12239 13.96226 13.82687 13.70576 13.60620 13.52559 13.46033\n",
      "[41] 13.41045 13.36959 13.33600 13.30875 13.28642 13.26866 13.25556 13.24821\n",
      "[49] 13.24403 13.24211 13.24157 13.24219 13.24309 13.24394 13.24533 13.24622\n",
      "[57] 13.24781 13.24954 13.25171 13.25393 13.25625 13.25892 13.26381 13.26821\n",
      "[65] 13.27398 13.27886 13.28526 13.28993 13.29577 13.29912 13.30316\n",
      "\n",
      "$nzero\n",
      " s0  s1  s2  s3  s4  s5  s6  s7  s8  s9 s10 s11 s12 s13 s14 s15 s16 s17 s18 s19 \n",
      "  0   1   1   2   2   2   2   2   2   2   3   4   5   5   6   7   8   9   9   9 \n",
      "s20 s21 s22 s23 s24 s25 s26 s27 s28 s29 s30 s31 s32 s33 s34 s35 s36 s37 s38 s39 \n",
      "  9   9   9   9  10  10  10  11  12  13  14  16  18  18  18  19  19  18  18  18 \n",
      "s40 s41 s42 s43 s44 s45 s46 s47 s48 s49 s50 s51 s52 s53 s54 s55 s56 s57 s58 s59 \n",
      " 18  18  20  20  20  20  20  20  20  20  20  22  24  24  26  28  28  28  29  29 \n",
      "s60 s61 s62 s63 s64 s65 s66 s67 s68 s69 s70 \n",
      " 29  29  30  32  33  34  34  36  36  36  36 \n",
      "\n",
      "$name\n",
      "                 mse \n",
      "\"Mean-Squared Error\" \n",
      "\n",
      "$glmnet.fit\n",
      "\n",
      "Call:  glmnet(x = x, y = y, parallel = FALSE, alpha = 1) \n",
      "\n",
      "      Df   %Dev   Lambda\n",
      " [1,]  0 0.0000 4.751000\n",
      " [2,]  1 0.0673 4.329000\n",
      " [3,]  1 0.1232 3.944000\n",
      " [4,]  2 0.1811 3.594000\n",
      " [5,]  2 0.2311 3.274000\n",
      " [6,]  2 0.2726 2.984000\n",
      " [7,]  2 0.3070 2.719000\n",
      " [8,]  2 0.3356 2.477000\n",
      " [9,]  2 0.3594 2.257000\n",
      "[10,]  2 0.3791 2.056000\n",
      "[11,]  3 0.4082 1.874000\n",
      "[12,]  4 0.4372 1.707000\n",
      "[13,]  5 0.4680 1.556000\n",
      "[14,]  5 0.5014 1.417000\n",
      "[15,]  6 0.5296 1.292000\n",
      "[16,]  7 0.5564 1.177000\n",
      "[17,]  8 0.5789 1.072000\n",
      "[18,]  9 0.5978 0.977000\n",
      "[19,]  9 0.6142 0.890200\n",
      "[20,]  9 0.6278 0.811100\n",
      "[21,]  9 0.6391 0.739000\n",
      "[22,]  9 0.6485 0.673400\n",
      "[23,]  9 0.6563 0.613600\n",
      "[24,]  9 0.6627 0.559100\n",
      "[25,] 10 0.6686 0.509400\n",
      "[26,] 10 0.6736 0.464100\n",
      "[27,] 10 0.6777 0.422900\n",
      "[28,] 11 0.6843 0.385300\n",
      "[29,] 12 0.6901 0.351100\n",
      "[30,] 13 0.6955 0.319900\n",
      "[31,] 14 0.7001 0.291500\n",
      "[32,] 16 0.7042 0.265600\n",
      "[33,] 18 0.7080 0.242000\n",
      "[34,] 18 0.7119 0.220500\n",
      "[35,] 18 0.7151 0.200900\n",
      "[36,] 19 0.7178 0.183100\n",
      "[37,] 19 0.7200 0.166800\n",
      "[38,] 18 0.7219 0.152000\n",
      "[39,] 18 0.7234 0.138500\n",
      "[40,] 18 0.7246 0.126200\n",
      "[41,] 18 0.7256 0.115000\n",
      "[42,] 18 0.7264 0.104800\n",
      "[43,] 20 0.7272 0.095450\n",
      "[44,] 20 0.7278 0.086970\n",
      "[45,] 20 0.7284 0.079250\n",
      "[46,] 20 0.7288 0.072210\n",
      "[47,] 20 0.7292 0.065790\n",
      "[48,] 20 0.7295 0.059950\n",
      "[49,] 20 0.7298 0.054620\n",
      "[50,] 20 0.7300 0.049770\n",
      "[51,] 20 0.7302 0.045350\n",
      "[52,] 22 0.7304 0.041320\n",
      "[53,] 24 0.7305 0.037650\n",
      "[54,] 24 0.7307 0.034300\n",
      "[55,] 26 0.7309 0.031260\n",
      "[56,] 28 0.7310 0.028480\n",
      "[57,] 28 0.7312 0.025950\n",
      "[58,] 28 0.7313 0.023640\n",
      "[59,] 29 0.7314 0.021540\n",
      "[60,] 29 0.7314 0.019630\n",
      "[61,] 29 0.7315 0.017890\n",
      "[62,] 29 0.7316 0.016300\n",
      "[63,] 30 0.7316 0.014850\n",
      "[64,] 32 0.7316 0.013530\n",
      "[65,] 33 0.7317 0.012330\n",
      "[66,] 34 0.7317 0.011230\n",
      "[67,] 34 0.7317 0.010230\n",
      "[68,] 36 0.7318 0.009326\n",
      "[69,] 36 0.7318 0.008497\n",
      "[70,] 36 0.7319 0.007742\n",
      "[71,] 36 0.7319 0.007055\n",
      "[72,] 36 0.7320 0.006428\n",
      "[73,] 36 0.7320 0.005857\n",
      "[74,] 37 0.7320 0.005337\n",
      "\n",
      "$lambda.min\n",
      "[1] 0.01962979\n",
      "\n",
      "$lambda.1se\n",
      "[1] 0.3511081\n",
      "\n",
      "$call\n",
      "glmnet::cv.glmnet(x = lasso_covariates_train, y = final_price_train, \n",
      "    alpha = 1, type.measure = \"mse\", parallel = FALSE)\n",
      "\n",
      "attr(,\"class\")\n",
      "[1] \"cv.glmnet\"\n",
      "[1] \"Lambda minimising CV-MSE: 0.01962979\"\n",
      "[1] \"Lambda 1 standard error rule: 0.35110806\"\n"
     ]
    },
    {
     "data": {
      "image/png": "[encoded data removed]",
      "text/plain": [
       "plot without title"
      ]
     },
     "metadata": {},
     "output_type": "display_data",
     "source": "R display func"
    }
   ],
   "source": [
    "\n",
    "lasso.linear <- cv.glmnet(lasso_covariates_train, final_price_train,alpha=1,type.measure = 'mse', parallel=FALSE)\n",
    "plot(lasso.linear)\n",
    "print(lasso.linear)\n",
    "\n",
    "#ncol(lasso_covariates_train)\n",
    "#lm.fit(lasso_covariates_train, final_price_train)\n",
    "# 36 degrees of freedom\n",
    "\n",
    "\n",
    "print(paste0(\"Lambda minimising CV-MSE: \", round(lasso.linear$lambda.min,digits=8)))\n",
    "# 1 standard error rule reduces the number of included covariates\n",
    "print(paste0(\"Lambda 1 standard error rule: \", round(lasso.linear$lambda.1se,digits=8)))\n"
   ]
  },
  {
   "cell_type": "markdown",
   "metadata": {},
   "source": [
    "## Plot Lasso Structure"
   ]
  },
  {
   "cell_type": "code",
   "execution_count": 50,
   "metadata": {},
   "outputs": [
    {
     "name": "stdout",
     "output_type": "stream",
     "text": [
      "51 x 1 sparse Matrix of class \"dgCMatrix\"\n",
      "                             1\n",
      "(Intercept)      15.8590449922\n",
      "mileage          -2.3480573341\n",
      "age_car_years    -3.2006437351\n",
      "other_car_owner   .           \n",
      "co2_em            0.2973661139\n",
      "mileage2          .           \n",
      "mileage3          .           \n",
      "mileage4          .           \n",
      "age_car_years2    .           \n",
      "age_car_years3    .           \n",
      "age_car_years4    .           \n",
      "bmw_320           2.9520368565\n",
      "opel_astra       -4.5775094575\n",
      "mercedes_c        2.2970316249\n",
      "vw_golf          -3.2755470508\n",
      "vw_passat         .           \n",
      "diesel            0.7285679695\n",
      "private_seller    .           \n",
      "guarantee         .           \n",
      "maintenance_cert  .           \n",
      "pm_green          .           \n",
      "mile_20           .           \n",
      "mile_30           .           \n",
      "mile_40           .           \n",
      "mile_50          -0.7771631245\n",
      "mile_100          .           \n",
      "mile_150          .           \n",
      "age_3            -0.3869329273\n",
      "age_6             .           \n",
      "dur_next_ins_0    .           \n",
      "dur_next_ins_1_2  .           \n",
      "new_inspection    .           \n",
      "euro_1            .           \n",
      "euro_2            .           \n",
      "euro_3            .           \n",
      "euro_4           -0.0005388466\n",
      "euro_5            .           \n",
      "euro_6            1.5551579832\n",
      "noise1            .           \n",
      "noise2            .           \n",
      "noise3            .           \n",
      "noise4            .           \n",
      "noise5            .           \n",
      "noise6            .           \n",
      "noise7            .           \n",
      "noise8            .           \n",
      "noise9            .           \n",
      "noise10           .           \n",
      "noise11           .           \n",
      "noise12           .           \n",
      "noise13           .           \n"
     ]
    },
    {
     "data": {
      "image/png": "[encoded data removed]",
      "text/plain": [
       "Plot with title \"\""
      ]
     },
     "metadata": {},
     "output_type": "display_data",
     "source": "R display func"
    }
   ],
   "source": [
    "\n",
    "######################################\n",
    "\n",
    "## Plot Lasso structure\n",
    "\n",
    "lambda_min = lasso.linear$glmnet.fit$lambda[50]\n",
    "\n",
    "\n",
    "mod <- glmnet(lasso_covariates_train , final_price_train,lambda.min = lambda_min,  alpha=1)\n",
    "glmcoef<-coef(mod,lasso.linear$lambda.1se)\n",
    "coef.increase<-dimnames(glmcoef[glmcoef[,1]>0,0])[[1]]\n",
    "coef.decrease<-dimnames(glmcoef[glmcoef[,1]<0,0])[[1]]\n",
    "\n",
    "maxcoef<-coef(mod,s=lambda_min)\n",
    "coef<-dimnames(maxcoef[maxcoef[,1]!=0,0])[[1]]\n",
    "allnames<-dimnames(maxcoef[maxcoef[,1]!=0,0])[[1]][order(maxcoef[maxcoef[,1]!=0,ncol(maxcoef)],decreasing=TRUE)]\n",
    "allnames<-setdiff(allnames,allnames[grep(\"Intercept\",allnames)])\n",
    "\n",
    "\n",
    "\n",
    "#assign colors\n",
    "cols<-rep(\"gray\",length(allnames))\n",
    "cols[allnames %in% coef.increase]<-\"red\"      # higher mpg is good\n",
    "cols[allnames %in% coef.decrease]<- \"green\"        # lower mpg is not\n",
    "\n",
    "plot_glmnet(mod,label=TRUE,s=lasso.linear$lambda.1se,col= cols)\n",
    "\n",
    "#Plot LASSO Coefficients\n",
    "print(glmcoef)"
   ]
  },
  {
   "cell_type": "code",
   "execution_count": null,
   "metadata": {},
   "outputs": [],
   "source": []
  },
  {
   "cell_type": "code",
   "execution_count": 51,
   "metadata": {},
   "outputs": [
    {
     "name": "stdout",
     "output_type": "stream",
     "text": [
      "[1] \"Hold-out-Sample RMSE: 3.256\"\n",
      "[1] \"Hold-out-Sample R-squared: 0.779\"\n"
     ]
    }
   ],
   "source": [
    "\n",
    "\n",
    "# Estimate LASSO model with 1 standard error lambda in estimation sample\n",
    "lasso.fit <- glmnet(lasso_covariates_est , final_price_est,lambda = lasso.linear$lambda.1se)\n",
    "\n",
    "# Extrapolate LASSO estimates to hold-out-sample\n",
    "yhat.lasso <- predict(lasso.fit, lasso_covariates_hold_out)\n",
    "\n",
    "## Assess performance of LASSO estimator\n",
    "# Hold-out-sample RMSE\n",
    "rmse_lasso <- round(sqrt(mean((final_price_hold_out - yhat.lasso)^2)),digits=3)\n",
    "# Hold-out-sample R-squared\n",
    "r2_lasso <- round(1-mean((final_price_hold_out - yhat.lasso)^2)/mean((final_price_hold_out - mean(final_price_hold_out))^2),digits=3)\n",
    "\n",
    "print(paste0(\"Hold-out-Sample RMSE: \", rmse_lasso))\n",
    "print(paste0(\"Hold-out-Sample R-squared: \", r2_lasso))"
   ]
  },
  {
   "cell_type": "code",
   "execution_count": null,
   "metadata": {},
   "outputs": [],
   "source": []
  },
  {
   "cell_type": "markdown",
   "metadata": {},
   "source": [
    "## Post-Lasso"
   ]
  },
  {
   "cell_type": "code",
   "execution_count": null,
   "metadata": {},
   "outputs": [],
   "source": []
  },
  {
   "cell_type": "code",
   "execution_count": 52,
   "metadata": {},
   "outputs": [
    {
     "data": {
      "text/plain": [
       "\n",
       "Call:\n",
       "lm(formula = post.lasso.model, data = lasso_covariates_est)\n",
       "\n",
       "Residuals:\n",
       "    Min      1Q  Median      3Q     Max \n",
       "-13.556  -2.038  -0.339   1.450  88.279 \n",
       "\n",
       "Coefficients:\n",
       "               Estimate Std. Error t value Pr(>|t|)    \n",
       "(Intercept)   16.496743   0.602341  27.388  < 2e-16 ***\n",
       "mileage       -0.054275   0.001870 -29.018  < 2e-16 ***\n",
       "age_car_years -1.542702   0.040739 -37.868  < 2e-16 ***\n",
       "co2_em         0.071169   0.004052  17.562  < 2e-16 ***\n",
       "bmw_320        3.784100   0.163918  23.085  < 2e-16 ***\n",
       "opel_astra    -4.927597   0.211211 -23.330  < 2e-16 ***\n",
       "mercedes_c     2.578419   0.196875  13.097  < 2e-16 ***\n",
       "vw_golf       -3.270458   0.185752 -17.607  < 2e-16 ***\n",
       "diesel         2.877490   0.190328  15.119  < 2e-16 ***\n",
       "mile_50       -0.431288   0.230269  -1.873 0.061144 .  \n",
       "age_3         -0.726864   0.202107  -3.596 0.000327 ***\n",
       "euro_6         3.421627   0.285459  11.986  < 2e-16 ***\n",
       "---\n",
       "Signif. codes:  0 '***' 0.001 '**' 0.01 '*' 0.05 '.' 0.1 ' ' 1\n",
       "\n",
       "Residual standard error: 3.778 on 3988 degrees of freedom\n",
       "Multiple R-squared:  0.7503,\tAdjusted R-squared:  0.7496 \n",
       "F-statistic:  1090 on 11 and 3988 DF,  p-value: < 2.2e-16\n"
      ]
     },
     "metadata": {},
     "output_type": "display_data"
    },
    {
     "name": "stdout",
     "output_type": "stream",
     "text": [
      "[1] \"Hold-out-Sample RMSE: 3.071\"\n",
      "[1] \"Hold-out-Sample R-squared: 0.803\"\n"
     ]
    }
   ],
   "source": [
    "########################  Post-LASSO estimator  ########################\n",
    "\n",
    "# Estimate LASSO model with 1 standard error lambda in training sample\n",
    "lasso.linear.fit <- glmnet(lasso_covariates_train , final_price_train,lambda = lasso.linear$lambda.1se)\n",
    "\n",
    "# Select covariates with non-zero coefficients\n",
    "coef <- predict(lasso.linear.fit, type = \"nonzero\") # Method 2\n",
    "colnames <- colnames(lasso_covariates_train)\n",
    "selected.vars <- colnames[unlist(coef)]\n",
    "\n",
    "# Prepare (unscaled) LASSO variables\n",
    "lasso_covariates_hold_out <- as.data.frame(cbind(df_hold_out[,c(4:ncol(df_hold_out))],noise.covars.hold.out)) \n",
    "lasso_covariates_est <- as.data.frame(cbind(df_est[,c(4:ncol(df_est))],noise.covars.est)) \n",
    "\n",
    "\n",
    "# Linear Post-LASSO fit in estimation sample\n",
    "post.lasso.model <- paste(\"final_price_est\", paste(selected.vars,collapse=\" + \"),  sep = \" ~ \") \n",
    "post.lasso.model <- as.formula(post.lasso.model)\n",
    "post.lasso <- lm(post.lasso.model, data=lasso_covariates_est)\n",
    "summary(post.lasso)\n",
    "\n",
    "# Extrapolate Post-LASSO estimates to hold-out-sample\n",
    "yhat.post.lasso <- predict(post.lasso, newdata=lasso_covariates_hold_out)\n",
    "\n",
    "## Assess performance of LASSO estimator\n",
    "# Hold-out-sample RMSE\n",
    "rmse_post_lasso <- round(sqrt(mean((final_price_hold_out - yhat.post.lasso)^2)),digits=3)\n",
    "# Hold-out-sample R-squared\n",
    "r2_post_lasso <- round(1-mean((final_price_hold_out - yhat.post.lasso)^2)/mean((final_price_hold_out - mean(final_price_hold_out))^2),digits=3)\n",
    "\n",
    "print(paste0(\"Hold-out-Sample RMSE: \", rmse_post_lasso))\n",
    "print(paste0(\"Hold-out-Sample R-squared: \", r2_post_lasso))\n"
   ]
  },
  {
   "cell_type": "code",
   "execution_count": null,
   "metadata": {},
   "outputs": [],
   "source": []
  },
  {
   "cell_type": "markdown",
   "metadata": {},
   "source": [
    "## Post-Lasso CV"
   ]
  },
  {
   "cell_type": "code",
   "execution_count": null,
   "metadata": {},
   "outputs": [],
   "source": []
  },
  {
   "cell_type": "code",
   "execution_count": 53,
   "metadata": {},
   "outputs": [
    {
     "ename": "ERROR",
     "evalue": "Error in post_lasso_cv(lasso_covariates_train, final_price_train, lambda.min = exp(-9), : konnte Funktion \"post_lasso_cv\" nicht finden\n",
     "execution_count": 53,
     "output_type": "error",
     "traceback": [
      "Error in post_lasso_cv(lasso_covariates_train, final_price_train, lambda.min = exp(-9), : konnte Funktion \"post_lasso_cv\" nicht finden\nTraceback:\n"
     ]
    }
   ],
   "source": [
    " \n",
    "########################  Post-LASSO estimator with correct CV  ########################\n",
    "# By MCKnaus\n",
    "\n",
    "\n",
    "lasso.linear <- post_lasso_cv(lasso_covariates_train, final_price_train,lambda.min = exp(-9), \n",
    "                              alpha=1, parallel=FALSE, output = T, se_rule = c(-1))\n",
    "lasso.linear$names_Xse_pl$`SE -1`[-1]\n",
    "\n",
    "\n",
    "\n",
    "# Extrapolate Post-LASSO estimates to hold-out-sample\n",
    "post.lasso.model <- paste(\"final_price_est\", paste(lasso.linear$names_Xse_pl$`SE -1`[-1],collapse=\" + \"),  sep = \" ~ \") \n",
    "post.lasso.model <- as.formula(post.lasso.model)\n",
    "post.lasso <- lm(post.lasso.model, data=lasso_covariates_est)\n",
    "summary(post.lasso)\n",
    "\n",
    "\n",
    "yhat.post.lasso <- predict(post.lasso, newdata=lasso_covariates_hold_out)\n",
    "\n",
    "## Assess performance of LASSO estimator\n",
    "# Hold-out-sample RMSE\n",
    "rmse_post_lasso <- round(sqrt(mean((final_price_hold_out - yhat.post.lasso)^2)),digits=3)\n",
    "# Hold-out-sample R-squared\n",
    "r2_post_lasso <- round(1-mean((final_price_hold_out - yhat.post.lasso)^2)/mean((final_price_hold_out - mean(final_price_hold_out))^2),digits=3)\n",
    "\n",
    "print(paste0(\"Hold-out-Sample RMSE: \", rmse_post_lasso))\n",
    "print(paste0(\"Hold-out-Sample R-squared: \", r2_post_lasso))\n"
   ]
  },
  {
   "cell_type": "code",
   "execution_count": null,
   "metadata": {},
   "outputs": [],
   "source": []
  },
  {
   "cell_type": "markdown",
   "metadata": {},
   "source": [
    "## Logit Lasso"
   ]
  },
  {
   "cell_type": "code",
   "execution_count": null,
   "metadata": {},
   "outputs": [],
   "source": []
  },
  {
   "cell_type": "code",
   "execution_count": 54,
   "metadata": {},
   "outputs": [
    {
     "name": "stdout",
     "output_type": "stream",
     "text": [
      "[1] \"Lambda minimising CV-MSE: 0.00472845\"\n",
      "[1] \"Lambda 1 standard error rule: 0.02094996\"\n"
     ]
    },
    {
     "data": {
      "text/html": [
       "0.2975"
      ],
      "text/latex": [
       "0.2975"
      ],
      "text/markdown": [
       "0.2975"
      ],
      "text/plain": [
       "[1] 0.2975"
      ]
     },
     "metadata": {},
     "output_type": "display_data"
    },
    {
     "data": {
      "text/plain": [
       "53 x 1 sparse Matrix of class \"dgCMatrix\"\n",
       "                           1\n",
       "(Intercept)      -0.54521670\n",
       "mileage           .         \n",
       "age_car_years    -0.07614709\n",
       "other_car_owner   .         \n",
       "inspection        .         \n",
       "co2_em            .         \n",
       "euro_norm         .         \n",
       "bmw_320           0.14213515\n",
       "opel_astra       -0.10123605\n",
       "mercedes_c        .         \n",
       "vw_golf           .         \n",
       "vw_passat         .         \n",
       "diesel            .         \n",
       "private_seller    0.52265064\n",
       "guarantee         .         \n",
       "maintenance_cert  .         \n",
       "pm_green          .         \n",
       "mileage2          .         \n",
       "mileage3          .         \n",
       "mileage4          .         \n",
       "age_car_years2    .         \n",
       "age_car_years3    .         \n",
       "age_car_years4    .         \n",
       "mile_20           .         \n",
       "mile_30           .         \n",
       "mile_40           .         \n",
       "mile_50           .         \n",
       "mile_100          .         \n",
       "mile_150          .         \n",
       "age_3            -0.08190552\n",
       "age_6             .         \n",
       "dur_next_ins_0    .         \n",
       "dur_next_ins_1_2  .         \n",
       "new_inspection   -0.01289033\n",
       "euro_1            .         \n",
       "euro_2            .         \n",
       "euro_3            .         \n",
       "euro_4            .         \n",
       "euro_5            .         \n",
       "euro_6            .         \n",
       "noise1            .         \n",
       "noise2            .         \n",
       "noise3            .         \n",
       "noise4            .         \n",
       "noise5            .         \n",
       "noise6            .         \n",
       "noise7            .         \n",
       "noise8            .         \n",
       "noise9            .         \n",
       "noise10           .         \n",
       "noise11           .         \n",
       "noise12           .         \n",
       "noise13           .         "
      ]
     },
     "metadata": {},
     "output_type": "display_data"
    },
    {
     "name": "stdout",
     "output_type": "stream",
     "text": [
      "[1] \"Hold-out-Sample RMSE: 0.451\"\n",
      "[1] \"Hold-out-Sample R-squared: 0.024\"\n"
     ]
    },
    {
     "data": {
      "image/png": "[encoded data removed]",
      "text/plain": [
       "plot without title"
      ]
     },
     "metadata": {},
     "output_type": "display_data",
     "source": "R display func"
    }
   ],
   "source": [
    "########################  Logit-LASSO   ########################\n",
    "\n",
    "overprice_train <- as.matrix(df_train[,3])\n",
    "overprice_est <- as.matrix(df_est[,3])\n",
    "lasso_covariates_est <- as.matrix(lasso_covariates_est)\n",
    "lasso_covariates_hold_out <- as.matrix(lasso_covariates_hold_out)\n",
    "\n",
    "# Cross-validate Lambda of LASSO model##\n",
    "\n",
    "lasso.logit <- cv.glmnet(lasso_covariates_train, overprice_train,alpha=1,family='binomial',type.measure = 'mse', parallel=FALSE)\n",
    "plot(lasso.logit)\n",
    "\n",
    "print(paste0(\"Lambda minimising CV-MSE: \", round(lasso.logit$lambda.min,digits=8)))\n",
    "# 1 standard error rule reduces the number of included covariates\n",
    "print(paste0(\"Lambda 1 standard error rule: \", round(lasso.logit$lambda.1se,digits=8)))\n",
    "\n",
    "\n",
    "\n",
    "# Estimate LASSO model with 1 standard error lambda in estimation sample\n",
    "lasso.logit.fit <- glmnet(lasso_covariates_est , overprice_est, alpha=1, family='binomial', lambda = lasso.logit$lambda.1se)\n",
    "mean(overprice_est)\n",
    "coef(lasso.logit.fit, s= lasso.logit$lambda.1se)\n",
    "\n",
    "# Extrapolate LASSO estimates to hold-out-sample\n",
    "yhat.lasso.logit <- predict(lasso.logit.fit, lasso_covariates_hold_out, lambda = lasso.logit$lambda.1se, type='response')\n",
    "\n",
    "## Assess performance of LASSO estimator\n",
    "# Hold-out-sample RMSE\n",
    "rmse_lasso_logit <- round(sqrt(mean((overprice_hold_out - yhat.lasso.logit)^2)),digits=3)\n",
    "# Hold-out-sample R-squared\n",
    "r2_lasso_logit <- round(1-mean((overprice_hold_out - yhat.lasso.logit)^2)/mean((overprice_hold_out - mean(overprice_hold_out))^2),digits=3)\n",
    "\n",
    "print(paste0(\"Hold-out-Sample RMSE: \", rmse_lasso_logit))\n",
    "print(paste0(\"Hold-out-Sample R-squared: \", r2_lasso_logit))\n",
    "\n"
   ]
  },
  {
   "cell_type": "code",
   "execution_count": null,
   "metadata": {},
   "outputs": [],
   "source": []
  },
  {
   "cell_type": "markdown",
   "metadata": {},
   "source": [
    "# New Car Data"
   ]
  },
  {
   "cell_type": "code",
   "execution_count": 56,
   "metadata": {},
   "outputs": [
    {
     "name": "stdout",
     "output_type": "stream",
     "text": [
      "[1] \"New data successfully extracted.\"\n"
     ]
    },
    {
     "data": {
      "text/html": [
       "26249"
      ],
      "text/latex": [
       "26249"
      ],
      "text/markdown": [
       "26249"
      ],
      "text/plain": [
       "[1] 26249"
      ]
     },
     "metadata": {},
     "output_type": "display_data"
    }
   ],
   "source": [
    "########################  Load New Car data  ########################\n",
    "# 26251 new cars on the market\n",
    "\n",
    "# Load data frame\n",
    "data_new <- read.csv(\"used_cars_on_market.csv\",header=TRUE, sep=\",\")\n",
    "df_new <- data_new %>%\n",
    "  dplyr::select(c(\"id\",all_covariates))\n",
    "\n",
    "# Covariates/Features\n",
    "baseline_covariates_bin <- c(\"bmw_320\", \"opel_astra\", \"mercedes_c\", \"vw_golf\", \"vw_passat\", \n",
    "                             \"diesel\",   \"private_seller\", \"guarantee\", \"maintenance_cert\",  \"pm_green\") # binary\n",
    "baseline_covariates_cont <- c(\"mileage\", \"age_car_years\", \"other_car_owner\", \"inspection\",\n",
    "                              \"co2_em\", \"euro_norm\") # continuous/ordered discrete\n",
    "baseline_covariates <- c(baseline_covariates_cont,baseline_covariates_bin)\n",
    "lasso_covariates_bin <- c(\"mile_20\", \"mile_30\", \"mile_40\", \"mile_50\", \"mile_100\", \"mile_150\", \n",
    "                          \"age_3\", \"age_6\",\"dur_next_ins_0\", \"dur_next_ins_1_2\", \"new_inspection\",\n",
    "                          \"euro_1\", \"euro_2\", \"euro_3\", \"euro_4\", \"euro_5\", \"euro_6\") # binary \n",
    "lasso_covariates_cont <- c(\"mileage2\", \"mileage3\", \"mileage4\", \"age_car_years2\", \"age_car_years3\",\n",
    "                           \"age_car_years4\") # continuous\n",
    "\n",
    "\n",
    "# Extracting continuous variables\n",
    "baseline_covariates_cont_new <- df_new %>%\n",
    "  dplyr::select(baseline_covariates_cont) \n",
    "\n",
    "lasso_covariates_cont_new <- df_new %>%\n",
    "  dplyr::select(lasso_covariates_cont) \n",
    "\n",
    "# Extracting indicator variables\n",
    "baseline_covariates_bin_new <- df_new %>%\n",
    "  dplyr::select(baseline_covariates_bin)\n",
    "\n",
    "lasso_covariates_bin_new <- df_new %>%\n",
    "  dplyr::select(lasso_covariates_bin)\n",
    "\n",
    "# Extracting outcome \n",
    "id <- data_new %>% dplyr::select(\"id\")\n",
    "\n",
    "# Setting up the data, renaming columns and discarding rows with NA (if any)\n",
    "df_new <- bind_cols(id, baseline_covariates_cont_new, baseline_covariates_bin_new, lasso_covariates_cont_new, lasso_covariates_bin_new) %>%\n",
    "  na.omit()\n",
    "\n",
    "\n",
    "# Baseline Covariates\n",
    "baseline_covariates_cont_train_old <- as.matrix(df_train[,c(4:9)]) \n",
    "preProcValues <- preProcess(baseline_covariates_cont_train_old , method = c(\"center\", \"scale\")) # Take means and standard deviations from training sample\n",
    "NewTransformed <- predict(preProcValues, baseline_covariates_cont_new)\n",
    "baseline_covariates_new <- as.matrix(cbind(NewTransformed,baseline_covariates_bin_new)) \n",
    "\n",
    "\n",
    "# Lasso Covariates\n",
    "l_cov_train_cont_old <- as.matrix(df_train[,c(4:6,8,20:25)])\n",
    "l_cov_train_cont_new <- as.matrix( bind_cols(baseline_covariates_cont_new,lasso_covariates_cont_new))\n",
    "l_cov_train_bin_new <- as.matrix( bind_cols(baseline_covariates_bin_new,lasso_covariates_bin_new))\n",
    "noise.covars.new <- matrix(data = rnorm(nrow(df_new)),  nrow = nrow(df_new), ncol = 13)\n",
    "colnames(noise.covars.new) <- c(\"noise1\", \"noise2\", \"noise3\", \"noise4\", \"noise5\", \"noise6\", \"noise7\", \"noise8\", \"noise9\", \"noise10\", \"noise11\", \"noise12\",\"noise13\")\n",
    "preProcValues <- preProcess(l_cov_train_cont_old, method = c(\"center\", \"scale\"))\n",
    "NewTransL <- predict(preProcValues, l_cov_train_cont_new)\n",
    "lasso_covariates_new <- as.matrix(cbind(NewTransL,l_cov_train_bin_new,noise.covars.new)) \n",
    "\n",
    "\n",
    "print('New data successfully extracted.')\n",
    "nrow(df_new)\n",
    "\n",
    "\n"
   ]
  },
  {
   "cell_type": "code",
   "execution_count": null,
   "metadata": {},
   "outputs": [],
   "source": []
  },
  {
   "cell_type": "markdown",
   "metadata": {},
   "source": [
    "## Save predictions"
   ]
  },
  {
   "cell_type": "code",
   "execution_count": 58,
   "metadata": {},
   "outputs": [],
   "source": [
    "\n",
    "# Save predictions\n",
    "predictions = matrix(NA,ncol=2, nrow=nrow(id))\n",
    "predictions <- cbind(df_new[,1],predictions)\n",
    "colnames(predictions) <- c(\"id\",\"final_price\", \"overprice\")\n",
    "write.csv(predictions, file = \"predictions.csv\")"
   ]
  },
  {
   "cell_type": "code",
   "execution_count": null,
   "metadata": {},
   "outputs": [],
   "source": []
  }
 ],
 "metadata": {
  "kernelspec": {
   "display_name": "R",
   "language": "R",
   "name": "ir"
  },
  "language_info": {
   "codemirror_mode": "r",
   "file_extension": ".r",
   "mimetype": "text/x-r-source",
   "name": "R",
   "pygments_lexer": "r",
   "version": "3.5.1"
  }
 },
 "nbformat": 4,
 "nbformat_minor": 2
}
