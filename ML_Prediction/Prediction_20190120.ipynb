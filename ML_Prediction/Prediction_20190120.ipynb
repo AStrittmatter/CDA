{
 "cells": [
  {
   "cell_type": "markdown",
   "metadata": {},
   "source": [
    "# PC Session 1"
   ]
  },
  {
   "cell_type": "markdown",
   "metadata": {},
   "source": [
    "# **Machine Learning for Prediction**"
   ]
  },
  {
   "cell_type": "markdown",
   "metadata": {},
   "source": [
    "**Authors:**\n",
    "Jonathan Chassot, [Helge Liebert](https://hliebert.github.io/), and [Anthony Strittmatter](http://www.anthonystrittmatter.com)\n"
   ]
  },
  {
   "cell_type": "markdown",
   "metadata": {},
   "source": [
    "We want to buy an used car at the online auction platform *MyLemons*. However, we are worried that many used cars on this platform are overpriced. Therefore, we make some market research before we buy an used car. For this purpose, you web-scrape the used car offers from the *MyLemons* platform. We restrict our sample to BMW 320 series, Opel Astra, Mercedes C-class, VW Golf, and VW Passat. We select only used cars with a mileage between 10,000-200,000 km and an age between 1-20 years. \n",
    "\n",
    "We obtain the following variables:\n",
    "\n",
    "\n",
    "|Variable name| Description|\n",
    "|:----|:----|\n",
    "|**Outcome variables** ||\n",
    "|*first_price*| First asking price in 1,000 CHF |\n",
    "|*final_price*| Transaction price in 1,000 CHF|\n",
    "|*overprice*| Dummy indicating *first_price > final_price* |\n",
    "|**Baseline covariates**| |\n",
    "|*bmw_320, opel_astra, mercedes_c, vw_golf, vw_passat*| Dummies for the car make and model|\n",
    "|*mileage*| Mileage of the used car (in 1,000 km)|\n",
    "|*age_car_years*| Age of the used car (in years)|\n",
    "|*diesel*| Dummy for diesel engines |\n",
    "|*private_seller*| Dummy for private seller (as opposed to professional used car sellers) |\n",
    "|*other_car_owner*| Number of previous caar owners |\n",
    "|*guarantee*| Dummy indicating that the seller offers a guarantee for the used car|\n",
    "|*maintenance_cert*| Dummy indicating that the seller has a complete maintenace certificate for the used car|\n",
    "|*inspection*| Categorial variable for the duration until next general inspection (3 categories: new, 1-2 years, < 1 year) |\n",
    "|*pm_green*| Dummy indicating that the used car has low particular matter emissions|\n",
    "|*co2_em*| CO2 emssion (in g/km)|\n",
    "|*euro_norm*| EURO emission norm under which the car is registered |\n",
    "|*page_title* | Text in the title of the used car offer |\n",
    "\n",
    "\n",
    "Furthermore, we generate some transformations of our covariates for later analysis. The transformed covariates are:\n",
    "\n",
    "|Variable name| Description|\n",
    "|:----|:----|\n",
    "|**Additional covariates** ||\n",
    "|*mileage2, mileage3, mileage4, age_car_years2, age_car_years3, age_car_years4*| Squared, cubic, and quadratic *mileage* and *age_car_years* |\n",
    "|*mile_20, mile_30, mile_40, mile_50, mile_100, mile_150*| Dummies indicating that the used car has a mileage above 20,000km, 30,000km, 40,000km, 50,000km, 100,000km, or 150,000km |\n",
    "|*age_3, age_6*| Dummies indicating that the used car is above 3 or 6 years old |\n",
    "|*dur_next_ins_0*| Dummy indicating that the duration until the next general inspection is less than a years |\n",
    "|*dur_next_ins_1_2*| Dummy indicating that the duration until the next general inspection is between 1 and 2 years |\n",
    "|*new_inspection*| Dummy indicating that the used car has a new general inspection |\n",
    "|*euro_1, euro_2, euro_3, euro_4, euro_5, euro_6*| Dummies for EURO emission norms |\n",
    "\n",
    "We store the prepared data in the file *used_cars.csv*.  \n"
   ]
  },
  {
   "cell_type": "markdown",
   "metadata": {},
   "source": [
    "## Load Packages"
   ]
  },
  {
   "cell_type": "code",
   "execution_count": 11,
   "metadata": {},
   "outputs": [
    {
     "name": "stdout",
     "output_type": "stream",
     "text": [
      "[1] \"All packages successfully installed and loaded.\"\n"
     ]
    }
   ],
   "source": [
    "########################  Load Packages  ########################\n",
    "\n",
    "# List of required packages\n",
    "pkgs <- c('fBasics', 'corrplot', 'psych', 'glmnet', 'glmnetUtils', 'rpart',\n",
    "          'rpart.plot', 'treeClust', 'randomForest', 'rlang', 'readr', 'devtools',\n",
    "          'tidyverse', 'grf', 'reshape2', 'caret', 'neuralnet', 'plotmo', 'dmlmt',\n",
    "           'doParallel', 'RandomFieldsUtils', 'doSNOW', 'rms')\n",
    "\n",
    "\n",
    "# Load packages\n",
    "for(pkg in pkgs){\n",
    "    library(pkg, character.only = TRUE)\n",
    "}\n",
    "\n",
    "print('All packages successfully installed and loaded.')"
   ]
  },
  {
   "cell_type": "markdown",
   "metadata": {},
   "source": [
    "## Load Data Frame"
   ]
  },
  {
   "cell_type": "markdown",
   "metadata": {},
   "source": [
    "Now we load the data frame and define different covariate categories. We distinguish between binary and continuous/discrete/categorial covariates. Furthermore, we select a subsample of 10,000 used cars in order to decrease the computation time while you are testing your code. We can use the entire sample of 104,719 used cars after we are finised with programming."
   ]
  },
  {
   "cell_type": "code",
   "execution_count": 12,
   "metadata": {},
   "outputs": [
    {
     "name": "stdout",
     "output_type": "stream",
     "text": [
      "[1] \"Data frame successfully loaded and sample selected.\"\n"
     ]
    }
   ],
   "source": [
    "########################  Load Data Frame  ########################\n",
    "\n",
    "set.seed(100239) # set starting value for random number generator\n",
    "\n",
    "# Load data frame\n",
    "data_raw <- read.csv(\"used_cars.csv\",header=TRUE, sep=\",\")\n",
    "\n",
    "# Outcome Variables\n",
    "outcomes <- c(\"first_price\", \"final_price\", \"overprice\")\n",
    "\n",
    "# Covariates/Features\n",
    "baseline_covariates_bin <- c(\"bmw_320\", \"opel_astra\", \"mercedes_c\", \"vw_golf\", \"vw_passat\", \n",
    "                          \"diesel\",   \"private_seller\", \"guarantee\", \"maintenance_cert\",  \"pm_green\") # binary\n",
    "baseline_covariates_cont <- c(\"mileage\", \"age_car_years\", \"other_car_owner\", \"inspection\",\n",
    "                              \"co2_em\", \"euro_norm\") # continuous/ordered discrete\n",
    "baseline_covariates <- c(baseline_covariates_cont,baseline_covariates_bin)\n",
    "lasso_covariates_bin <- c(\"mile_20\", \"mile_30\", \"mile_40\", \"mile_50\", \"mile_100\", \"mile_150\", \n",
    "                       \"age_3\", \"age_6\",\"dur_next_ins_0\", \"dur_next_ins_1_2\", \"new_inspection\",\n",
    "                       \"euro_1\", \"euro_2\", \"euro_3\", \"euro_4\", \"euro_5\", \"euro_6\") # binary \n",
    "lasso_covariates_cont <- c(\"mileage2\", \"mileage3\", \"mileage4\", \"age_car_years2\", \"age_car_years3\",\n",
    "                           \"age_car_years4\") # continuous\n",
    "\n",
    "text <- c(\"page_title\")\n",
    "\n",
    "lasso_covariates <- c(lasso_covariates_cont, lasso_covariates_bin)  \n",
    "all_covariates <- c(baseline_covariates, lasso_covariates)\n",
    "all_variables <- c(outcomes, baseline_covariates, lasso_covariates)\n",
    "\n",
    "# Selection of Subsample size, max. 104,719 observations\n",
    "# Select smaller subsample to decrease computation time\n",
    "n_obs <- 10000\n",
    "df <- data_raw %>%\n",
    "  dplyr::sample_n(n_obs) %>%\n",
    "  dplyr::select(all_variables)\n",
    "\n",
    "print('Data frame successfully loaded and sample selected.')"
   ]
  },
  {
   "cell_type": "markdown",
   "metadata": {},
   "source": [
    "## Descriptive Statistics"
   ]
  },
  {
   "cell_type": "markdown",
   "metadata": {},
   "source": [
    "### Means and Standard Deviations"
   ]
  },
  {
   "cell_type": "code",
   "execution_count": 13,
   "metadata": {},
   "outputs": [
    {
     "name": "stdout",
     "output_type": "stream",
     "text": [
      "                        Mean       Stdev Minimum      Maximum  nobs\n",
      "first_price             15.4         7.2     1.2         84.4 10000\n",
      "final_price             15.3         7.2     1.0         84.4 10000\n",
      "overprice                0.3         0.5     0.0          1.0 10000\n",
      "mileage                100.6        50.6    10.0        200.0 10000\n",
      "age_car_years            4.6         2.6     1.0         19.8 10000\n",
      "other_car_owner          1.1         0.7     0.0         11.0 10000\n",
      "inspection               0.9         0.7     0.0          2.0 10000\n",
      "co2_em                 138.5        25.1     1.0        250.0 10000\n",
      "euro_norm                4.8         0.5     1.0          6.0 10000\n",
      "bmw_320                  0.2         0.4     0.0          1.0 10000\n",
      "opel_astra               0.1         0.3     0.0          1.0 10000\n",
      "mercedes_c               0.1         0.4     0.0          1.0 10000\n",
      "vw_golf                  0.2         0.4     0.0          1.0 10000\n",
      "vw_passat                0.3         0.5     0.0          1.0 10000\n",
      "diesel                   0.8         0.4     0.0          1.0 10000\n",
      "private_seller           0.1         0.3     0.0          1.0 10000\n",
      "guarantee                0.1         0.3     0.0          1.0 10000\n",
      "maintenance_cert         0.7         0.4     0.0          1.0 10000\n",
      "pm_green                 0.9         0.3     0.0          1.0 10000\n",
      "mileage2             12685.8     10673.6   100.0      40000.0 10000\n",
      "mileage3           1800029.8   2028086.9  1000.0    8000000.0 10000\n",
      "mileage4         274845979.6 380537600.1 10000.0 1600000000.0 10000\n",
      "age_car_years2          28.3        33.6     1.0        392.0 10000\n",
      "age_car_years3         214.7       423.4     1.0       7762.4 10000\n",
      "age_car_years4        1927.9      5877.4     1.0     153695.4 10000\n",
      "mile_20                  1.0         0.2     0.0          1.0 10000\n",
      "mile_30                  0.9         0.3     0.0          1.0 10000\n",
      "mile_40                  0.8         0.4     0.0          1.0 10000\n",
      "mile_50                  0.8         0.4     0.0          1.0 10000\n",
      "mile_100                 0.5         0.5     0.0          1.0 10000\n",
      "mile_150                 0.2         0.4     0.0          1.0 10000\n",
      "age_3                    0.8         0.4     0.0          1.0 10000\n",
      "age_6                    0.3         0.4     0.0          1.0 10000\n",
      "dur_next_ins_0           0.3         0.5     0.0          1.0 10000\n",
      "dur_next_ins_1_2         0.5         0.5     0.0          1.0 10000\n",
      "new_inspection           0.2         0.4     0.0          1.0 10000\n",
      "euro_1                   0.0         0.0     0.0          1.0 10000\n",
      "euro_2                   0.0         0.0     0.0          1.0 10000\n",
      "euro_3                   0.0         0.1     0.0          1.0 10000\n",
      "euro_4                   0.2         0.4     0.0          1.0 10000\n",
      "euro_5                   0.7         0.5     0.0          1.0 10000\n",
      "euro_6                   0.1         0.2     0.0          1.0 10000\n"
     ]
    }
   ],
   "source": [
    "########################  Table with Descriptive Statistics  ########################\n",
    "\n",
    "desc <- fBasics::basicStats(df) %>% t() %>% as.data.frame() %>% \n",
    "  select(Mean, Stdev, Minimum, Maximum, nobs)\n",
    "print(round(desc, digits=1))\n",
    "\n",
    "# Print as tex-file\n",
    "#kable(desc, \"latex\", booktabs = T)"
   ]
  },
  {
   "cell_type": "markdown",
   "metadata": {},
   "source": [
    "### Correlation Matrix"
   ]
  },
  {
   "cell_type": "code",
   "execution_count": 14,
   "metadata": {},
   "outputs": [
    {
     "data": {
      "text/html": [
       "<strong>png:</strong> 2"
      ],
      "text/latex": [
       "\\textbf{png:} 2"
      ],
      "text/markdown": [
       "**png:** 2"
      ],
      "text/plain": [
       "png \n",
       "  2 "
      ]
     },
     "metadata": {},
     "output_type": "display_data"
    },
    {
     "data": {
      "image/png": "[encoded data removed]",
      "text/plain": [
       "Plot with title \"\""
      ]
     },
     "metadata": {},
     "output_type": "display_data"
    }
   ],
   "source": [
    "########################  Correlation Matrix  ########################\n",
    "\n",
    "corr = cor(df)\n",
    "corrplot(corr, type = \"upper\", tl.col = \"black\")\n",
    "\n",
    "# Save correlation matrix as png-file\n",
    "png(height=1200, width=1200, file=\"correlation.png\")\n",
    "    corrplot(corr, type = \"upper\", tl.col = \"black\")\n",
    "dev.off()"
   ]
  },
  {
   "cell_type": "markdown",
   "metadata": {},
   "source": [
    "## Extract Data"
   ]
  },
  {
   "cell_type": "markdown",
   "metadata": {},
   "source": [
    "We extract the variables from the data frame and drop observations with missing values."
   ]
  },
  {
   "cell_type": "code",
   "execution_count": 15,
   "metadata": {},
   "outputs": [
    {
     "name": "stdout",
     "output_type": "stream",
     "text": [
      "[1] \"Title of car offers\"\n"
     ]
    },
    {
     "data": {
      "text/html": [
       "<table>\n",
       "<thead><tr><th scope=col>page_title</th></tr></thead>\n",
       "<tbody>\n",
       "\t<tr><td>Volkswagen Passat Variant 2.0 FSI 4Motion Comfortline      </td></tr>\n",
       "\t<tr><td>Volkswagen Passat Variant 2.0 TDI DSG BlueMotion Technolog </td></tr>\n",
       "\t<tr><td>Volkswagen Passat Var. 1.6 TDI 3 J. Wartung gratis         </td></tr>\n",
       "\t<tr><td>BMW 335 d xDrive Touring Automatic Standheiz Navi 19''     </td></tr>\n",
       "\t<tr><td>BMW 318 i Touring (Navi Xenon AHK Schiebedach Climatron    </td></tr>\n",
       "\t<tr><td>Volkswagen Golf Variant 1.6 TDI DPF BlueMotion Techno Trend</td></tr>\n",
       "\t<tr><td>Opel Astra 1.7 CDTI DPF Sports Tourer                      </td></tr>\n",
       "\t<tr><td>Opel Astra 1.6 Caravan Easytronic Edition                  </td></tr>\n",
       "\t<tr><td>Volkswagen Passat Variant 2.0 TDI DSG Sportline            </td></tr>\n",
       "\t<tr><td>Opel Astra J Sports Tourer Selection, Sonderpreise!        </td></tr>\n",
       "</tbody>\n",
       "</table>\n"
      ],
      "text/latex": [
       "\\begin{tabular}{r|l}\n",
       " page\\_title\\\\\n",
       "\\hline\n",
       "\t Volkswagen Passat Variant 2.0 FSI 4Motion Comfortline      \\\\\n",
       "\t Volkswagen Passat Variant 2.0 TDI DSG BlueMotion Technolog \\\\\n",
       "\t Volkswagen Passat Var. 1.6 TDI 3 J. Wartung gratis         \\\\\n",
       "\t BMW 335 d xDrive Touring Automatic Standheiz Navi 19''     \\\\\n",
       "\t BMW 318 i Touring (Navi Xenon AHK Schiebedach Climatron    \\\\\n",
       "\t Volkswagen Golf Variant 1.6 TDI DPF BlueMotion Techno Trend\\\\\n",
       "\t Opel Astra 1.7 CDTI DPF Sports Tourer                      \\\\\n",
       "\t Opel Astra 1.6 Caravan Easytronic Edition                  \\\\\n",
       "\t Volkswagen Passat Variant 2.0 TDI DSG Sportline            \\\\\n",
       "\t Opel Astra J Sports Tourer Selection, Sonderpreise!        \\\\\n",
       "\\end{tabular}\n"
      ],
      "text/markdown": [
       "\n",
       "page_title | \n",
       "|---|---|---|---|---|---|---|---|---|---|\n",
       "| Volkswagen Passat Variant 2.0 FSI 4Motion Comfortline       | \n",
       "| Volkswagen Passat Variant 2.0 TDI DSG BlueMotion Technolog  | \n",
       "| Volkswagen Passat Var. 1.6 TDI 3 J. Wartung gratis          | \n",
       "| BMW 335 d xDrive Touring Automatic Standheiz Navi 19''      | \n",
       "| BMW 318 i Touring (Navi Xenon AHK Schiebedach Climatron     | \n",
       "| Volkswagen Golf Variant 1.6 TDI DPF BlueMotion Techno Trend | \n",
       "| Opel Astra 1.7 CDTI DPF Sports Tourer                       | \n",
       "| Opel Astra 1.6 Caravan Easytronic Edition                   | \n",
       "| Volkswagen Passat Variant 2.0 TDI DSG Sportline             | \n",
       "| Opel Astra J Sports Tourer Selection, Sonderpreise!         | \n",
       "\n",
       "\n"
      ],
      "text/plain": [
       "   page_title                                                 \n",
       "1  Volkswagen Passat Variant 2.0 FSI 4Motion Comfortline      \n",
       "2  Volkswagen Passat Variant 2.0 TDI DSG BlueMotion Technolog \n",
       "3  Volkswagen Passat Var. 1.6 TDI 3 J. Wartung gratis         \n",
       "4  BMW 335 d xDrive Touring Automatic Standheiz Navi 19''     \n",
       "5  BMW 318 i Touring (Navi Xenon AHK Schiebedach Climatron    \n",
       "6  Volkswagen Golf Variant 1.6 TDI DPF BlueMotion Techno Trend\n",
       "7  Opel Astra 1.7 CDTI DPF Sports Tourer                      \n",
       "8  Opel Astra 1.6 Caravan Easytronic Edition                  \n",
       "9  Volkswagen Passat Variant 2.0 TDI DSG Sportline            \n",
       "10 Opel Astra J Sports Tourer Selection, Sonderpreise!        "
      ]
     },
     "metadata": {},
     "output_type": "display_data"
    },
    {
     "name": "stdout",
     "output_type": "stream",
     "text": [
      "[1] \"Data successfully extracted.\"\n"
     ]
    }
   ],
   "source": [
    "########################  Extract Dataset  ########################\n",
    "\n",
    "# Extracting continuous variables\n",
    "baseline_covariates_cont <- df %>%\n",
    "  dplyr::select(baseline_covariates_cont) \n",
    "\n",
    "lasso_covariates_cont <- df %>%\n",
    "  dplyr::select(lasso_covariates_cont) \n",
    "\n",
    "# Extracting indicator variables\n",
    "baseline_covariates_bin <- df %>%\n",
    "  dplyr::select(baseline_covariates_bin)\n",
    "\n",
    "lasso_covariates_bin <- df %>%\n",
    "  dplyr::select(lasso_covariates_bin)\n",
    "\n",
    "# Extracting outcome \n",
    "outcomes <- df %>% dplyr::select(outcomes)\n",
    "\n",
    "# Extracting text\n",
    "text <- data_raw %>% dplyr::select(text)\n",
    "print('Title of car offers')\n",
    "head(text, n= 10)\n",
    "\n",
    "# Setting up the data, renaming columns and discarding rows with NA (if any)\n",
    "df <- bind_cols(outcomes, baseline_covariates_cont, baseline_covariates_bin, lasso_covariates_cont, lasso_covariates_bin) %>%\n",
    "  na.omit()\n",
    "\n",
    "print('Data successfully extracted.')"
   ]
  },
  {
   "cell_type": "markdown",
   "metadata": {},
   "source": [
    "## Take Hold-Out-Sample and Scale Data"
   ]
  },
  {
   "cell_type": "markdown",
   "metadata": {},
   "source": [
    "We want to compare the relative prediction power of different estimation procedures based on the out-of-sample MSE and $R^2$. For this purpose, we create an hold-out-sample. \n",
    "\n",
    "Furthermore, we standardise the continuous covariates by the means and standard deviations. Some machine learning algorithms are sensitive to rescaling. Even though most machine learning procedures standardise the covariates automatically, this is a cautionary transformation for those procedures that have no automatic standardisation implemented."
   ]
  },
  {
   "cell_type": "code",
   "execution_count": 16,
   "metadata": {},
   "outputs": [
    {
     "name": "stdout",
     "output_type": "stream",
     "text": [
      "[1] \"The data is now ready for your first analysis!\"\n"
     ]
    }
   ],
   "source": [
    "########################  Take Hold-Out-Sample  ########################\n",
    "\n",
    "df_part <- modelr::resample_partition(df, c(obs = 0.8, hold_out = 0.2))\n",
    "df_obs <- as.data.frame(df_part$obs) # Training and estimation sample\n",
    "df_hold_out <- as.data.frame(df_part$hold_out) # Hold-out-sample\n",
    "\n",
    "# Outcomes\n",
    "first_price_obs <- as.matrix(df_obs[,1])\n",
    "final_price_obs <- as.matrix(df_obs[,2])\n",
    "overprice_obs <- as.matrix(df_obs[,3])\n",
    "\n",
    "first_price_hold_out <- as.matrix(df_hold_out[,1])\n",
    "final_price_hold_out <- as.matrix(df_hold_out[,2])\n",
    "overprice_hold_out <- as.matrix(df_hold_out[,3])\n",
    "\n",
    "## Covariates/Features\n",
    "baseline_covariates_cont_obs <- as.matrix(df_obs[,c(4:9)])\n",
    "baseline_covariates_bin_obs <- as.matrix(df_obs[,c(10:19)])\n",
    "baseline_covariates_hold_cont_out <- as.matrix(df_hold_out[,c(4:9)])\n",
    "baseline_covariates_hold_bin_out <- as.matrix(df_hold_out[,c(10:19)])\n",
    "\n",
    "# Standardise continuous covariates\n",
    "preProcValues <- preProcess(baseline_covariates_cont_obs, method = c(\"center\", \"scale\")) # Take means and standard deviations from training sample\n",
    "ObsTransformed <- predict(preProcValues, baseline_covariates_cont_obs) # Apply the transformation to trainings sample\n",
    "HoldOutTransformed <- predict(preProcValues, baseline_covariates_hold_cont_out) # Apply the transformation to hold-out-sample (based on means and standard deviations from training sample)\n",
    "# Note: Outcome variables are not rescaled\n",
    "\n",
    "baseline_covariates_obs <- as.matrix(cbind(ObsTransformed,baseline_covariates_bin_obs)) \n",
    "baseline_covariates_hold_out <- as.matrix(cbind(HoldOutTransformed,baseline_covariates_hold_bin_out)) \n",
    "                  \n",
    "print('The data is now ready for your first analysis!')"
   ]
  },
  {
   "cell_type": "markdown",
   "metadata": {},
   "source": [
    "# Tree Estimators"
   ]
  },
  {
   "cell_type": "markdown",
   "metadata": {},
   "source": [
    "We start the prediction of the final used car price with a tree estimator. Trees partition the sample into mutually exclusive groups $l_j$, which are called terminal leaves. Let $\\pi= \\{ l_1, ...,l_{\\# (\\pi)} \\}$ be a specific tree or sample partition, let $l_j \\equiv l_j (x,\\pi)$ be the respective terminal leaf (for $j=1,…,\\#(\\pi))$, and let $\\#(\\pi)$ be the number of terminal leaves in tree $\\pi$. The terminal leaf $l_j (x,\\pi)$ of tree $\\pi$ is a function of the covariates $X_{i}$ (for $i = 1,..., N$ used cars) such that $x \\in l_j$. \n",
    "\n",
    "For an explicit example, consider that $X_{i}$ contains only a binary indicator for used diesel cars. Then, we can choose between two possible trees; either we make no sample split, $\\pi'=\\{ l_1 \\}=\\{ \\mbox{diesel}, \\mbox{gasoline} \\}$, or we partition used diesel and gasoline cars into two separate leaves, $\\pi'' =\\{ l_1,l_2 \\}= \\{ \\{ \\mbox{diesel} \\}, \\{ \\mbox{gasoline} \\} \\}$.  \n",
    "\n",
    "Trees select the partition $\\pi$ by recursively adding leaves to the tree that minimise the MSE. Accordingly, trees aim to partition the sample into leaves with homogeneous outcomes. Because of the hierarchical partition structure, the first splits contribute more prediction power than the last splits. \n",
    "\n",
    "\n",
    "For a specific tree $\\pi$, you can predict the final used car price by\n",
    "\\begin{equation*}\n",
    "\\hat{E}[final\\_price|X_i=x,\\pi] = \\frac{1}{\\sum_{i=1}^{N}1\\{ X_{i} \\in l_j(x,\\pi)\\}}\\sum_{i=1}^{N} 1\\{ X_{i} \\in l_j(x,\\pi)\\} \\cdot final\\_price.\n",
    "\\end{equation*}\n",
    "\n"
   ]
  },
  {
   "cell_type": "markdown",
   "metadata": {},
   "source": [
    "## Shallow Tree"
   ]
  },
  {
   "cell_type": "markdown",
   "metadata": {},
   "source": [
    "We start the analysis with a reletively small (shallow) tree, by imposing the restriction that each terminal leave needs to contain at least 500 used cars."
   ]
  },
  {
   "cell_type": "code",
   "execution_count": 17,
   "metadata": {},
   "outputs": [
    {
     "name": "stdout",
     "output_type": "stream",
     "text": [
      "[1] \"Relative CV-MSE for different tree sizes\"\n",
      "           CP nsplit rel error    xerror       xstd\n",
      "1 0.323555506      0 1.0000000 1.0001682 0.02314271\n",
      "2 0.108559478      1 0.6764445 0.6768081 0.01762231\n",
      "3 0.048975900      2 0.5678850 0.5716811 0.01811835\n",
      "4 0.028696527      3 0.5189091 0.5244401 0.01712483\n",
      "5 0.024445429      4 0.4902126 0.4958408 0.01698741\n",
      "6 0.010814262      5 0.4657672 0.4774923 0.01685817\n",
      "7 0.009932285      6 0.4549529 0.4611415 0.01646857\n",
      "8 0.000020000      7 0.4450206 0.4568488 0.01644073\n"
     ]
    },
    {
     "data": {
      "text/html": [
       "<strong>png:</strong> 2"
      ],
      "text/latex": [
       "\\textbf{png:} 2"
      ],
      "text/markdown": [
       "**png:** 2"
      ],
      "text/plain": [
       "png \n",
       "  2 "
      ]
     },
     "metadata": {},
     "output_type": "display_data"
    },
    {
     "data": {
      "image/png": "[encoded data removed]",
      "text/plain": [
       "plot without title"
      ]
     },
     "metadata": {},
     "output_type": "display_data"
    }
   ],
   "source": [
    "########################  Build Trees with different Leave Sizes  ########################                         \n",
    "\n",
    "# Prepare data for tree estimator\n",
    "tree_data_obs <-  data.frame(final_price_obs, baseline_covariates_obs)\n",
    "empty <- as.matrix(final_price_hold_out)\n",
    "empty[1,] <-NA\n",
    "tree_data_hold_out <- data.frame(rbind(final_price_obs,empty),rbind(baseline_covariates_obs, baseline_covariates_hold_out))\n",
    "\n",
    "# Setup the formula of the linear regression model\n",
    "sumx <- paste(baseline_covariates, collapse = \" + \")  \n",
    "linear <- paste(\"final_price_obs\",paste(sumx, sep=\" + \"), sep=\" ~ \")\n",
    "linear <- as.formula(linear)\n",
    "\n",
    "# Build the tree\n",
    "linear.singletree_1 <- rpart(formula = linear, data = tree_data_obs , method = \"anova\", xval = 10,\n",
    "                             y = TRUE, control = rpart.control(cp = 0.00002, minbucket=500))\n",
    "# Note: 'minbucket=500' imposes the restriction that each terminal leave should contain at least 500 used cars. Algorithm 'rpart' stops growing trees when either one leave has less than 500 observations or the MSE gain of addidng one addidtional leave is below cp=0.00002.\n",
    "\n",
    "print('Relative CV-MSE for different tree sizes')\n",
    "print(linear.singletree_1$cptable)\n",
    "\n",
    "# Plot CV-MSE\n",
    "plotcp(linear.singletree_1)\n",
    "\n",
    "# Save CV-MSE as png-file\n",
    "png(filename= \"cp_tree1.png\", units=\"in\", width=5, height=4, pointsize=12, res=72)\n",
    "    plotcp(linear.singletree_1)\n",
    "dev.off()"
   ]
  },
  {
   "cell_type": "markdown",
   "metadata": {},
   "source": [
    "We select the tree that minimises the CV-MSE."
   ]
  },
  {
   "cell_type": "code",
   "execution_count": 18,
   "metadata": {},
   "outputs": [
    {
     "name": "stdout",
     "output_type": "stream",
     "text": [
      "[1] \"Optimal number final leaves: 8\"\n"
     ]
    }
   ],
   "source": [
    "########################  Select the Tree that Minimises CV-MSE  ######################## \n",
    "\n",
    "op.index_1 <- which.min(linear.singletree_1$cptable[, \"xerror\"])\n",
    "print(paste0(\"Optimal number final leaves: \", op.index_1))\n",
    "\n",
    "# Get cp-value that corresponds to optimal tree size\n",
    "cp.vals_1 <- linear.singletree_1$cptable[op.index_1, \"CP\"]"
   ]
  },
  {
   "cell_type": "markdown",
   "metadata": {},
   "source": [
    "The CV-MSE is minimised at the maximum leave size of eight. This suggests that the tree is not deep enough to unfold the bias-variance trade-off. For illustrational purposes, we continue working with this shallow tree, but later we will relax the restrictions on the minimum leave size.\n",
    "\n",
    "Next we estimate RMSE and $R^2$ to evaluate the performance of the shallow tree."
   ]
  },
  {
   "cell_type": "code",
   "execution_count": 19,
   "metadata": {},
   "outputs": [
    {
     "name": "stdout",
     "output_type": "stream",
     "text": [
      "[1] \"In-Sample RMSE: 4.794\"\n",
      "[1] \"Hold-out-Sample RMSE: 4.859\"\n",
      "[1] \"In-Sample R-squared: 0.555\"\n",
      "[1] \"Hold-out-Sample R-squared: 0.529\"\n"
     ]
    }
   ],
   "source": [
    "########################  Select the Optimal Tree and Assess Out-of-Sample Performance  ######################## \n",
    "\n",
    "# Prune the tree\n",
    "treepruned.linearsingle_1 <- prune(linear.singletree_1, cp = cp.vals_1)\n",
    "\n",
    "# Predict final price in the observed and hold-out-samples\n",
    "pred_tree_hold_out_1 <- as.matrix(predict(treepruned.linearsingle_1, newdata=tree_data_hold_out))\n",
    "pred_tree_obs_1 <- pred_tree_hold_out_1[c(1:nrow(tree_data_obs)),]\n",
    "r <-nrow(final_price_obs)+1\n",
    "pred_tree_hold_out_1 <- pred_tree_hold_out_1[c(r:nrow(pred_tree_hold_out_1)),]\n",
    "\n",
    "## Assess performance of tree estimator\n",
    "# In-sample RMSE\n",
    "rmse_obs_1 <- round(sqrt(mean((final_price_obs - pred_tree_obs_1)^2)),digits=3)\n",
    "# Hold-out-sample RMSE\n",
    "rmse_hold_out_1 <- round(sqrt(mean((final_price_hold_out - pred_tree_hold_out_1)^2)),digits=3)\n",
    "# In-sample R-squared\n",
    "r2_obs_1 <- round(1-mean((final_price_obs - pred_tree_obs_1)^2)/mean((final_price_obs - mean(final_price_obs))^2),digits=3)\n",
    "# Hold-out-sample R-squared\n",
    "r2_hold_out_1 <- round(1-mean((final_price_hold_out - pred_tree_hold_out_1)^2)/mean((final_price_hold_out - mean(final_price_hold_out))^2),digits=3)\n",
    "\n",
    "print(paste0(\"In-Sample RMSE: \", rmse_obs_1))\n",
    "print(paste0(\"Hold-out-Sample RMSE: \", rmse_hold_out_1))\n",
    "print(paste0(\"In-Sample R-squared: \", r2_obs_1))\n",
    "print(paste0(\"Hold-out-Sample R-squared: \", r2_hold_out_1))"
   ]
  },
  {
   "cell_type": "markdown",
   "metadata": {},
   "source": [
    "By splitting the sample into eight groups, we can explain already 53\\% of the out-of-sample *final_price*. Next, we visualise the tree by plotting the tree structure."
   ]
  },
  {
   "cell_type": "code",
   "execution_count": 20,
   "metadata": {},
   "outputs": [
    {
     "data": {
      "text/html": [
       "<strong>png:</strong> 2"
      ],
      "text/latex": [
       "\\textbf{png:} 2"
      ],
      "text/markdown": [
       "**png:** 2"
      ],
      "text/plain": [
       "png \n",
       "  2 "
      ]
     },
     "metadata": {},
     "output_type": "display_data"
    },
    {
     "data": {
      "image/png": "[encoded data removed]",
      "text/plain": [
       "plot without title"
      ]
     },
     "metadata": {},
     "output_type": "display_data"
    }
   ],
   "source": [
    "########################  Visulatisation of tree  ######################## \n",
    "\n",
    "## Plot tree structure\n",
    "rpart.plot(treepruned.linearsingle_1,digits=3)\n",
    "# Note: All continuous variables are standardised.\n",
    "\n",
    "# Save tree structure as png-file\n",
    "png(filename= \"full_tree1.png\",units=\"in\", width=9, height=9, pointsize=12,res=72)\n",
    "    rpart.plot(treepruned.linearsingle_1,digits=3)\n",
    "dev.off()\n"
   ]
  },
  {
   "cell_type": "markdown",
   "metadata": {},
   "source": [
    "We have to be careful when interpreting the leaves of the tree. That some sample splits are based on, e.g., *car_age_years* does not necessarily mean that *car_age_years* causally affects *final_price*. The reason is, *car_age_years* is correlated with several other covartiates (e.g., *mileage* and *co2_em*). Possibly, the causal effect operates through one of the correlated covariates and *car_age_years* is just a good proxy for them. To demonstrate this, we plot the average value of each covariate for each leaf.\n"
   ]
  },
  {
   "cell_type": "code",
   "execution_count": 21,
   "metadata": {},
   "outputs": [
    {
     "data": {},
     "metadata": {},
     "output_type": "display_data"
    },
    {
     "data": {
      "text/html": [
       "<strong>png:</strong> 2"
      ],
      "text/latex": [
       "\\textbf{png:} 2"
      ],
      "text/markdown": [
       "**png:** 2"
      ],
      "text/plain": [
       "png \n",
       "  2 "
      ]
     },
     "metadata": {},
     "output_type": "display_data"
    },
    {
     "data": {
      "image/png": "[encoded data removed]",
      "text/plain": [
       "plot without title"
      ]
     },
     "metadata": {},
     "output_type": "display_data"
    }
   ],
   "source": [
    "######################## Average Value of Each Covariate by Leaf  ######################## \n",
    "## Code from Susan Athey and Guido Imbens AEA lecture\n",
    "\n",
    "# Take hold-out data only\n",
    "tree_data_out <- data.frame(pred_tree_hold_out_1, baseline_covariates_hold_out)\n",
    "\n",
    "# Map to each individual row the leaf number and add the covariates\n",
    "individual_leaf <- treeClust::rpart.predict.leaves(treepruned.linearsingle_1, tree_data_out)  %>% \n",
    "  as_tibble()  %>% \n",
    "  dplyr::rename(leaf=value) \n",
    "leaf_covariates <- cbind(individual_leaf, tree_data_out[baseline_covariates])\n",
    "\n",
    "# Get predicted final price of each leaf \n",
    "leaf_price <- treepruned.linearsingle_1$frame %>% as_tibble() %>%\n",
    "  dplyr::mutate(row = 1:nrow(.)) %>% \n",
    "  dplyr::filter(var == \"<leaf>\") %>% \n",
    "  dplyr::rename(leaf=row, pred_price=yval) %>% \n",
    "  dplyr::select(leaf, pred_price) \n",
    "\n",
    "# Merge all the information on leaf level\n",
    "leaf_data <- left_join(leaf_covariates, leaf_price, by=\"leaf\")\n",
    "\n",
    "# Mean of each covariate on each leaf, \n",
    "# Leafs sorted and renumbered by predicted prive\n",
    "leaf_mean <- leaf_data %>% \n",
    "  dplyr::group_by(leaf) %>%\n",
    "  dplyr::summarise_all(mean) %>%\n",
    "  dplyr::arrange(desc(pred_price)) %>%\n",
    "  dplyr::mutate(leaf = 1:nrow(.)) \n",
    "\n",
    "# Plot\n",
    "plt <- leaf_mean %>% \n",
    "  dplyr::select(leaf, baseline_covariates[c(16:1)]) %>%\n",
    "  melt(id=\"leaf\") %>%\n",
    "  ggplot(aes(x=factor(leaf), y=variable, fill=value)) +\n",
    "  geom_raster() +\n",
    "  scale_fill_gradient2() + \n",
    "  scale_x_discrete(breaks=seq_along(leaf_mean$pred_price),      \n",
    "                   labels=round(leaf_mean$pred_price, 1)) +\n",
    "  # From here on, all the code is optional styling\n",
    "  geom_tile(colour=\"white\",size=0.25) +            # white cell border\n",
    "  labs(x=\"Predicted final price\",\n",
    "       y=\"\", title=\"Average covariate value by leaf\") +# axis labels \n",
    "  coord_fixed()+                                   # square cells\n",
    "  theme_grey(base_size=8)+                         # basic hue \n",
    "  theme(\n",
    "    axis.text=element_text(face=\"bold\"),      # axis font style\n",
    "    plot.background=element_blank(),          # cleaner background\n",
    "    panel.border=element_blank(),             # cleaner panel\n",
    "    legend.key.width=grid::unit(0.2,\"cm\"),    # slim legend color bar\n",
    "    axis.ticks=element_line(size=0.4),        # tick style\n",
    "    axis.text.x=element_text(size=7,          # tick label style\n",
    "                             colour=\"grey40\",\n",
    "                             angle = 60,\n",
    "                             hjust = 1),\n",
    "    plot.title=element_text(colour=\"grey40\",  # plot title style\n",
    "                            hjust=.5,size=7,\n",
    "                            face=\"bold\")\n",
    "  )\n",
    "\n",
    "plot(plt)\n",
    "\n",
    "# Save average covariate values as png-file\n",
    "png(filename= \"regressor_values.png\",units=\"in\", width=6, height=6, pointsize=38,res=300)\n",
    "    plt\n",
    "dev.off()"
   ]
  },
  {
   "cell_type": "markdown",
   "metadata": {},
   "source": [
    "The structure of the average covariates is similar for *milage*, *age_car_years* and negatively correlated with *euro_norm*. Accordingly, all of these variables could to some extend replace each other for the prediction of *final_price*. "
   ]
  },
  {
   "cell_type": "markdown",
   "metadata": {},
   "source": [
    "## Deep Tree"
   ]
  },
  {
   "cell_type": "markdown",
   "metadata": {},
   "source": [
    "Now we relax the restriction on the minimum leave size."
   ]
  },
  {
   "cell_type": "code",
   "execution_count": 22,
   "metadata": {},
   "outputs": [
    {
     "name": "stdout",
     "output_type": "stream",
     "text": [
      "[1] \"Optimal number final leaves: 338\"\n"
     ]
    },
    {
     "data": {
      "image/png": "[encoded data removed]",
      "text/plain": [
       "plot without title"
      ]
     },
     "metadata": {},
     "output_type": "display_data"
    }
   ],
   "source": [
    "######################## Deep tree estimator  ########################                         \n",
    "\n",
    "# Build deep Tree\n",
    "linear.singletree_2 <- rpart(formula = linear, data = tree_data_obs , method = \"anova\", xval = 10,\n",
    "                             y = TRUE, control = rpart.control(cp = 0.00002, minbucket=5))\n",
    "\n",
    "# Find tree size that minimises CV-MSE\n",
    "op.index_2 <- which.min(linear.singletree_2$cptable[, \"xerror\"])\n",
    "print(paste0(\"Optimal number final leaves: \", op.index_2))\n",
    "\n",
    "# Plot CV-MSE\n",
    "plotcp(linear.singletree_2)\n",
    "abline(v = op.index_2, lty = \"dashed\")\n"
   ]
  },
  {
   "cell_type": "markdown",
   "metadata": {},
   "source": [
    "We plot the struture of the deep tree."
   ]
  },
  {
   "cell_type": "code",
   "execution_count": 23,
   "metadata": {},
   "outputs": [
    {
     "name": "stderr",
     "output_type": "stream",
     "text": [
      "Warning message:\n",
      "\"labs do not fit even at cex 0.15, there may be some overplotting\""
     ]
    },
    {
     "data": {
      "image/png": "[encoded data removed]",
      "text/plain": [
       "plot without title"
      ]
     },
     "metadata": {},
     "output_type": "display_data"
    },
    {
     "data": {
      "image/png": "[encoded data removed]",
      "text/plain": [
       "Plot with title \"First few leaves\""
      ]
     },
     "metadata": {},
     "output_type": "display_data"
    }
   ],
   "source": [
    "# Get cp-value that corresponds to optimal tree size\n",
    "cp.vals_2 <- linear.singletree_2$cptable[op.index_2, \"CP\"]\n",
    "\n",
    "# Prune the tree\n",
    "treepruned.linearsingle_2 <- prune(linear.singletree_2, cp = cp.vals_2)\n",
    "\n",
    "# Plot tree structure\n",
    "rpart.plot(treepruned.linearsingle_2,digits=3)\n",
    "treepruned.linearsingle_2_short <- prune(linear.singletree_2, cp = 150*cp.vals_2)\n",
    "rpart.plot(treepruned.linearsingle_2_short,digits=3, main = \"First few leaves\",fallen.leaves=FALSE)\n"
   ]
  },
  {
   "cell_type": "markdown",
   "metadata": {},
   "source": [
    "The entire deep tree has 338 terminal leaves. It is too complex to plot and understand the entire tree. However, we can look at the first few splits of the deep tree: Because of the hirachical tree structure the first splits make the largest contribution to the prediction of *final_price*. "
   ]
  },
  {
   "cell_type": "code",
   "execution_count": 24,
   "metadata": {},
   "outputs": [
    {
     "name": "stdout",
     "output_type": "stream",
     "text": [
      "[1] \"In-Sample RMSE: 2.132\"\n",
      "[1] \"Hold-out-Sample RMSE: 2.928\"\n",
      "[1] \"In-Sample R-squared: 0.912\"\n",
      "[1] \"Hold-out-Sample R-squared: 0.829\"\n"
     ]
    }
   ],
   "source": [
    "# Predict final price in the observed and hold-out-samples\n",
    "pred_tree_hold_out_2 <- as.matrix(predict(treepruned.linearsingle_2, newdata=tree_data_hold_out))\n",
    "pred_tree_obs_2 <- pred_tree_hold_out_2[c(1:nrow(tree_data_obs)),]\n",
    "r <-nrow(final_price_obs)+1\n",
    "pred_tree_hold_out_2 <- pred_tree_hold_out_2[c(r:nrow(pred_tree_hold_out_2)),]\n",
    "\n",
    "## Assess performance of tree estimator\n",
    "# In-sample RMSE\n",
    "rmse_obs_2 <- round(sqrt(mean((final_price_obs - pred_tree_obs_2)^2)),digits=3)\n",
    "# Hold-out-sample RMSE\n",
    "rmse_hold_out_2 <- round(sqrt(mean((final_price_hold_out - pred_tree_hold_out_2)^2)),digits=3)\n",
    "# In-sample R-squared\n",
    "r2_obs_2 <- round(1-mean((final_price_obs - pred_tree_obs_2)^2)/mean((final_price_obs - mean(final_price_obs))^2),digits=3)\n",
    "# Hold-out-sample R-squared\n",
    "r2_hold_out_2 <- round(1-mean((final_price_hold_out - pred_tree_hold_out_2)^2)/mean((final_price_hold_out - mean(final_price_hold_out))^2),digits=3)\n",
    "\n",
    "print(paste0(\"In-Sample RMSE: \", rmse_obs_2))\n",
    "print(paste0(\"Hold-out-Sample RMSE: \", rmse_hold_out_2))\n",
    "print(paste0(\"In-Sample R-squared: \", r2_obs_2))\n",
    "print(paste0(\"Hold-out-Sample R-squared: \", r2_hold_out_2))"
   ]
  },
  {
   "cell_type": "markdown",
   "metadata": {},
   "source": [
    "We can compare the relative performance of the shallow and deep tree. The deep tree has substaintially better prediction power than the shallow tree. However, the deep tree is more difficult to interpret than the shallow tree."
   ]
  },
  {
   "cell_type": "markdown",
   "metadata": {},
   "source": [
    "## Deep Honest Tree"
   ]
  },
  {
   "cell_type": "markdown",
   "metadata": {},
   "source": [
    "It is difficult to obtain valid inference after model selection when the same data is used to train and estimate the tree. The honest tree partitions the sample randomly into training and estimation sample. The training sample is used to build the tree and to select the optomal tree size based on the CV procedure. Afterwards the pruned tree is used to estimnate the *final_price* in the estimation sample. Based on an independent sampling argument we can ignore the model selection step to compute the inference of the honest tree."
   ]
  },
  {
   "cell_type": "code",
   "execution_count": 25,
   "metadata": {},
   "outputs": [
    {
     "name": "stdout",
     "output_type": "stream",
     "text": [
      "[1] \"Optimal number final leaves: 266\"\n",
      "[1] \"Training-Sample RMSE: 1.956\"\n",
      "[1] \"Estimation-Sample RMSE: 3.05\"\n",
      "[1] \"Hold-out-Sample RMSE: 2.921\"\n",
      "[1] \"Training-Sample R-squared: 0.926\"\n",
      "[1] \"Estimation-Sample R-squared: 0.819\"\n",
      "[1] \"Hold-out-Sample R-squared: 0.83\"\n"
     ]
    },
    {
     "data": {
      "image/png": "[encoded data removed]",
      "text/plain": [
       "plot without title"
      ]
     },
     "metadata": {},
     "output_type": "display_data"
    }
   ],
   "source": [
    "######################## Honest deep tree estimator ########################                        \n",
    "\n",
    "# Create tratining and estimation sample\n",
    "df_obs_part <- modelr::resample_partition(df_obs, c(train = 0.5, est = 0.5))\n",
    "df_train <- as.data.frame(df_obs_part$train)\n",
    "df_est <- as.data.frame(df_obs_part$est)\n",
    "\n",
    "# Outcomes\n",
    "final_price_train <- as.matrix(df_train[,2])\n",
    "final_price_est <- as.matrix(df_est[,2])\n",
    "\n",
    "# Covariates/Features\n",
    "baseline_covariates_hold_cont_out <- as.matrix(df_hold_out[,c(4:9)])\n",
    "baseline_covariates_cont_train <- as.matrix(df_train[,c(4:9)]) \n",
    "baseline_covariates_cont_est <- as.matrix(df_est[,c(4:9)])\n",
    "baseline_covariates_hold_bin_out <- as.matrix(df_hold_out[,c(10:19)])\n",
    "baseline_covariates_bin_train <- as.matrix(df_train[,c(10:19)]) \n",
    "baseline_covariates_bin_est <- as.matrix(df_est[,c(10:19)])\n",
    "\n",
    "# Scale continuous variables\n",
    "preProcValues <- preProcess(baseline_covariates_cont_train, method = c(\"center\", \"scale\"))\n",
    "TrainTransformed <- predict(preProcValues, baseline_covariates_cont_train)\n",
    "HoldOutTransformed <- predict(preProcValues, baseline_covariates_hold_cont_out)\n",
    "EstTransformed <- predict(preProcValues, baseline_covariates_cont_est)\n",
    "\n",
    "baseline_covariates_hold_out <- as.matrix(cbind(HoldOutTransformed,baseline_covariates_hold_bin_out)) \n",
    "baseline_covariates_train <- as.matrix(cbind(TrainTransformed,baseline_covariates_bin_train)) \n",
    "baseline_covariates_est <- as.matrix(cbind(EstTransformed,baseline_covariates_bin_est)) \n",
    "\n",
    "# Prepare data for tree estimator\n",
    "tree_data_train <-  data.frame(final_price_train, baseline_covariates_train)\n",
    "empty1 <- as.matrix(final_price_train)\n",
    "empty1[1,] <-NA\n",
    "empty2 <- as.matrix(final_price_hold_out)\n",
    "empty2[1,] <-NA\n",
    "tree_data_hold_out <-  data.frame(rbind(empty1,final_price_est,empty2),rbind(baseline_covariates_train,baseline_covariates_est, baseline_covariates_hold_out))\n",
    "\n",
    "# Setup the formula of the linear regression model\n",
    "linear <- paste(\"final_price_train\",paste(sumx, sep=\" + \"), sep=\" ~ \")\n",
    "linear <- as.formula(linear)\n",
    "\n",
    "# Build deep tree\n",
    "linear.singletree_3 <- rpart(formula = linear, data = tree_data_train , method = \"anova\", xval = 10,\n",
    "                             y = TRUE, control = rpart.control(cp = 0.00002, minbucket=5))\n",
    "\n",
    "\n",
    "# Find tree size that minimises CV-MSE\n",
    "op.index_3 <- which.min(linear.singletree_3$cptable[, \"xerror\"])\n",
    "print(paste0(\"Optimal number final leaves: \", op.index_3))\n",
    "\n",
    "# Plot CV-MSE\n",
    "plotcp(linear.singletree_3)\n",
    "abline(v = op.index_3, lty = \"dashed\")\n",
    "\n",
    "# Get cp-value that corresponds to optimal tree size\n",
    "cp.vals_3 <- linear.singletree_3$cptable[op.index_3, \"CP\"]\n",
    "\n",
    "# Prune the tree\n",
    "treepruned.linearsingle_3 <- prune(linear.singletree_3, cp = cp.vals_3)\n",
    "\n",
    "# Predict final price in the observed and hold-out-samples\n",
    "pred_tree_hold_out_3 <- as.matrix(predict(treepruned.linearsingle_3, newdata=tree_data_hold_out))\n",
    "pred_tree_train_3 <- pred_tree_hold_out_3[c(1:nrow(final_price_train)),]\n",
    "r <-nrow(final_price_train)+1\n",
    "pred_tree_est_3 <- pred_tree_hold_out_3[c(r:nrow(final_price_obs)),]\n",
    "r <-nrow(final_price_obs)+1\n",
    "pred_tree_hold_out_3 <- pred_tree_hold_out_3[c(r:nrow(pred_tree_hold_out_3)),]\n",
    "\n",
    "## Assess performance of tree estimator\n",
    "# Training-sample RMSE\n",
    "rmse_train_3 <- round(sqrt(mean((final_price_train - pred_tree_train_3)^2)),digits=3)\n",
    "# Estimation-sample RMSE\n",
    "rmse_est_3 <- round(sqrt(mean((final_price_est - pred_tree_est_3)^2)),digits=3)\n",
    "# Hold-out-sample RMSE\n",
    "rmse_hold_out_3 <- round(sqrt(mean((final_price_hold_out - pred_tree_hold_out_3)^2)),digits=3)\n",
    "# Training-sample R-squared\n",
    "r2_train_3 <- round(1-mean((final_price_train - pred_tree_train_3)^2)/mean((final_price_train - mean(final_price_train))^2),digits=3)\n",
    "# Estimation-sample R-squared\n",
    "r2_est_3 <- round(1-mean((final_price_est - pred_tree_est_3)^2)/mean((final_price_est - mean(final_price_est))^2),digits=3)\n",
    "# Hold-out-sample R-squared\n",
    "r2_hold_out_3 <- round(1-mean((final_price_hold_out - pred_tree_hold_out_3)^2)/mean((final_price_hold_out - mean(final_price_hold_out))^2),digits=3)\n",
    "\n",
    "print(paste0(\"Training-Sample RMSE: \", rmse_train_3))\n",
    "print(paste0(\"Estimation-Sample RMSE: \", rmse_est_3))\n",
    "print(paste0(\"Hold-out-Sample RMSE: \", rmse_hold_out_3))\n",
    "print(paste0(\"Training-Sample R-squared: \", r2_train_3))\n",
    "print(paste0(\"Estimation-Sample R-squared: \", r2_est_3))\n",
    "print(paste0(\"Hold-out-Sample R-squared: \", r2_hold_out_3))\n"
   ]
  },
  {
   "cell_type": "markdown",
   "metadata": {},
   "source": [
    "We do not necessarily loose prediction power using the honest tree, but we have a better chance to obtain valid inference."
   ]
  },
  {
   "cell_type": "markdown",
   "metadata": {},
   "source": [
    "## Deep Honest Cross-Fitted Tree"
   ]
  },
  {
   "cell_type": "markdown",
   "metadata": {},
   "source": [
    "We can pimp the prediction power of our honest tree with a cross-fitting procedure. This means that we built two honest trees by switching the training and estimation sample. The cross-fitted honest tree is the average of the two hoinest trees."
   ]
  },
  {
   "cell_type": "code",
   "execution_count": 26,
   "metadata": {},
   "outputs": [
    {
     "name": "stdout",
     "output_type": "stream",
     "text": [
      "[1] \"Optimal number final leaves: 259\"\n",
      "[1] \"Optimal number final leaves: 203\"\n"
     ]
    },
    {
     "data": {
      "image/png": "[encoded data removed]",
      "text/plain": [
       "plot without title"
      ]
     },
     "metadata": {},
     "output_type": "display_data"
    },
    {
     "name": "stdout",
     "output_type": "stream",
     "text": [
      "[1] \"Hold-out-Sample RMSE: 2.769\"\n",
      "[1] \"Hold-out-Sample R-squared: 0.847\"\n"
     ]
    },
    {
     "data": {
      "image/png": "[encoded data removed]",
      "text/plain": [
       "plot without title"
      ]
     },
     "metadata": {},
     "output_type": "display_data"
    }
   ],
   "source": [
    "########################  Crosfitted honest deep tree estimator  ########################                        \n",
    "\n",
    "# Alternate tratining and estimation sample\n",
    "tree_data_train1 <-  data.frame(final_price_train, baseline_covariates_train)\n",
    "tree_data_train2 <-  data.frame(final_price_est, baseline_covariates_est)\n",
    "\n",
    "# Prepare both data data for tree estimator\n",
    "empty1 <- as.matrix(final_price_train)\n",
    "empty1[1,] <-NA\n",
    "empty2 <- as.matrix(final_price_hold_out)\n",
    "empty2[1,] <-NA\n",
    "tree_data_hold_out1 <-  data.frame(rbind(empty1,final_price_est,empty2),rbind(baseline_covariates_train,baseline_covariates_est, baseline_covariates_hold_out))\n",
    "\n",
    "empty1 <- as.matrix(final_price_est)\n",
    "empty1[1,] <-NA\n",
    "empty2 <- as.matrix(final_price_hold_out)\n",
    "empty2[1,] <-NA\n",
    "tree_data_hold_out2 <-  data.frame(rbind(final_price_train,empty1,empty2),rbind(baseline_covariates_train,baseline_covariates_est, baseline_covariates_hold_out))\n",
    "\n",
    "#####\n",
    "\n",
    "# Setup the formula of the linear regression model for the first tree\n",
    "linear <- paste(\"final_price_train\",paste(sumx, sep=\" + \"), sep=\" ~ \")\n",
    "linear <- as.formula(linear)\n",
    "\n",
    "# Build first deep tree\n",
    "linear.singletree_4 <- rpart(formula = linear, data = tree_data_train1 , method = \"anova\", xval = 10,\n",
    "                             y = TRUE, control = rpart.control(cp = 0.00002, minbucket=5))\n",
    "\n",
    "\n",
    "# Find tree size that minimises CV-MSE\n",
    "op.index_4 <- which.min(linear.singletree_4$cptable[, \"xerror\"])\n",
    "print(paste0(\"Optimal number final leaves: \", op.index_4))\n",
    "\n",
    "# Plot CV-MSE\n",
    "plotcp(linear.singletree_4)\n",
    "abline(v = op.index_4, lty = \"dashed\")\n",
    "\n",
    "# Get cp-value that corresponds to optimal tree size\n",
    "cp.vals_4 <- linear.singletree_4$cptable[op.index_4, \"CP\"]\n",
    "\n",
    "# Prune the tree\n",
    "treepruned.linearsingle_4 <- prune(linear.singletree_4, cp = cp.vals_4)\n",
    "\n",
    "# Predict final price in the hold-out-sample\n",
    "pred_tree_hold_out_4 <- as.matrix(predict(treepruned.linearsingle_4, newdata=tree_data_hold_out1))\n",
    "r <-nrow(final_price_obs)+1\n",
    "pred_tree_hold_out_4 <- pred_tree_hold_out_4[c(r:nrow(pred_tree_hold_out_4)),]\n",
    "\n",
    "#####\n",
    "\n",
    "# Setup the formula of the linear regression model for the second tree\n",
    "linear <- paste(\"final_price_est\",paste(sumx, sep=\" + \"), sep=\" ~ \")\n",
    "linear <- as.formula(linear)\n",
    "\n",
    "# Build second deep tree\n",
    "linear.singletree_5 <- rpart(formula = linear, data = tree_data_train2 , method = \"anova\", xval = 10,\n",
    "                             y = TRUE, control = rpart.control(cp = 0.00000001, minbucket=5))\n",
    "\n",
    "\n",
    "# Find tree size that minimises CV-MSE\n",
    "op.index_5 <- which.min(linear.singletree_5$cptable[, \"xerror\"])\n",
    "print(paste0(\"Optimal number final leaves: \", op.index_5))\n",
    "\n",
    "# Plot CV-MSE\n",
    "plotcp(linear.singletree_5)\n",
    "abline(v = op.index_5, lty = \"dashed\")\n",
    "\n",
    "# Get cp-value that corresponds to optimal tree size\n",
    "cp.vals_5 <- linear.singletree_5$cptable[op.index_5, \"CP\"]\n",
    "\n",
    "# Prune the tree\n",
    "treepruned.linearsingle_5 <- prune(linear.singletree_5, cp = cp.vals_5)\n",
    "\n",
    "# Predict final price in the hold-out-sample\n",
    "pred_tree_hold_out_5 <- as.matrix(predict(treepruned.linearsingle_5, newdata=tree_data_hold_out2))\n",
    "r <-nrow(final_price_obs)+1\n",
    "pred_tree_hold_out_5 <- pred_tree_hold_out_5[c(r:nrow(pred_tree_hold_out_5)),]\n",
    "\n",
    "#####\n",
    "\n",
    "## Assess performance of tree estimator\n",
    "# Hold-out-sample RMSE\n",
    "rmse_hold_out_4 <- round(sqrt(mean((final_price_hold_out - 0.5*(pred_tree_hold_out_4 + pred_tree_hold_out_5))^2)),digits=3)\n",
    "# Hold-out-sample R-squared\n",
    "r2_hold_out_4 <- round(1-mean((final_price_hold_out - 0.5*(pred_tree_hold_out_4 + pred_tree_hold_out_5))^2)/mean((final_price_hold_out - mean(final_price_hold_out))^2),digits=3)\n",
    "\n",
    "print(paste0(\"Hold-out-Sample RMSE: \", rmse_hold_out_4))\n",
    "print(paste0(\"Hold-out-Sample R-squared: \", r2_hold_out_4))"
   ]
  },
  {
   "cell_type": "markdown",
   "metadata": {},
   "source": [
    "# Honest Random Forest"
   ]
  },
  {
   "cell_type": "markdown",
   "metadata": {},
   "source": [
    "The honest random forest computes many honest trees using different subsamples and subsets of the covariates. Then it reports the *final_price* predicted using the average of all honest trees."
   ]
  },
  {
   "cell_type": "code",
   "execution_count": 27,
   "metadata": {},
   "outputs": [
    {
     "name": "stdout",
     "output_type": "stream",
     "text": [
      "[1] \"Hold-out-Sample RMSE: 3.071\"\n",
      "[1] \"Hold-out-Sample R-squared: 0.812\"\n"
     ]
    }
   ],
   "source": [
    "########################  Random forest estimator  ######################## \n",
    "\n",
    "# Tuning parameters\n",
    "min_tree = 1\n",
    "num_trees = 250 # Use at least 1,000 trees\n",
    "cov_frac = 2/3\n",
    "sample_part= 0.5\n",
    "\n",
    "# Build random forest\n",
    "forest <- regression_forest(baseline_covariates_obs, final_price_obs, sample.fraction = sample_part, \n",
    "                  mtry = floor(cov_frac*ncol(baseline_covariates_obs)),\n",
    "                  num.trees = num_trees, min.node.size = min_tree,\n",
    "                  honesty = TRUE, honesty.fraction = 0.5)\n",
    "\n",
    "# Predict prices in hold-out-sample\n",
    "pred_forest <- predict(forest, newdata = baseline_covariates_hold_out)\n",
    "\n",
    "## Assess performance of forest estimator\n",
    "# Hold-out-sample RMSE\n",
    "rmse_forest <- round(sqrt(mean((final_price_hold_out - pred_forest$predictions)^2)),digits=3)\n",
    "# Hold-out-sample R-squared\n",
    "r2_forest <- round(1-mean((final_price_hold_out - pred_forest$predictions)^2)/mean((final_price_hold_out - mean(final_price_hold_out))^2),digits=3)\n",
    "\n",
    "print(paste0(\"Hold-out-Sample RMSE: \", rmse_forest))\n",
    "print(paste0(\"Hold-out-Sample R-squared: \", r2_forest))\n"
   ]
  },
  {
   "cell_type": "markdown",
   "metadata": {},
   "source": [
    "It is difficult the interpret the structure of an random forest. We can report the number of splits based on different covariates. But we have to interprete this with caution, because the covariates might be correlated."
   ]
  },
  {
   "cell_type": "code",
   "execution_count": 28,
   "metadata": {},
   "outputs": [
    {
     "name": "stdout",
     "output_type": "stream",
     "text": [
      "     mileage age_car_years other_car_owner inspection co2_em euro_norm bmw_320\n",
      "[1,]      50           150               0          0      9        30       1\n",
      "[2,]      69           275               1          0      3        68      39\n",
      "[3,]     166           246               2          0    116        51     138\n",
      "[4,]     443           395              17         20    285        55     136\n",
      "     opel_astra mercedes_c vw_golf vw_passat diesel private_seller guarantee\n",
      "[1,]          8          0       0         0      1              0         0\n",
      "[2,]         19         10      11         0      3              1         0\n",
      "[3,]        104         57     103         1      5              1         0\n",
      "[4,]        306        150     111        15     24             12         8\n",
      "     maintenance_cert pm_green\n",
      "[1,]                0        1\n",
      "[2,]                1        0\n",
      "[3,]                7        3\n",
      "[4,]               15        6\n"
     ]
    }
   ],
   "source": [
    "########################  Number of splits by covariate and tree depht  ######################## \n",
    "\n",
    "split <- split_frequencies(forest, max.depth = 4)\n",
    "colnames(split) <- baseline_covariates\n",
    "print(split)"
   ]
  },
  {
   "cell_type": "markdown",
   "metadata": {},
   "source": [
    "Random forests have many tuning parameters. Often the choice of the tuning parameters do not matter very much when we use many trees to grow the forest. Therefore, the forest size is an important tuning parameter for random forests. A plot of the RMSE by forest size can help us to select the forest size. Usually, we select a fairly large forest."
   ]
  },
  {
   "cell_type": "code",
   "execution_count": 29,
   "metadata": {},
   "outputs": [
    {
     "data": {
      "image/png": "[encoded data removed]",
      "text/plain": [
       "Plot with title \"Tuning of forest size\""
      ]
     },
     "metadata": {},
     "output_type": "display_data"
    },
    {
     "data": {
      "text/html": [
       "<strong>png:</strong> 2"
      ],
      "text/latex": [
       "\\textbf{png:} 2"
      ],
      "text/markdown": [
       "**png:** 2"
      ],
      "text/plain": [
       "png \n",
       "  2 "
      ]
     },
     "metadata": {},
     "output_type": "display_data"
    },
    {
     "data": {
      "text/html": [
       "<strong>png:</strong> 2"
      ],
      "text/latex": [
       "\\textbf{png:} 2"
      ],
      "text/markdown": [
       "**png:** 2"
      ],
      "text/plain": [
       "png \n",
       "  2 "
      ]
     },
     "metadata": {},
     "output_type": "display_data"
    },
    {
     "data": {
      "image/png": "[encoded data removed]",
      "text/plain": [
       "Plot with title \"Tuning of forest size\""
      ]
     },
     "metadata": {},
     "output_type": "display_data"
    }
   ],
   "source": [
    "########################  Select tuning parameters for forest  ######################## \n",
    "\n",
    "#for_sizes = c(1,5, 10,15, 20,25,50,100,150,200,250, 300,350, 400, 450, 500, 1000, 1500, 2000, 3000, 4000, 5000, 10000)\n",
    "for_sizes = c(1,5, 10,15, 20,25,50,100,150,200,250, 300,350, 400, 450, 500) # Because of computation time we consider only forests with 500 trees. At home you can consider larger forests.\n",
    "auc <- matrix(NA,nrow=length(for_sizes),ncol=3)\n",
    "ctr <- 0\n",
    "for (n in for_sizes){\n",
    "  ctr <- ctr + 1\n",
    "  auc[ctr,1] <- n\n",
    "  \n",
    "  forest <- regression_forest(baseline_covariates_obs, final_price_obs, sample.fraction = 0.5, \n",
    "                              mtry = floor(cov_frac*ncol(baseline_covariates_obs)),\n",
    "                              num.trees = n, min.node.size = min_tree,\n",
    "                              honesty = TRUE, honesty.fraction = 0.5)\n",
    "  \n",
    "  # Predict prices in hold-out-sample\n",
    "  pred_forest <- predict(forest, newdata = baseline_covariates_hold_out)\n",
    "  rmse_forest <- round(sqrt(mean((final_price_hold_out - pred_forest$predictions)^2)),digits=3)\n",
    "  auc[ctr,2] <- rmse_forest\n",
    "  if (ctr >1) {\n",
    "    auc[ctr,3] <- rmse_forest-auc[ctr-1,2]\n",
    "  }\n",
    "}\n",
    "\n",
    "plot(auc[,1], auc[,2], main=\"Tuning of forest size\", xlab=\"Number of trees in forest \", ylab=\"RMSE\", pch=19)\n",
    "nls_fit <- lm(auc[,2] ~  auc[,1] + I(auc[,1]^(1/2)) + I(auc[,1]^2) + I(auc[,1]^3) + I(log(auc[,1])))\n",
    "lines(auc[,1], predict(nls_fit), col = \"red\")\n",
    "\n",
    "plot(auc[c(2:nrow(auc)),1], auc[c(2:nrow(auc)),3], main=\"Tuning of forest size\", xlab=\"Number of trees in forest \", ylab=\"Delta RMSE\", pch=19)\n",
    "nls_fit <- lm(auc[c(2:nrow(auc)),3] ~  auc[c(2:nrow(auc)),1] + I(auc[c(2:nrow(auc)),1]^(1/2)) + I(auc[c(2:nrow(auc)),1]^2) + I(auc[c(2:nrow(auc)),1]^3) + I(log(auc[c(2:nrow(auc)),1])))\n",
    "lines(auc[c(2:nrow(auc)),1], predict(nls_fit), col = \"red\")\n",
    "abline(h=0)\n",
    "\n",
    "\n",
    "# Save graph\n",
    "png(filename= \"auc.png\",units=\"in\", width=6, height=6, pointsize=10,res=300)\n",
    "  plot(auc[,1], auc[,2], main=\"Tuning of forest size\", xlab=\"Number of trees in forest \", ylab=\"RMSE\", pch=19)\n",
    "  nls_fit <- lm(auc[,2] ~  auc[,1] + I(auc[,1]^(1/2)) + I(auc[,1]^2) + I(auc[,1]^3) + I(log(auc[,1])))\n",
    "  lines(auc[,1], predict(nls_fit), col = \"red\")\n",
    "dev.off()\n",
    "\n",
    "png(filename= \"delta_auc.png\",units=\"in\", width=6, height=6, pointsize=10,res=300)\n",
    "  plot(auc[c(2:nrow(auc)),1], auc[c(2:nrow(auc)),3], main=\"Tuning of forest size\", xlab=\"Number of trees in forest \", ylab=\"Delta RMSE\", pch=19)\n",
    "  nls_fit <- lm(auc[c(2:nrow(auc)),3] ~  auc[c(2:nrow(auc)),1] + I(auc[c(2:nrow(auc)),1]^(1/2)) + I(auc[c(2:nrow(auc)),1]^2) + I(auc[c(2:nrow(auc)),1]^3) + I(log(auc[c(2:nrow(auc)),1])))\n",
    "  lines(auc[c(2:nrow(auc)),1], predict(nls_fit), col = \"red\")\n",
    "  abline(h=0)\n",
    "dev.off()"
   ]
  },
  {
   "cell_type": "markdown",
   "metadata": {},
   "source": [
    "# LASSO"
   ]
  },
  {
   "cell_type": "markdown",
   "metadata": {},
   "source": [
    "## Prepare Data"
   ]
  },
  {
   "cell_type": "markdown",
   "metadata": {},
   "source": [
    "We have to prepare the transformed covariates for the LASSO. Furthermore, we add some noise terms to check if the LASSO algorithm disregards them."
   ]
  },
  {
   "cell_type": "code",
   "execution_count": 30,
   "metadata": {},
   "outputs": [
    {
     "name": "stdout",
     "output_type": "stream",
     "text": [
      "[1] \"Lasso data ready\"\n"
     ]
    }
   ],
   "source": [
    "########################  Select tuning parameters for forest  ######################## \n",
    "## Prepare Lasso data###\n",
    "\n",
    "# Generate some noisy covariates to disturbe the estimation\n",
    "noise.covars.hold.out <- matrix(data = rnorm(nrow(df_hold_out)),  nrow = nrow(df_hold_out), ncol = 13)\n",
    "colnames(noise.covars.hold.out) <- c(\"noise1\", \"noise2\", \"noise3\", \"noise4\", \"noise5\", \"noise6\", \"noise7\", \"noise8\", \"noise9\", \"noise10\", \"noise11\", \"noise12\",\"noise13\")\n",
    "\n",
    "noise.covars.est <- matrix(data = rnorm(nrow(df_est)),  nrow = nrow(df_est), ncol = 13)\n",
    "colnames(noise.covars.est) <- c(\"noise1\", \"noise2\", \"noise3\", \"noise4\", \"noise5\", \"noise6\", \"noise7\", \"noise8\", \"noise9\", \"noise10\", \"noise11\", \"noise12\",\"noise13\")\n",
    "\n",
    "noise.covars.train <- matrix(data = rnorm(nrow(df_train)),  nrow = nrow(df_train), ncol = 13)\n",
    "colnames(noise.covars.train) <- c(\"noise1\", \"noise2\", \"noise3\", \"noise4\", \"noise5\", \"noise6\", \"noise7\", \"noise8\", \"noise9\", \"noise10\", \"noise11\", \"noise12\",\"noise13\")\n",
    "\n",
    "\n",
    "# Prepare LASSO variables\n",
    "lasso_covariates_hold_out_cont <- as.matrix(df_hold_out[,c(4:6,8,20:25)])\n",
    "lasso_covariates_est_cont <- as.matrix(df_est[,c(4:6,8,20:25)])\n",
    "lasso_covariates_train_cont <- as.matrix(df_train[,c(4:6,8,20:25)])\n",
    "\n",
    "# Scale continuous variables\n",
    "preProcValuesLasso <- preProcess(lasso_covariates_train_cont, method = c(\"center\", \"scale\"))\n",
    "TrainTransformed <- predict(preProcValuesLasso, lasso_covariates_train_cont)\n",
    "HoldOutTransformed <- predict(preProcValuesLasso, lasso_covariates_hold_out_cont)\n",
    "EstTransformed <- predict(preProcValuesLasso, lasso_covariates_est_cont)\n",
    "\n",
    "lasso_covariates_hold_out <- as.matrix(cbind(HoldOutTransformed,df_hold_out[,c(10:19, 26:ncol(df_hold_out))],noise.covars.hold.out)) \n",
    "lasso_covariates_train <- as.matrix(cbind(TrainTransformed,df_train[,c(10:19,26:ncol(df_train))],noise.covars.train)) \n",
    "lasso_covariates_est <- as.matrix(cbind(EstTransformed,df_est[,c(10:19,26:ncol(df_est))],noise.covars.est)) \n",
    "\n",
    "#########################\n",
    "print('Lasso data ready')"
   ]
  },
  {
   "cell_type": "markdown",
   "metadata": {},
   "source": [
    "## Standard Lasso"
   ]
  },
  {
   "cell_type": "markdown",
   "metadata": {},
   "source": [
    "The LASSO minimises the objective function\n",
    "\\begin{equation*}\n",
    "\\min_{\\beta} \\left\\{ \\sum_{i=1}^{N} \\left( Y_i-  \\beta_0 -\\sum_{j=1}^{p}X_{ij}\\beta_j \\right)^2 + \\lambda \\sum_{j=1}^{p} |\\beta_j| \\right\\}.\n",
    "\\end{equation*}\n",
    "First we have to find the optimal tuning parameter $\\lambda$ via cross-validation (CV)."
   ]
  },
  {
   "cell_type": "code",
   "execution_count": 31,
   "metadata": {},
   "outputs": [
    {
     "name": "stdout",
     "output_type": "stream",
     "text": [
      "[1] \"Lambda minimising CV-MSE: 0.00729812\"\n",
      "[1] \"Lambda 1 standard error rule: 0.13053787\"\n"
     ]
    },
    {
     "data": {
      "image/png": "[encoded data removed]",
      "text/plain": [
       "plot without title"
      ]
     },
     "metadata": {},
     "output_type": "display_data"
    }
   ],
   "source": [
    "########################  CV-LASSO  ######################## \n",
    "p = 1 # 1 for LASSO, 0 for Ridge\n",
    "\n",
    "lasso.linear <- cv.glmnet(lasso_covariates_train, final_price_train, alpha=p, type.measure = 'mse', parallel=FALSE)\n",
    "plot(lasso.linear)\n",
    "\n",
    "print(paste0(\"Lambda minimising CV-MSE: \", round(lasso.linear$lambda.min,digits=8)))\n",
    "# 1 standard error rule reduces the number of included covariates\n",
    "print(paste0(\"Lambda 1 standard error rule: \", round(lasso.linear$lambda.1se,digits=8)))"
   ]
  },
  {
   "cell_type": "markdown",
   "metadata": {},
   "source": [
    "## Plot Lasso Structure"
   ]
  },
  {
   "cell_type": "code",
   "execution_count": 32,
   "metadata": {},
   "outputs": [
    {
     "data": {
      "image/png": "[encoded data removed]",
      "text/plain": [
       "Plot with title \"\""
      ]
     },
     "metadata": {},
     "output_type": "display_data"
    }
   ],
   "source": [
    "########################  Vissualisation of LASSO  ######################## \n",
    "\n",
    "lambda_min =  lasso.linear$glmnet.fit$lambda[50]/lasso.linear$glmnet.fit$lambda[1]\n",
    "mod <- glmnet(lasso_covariates_train , final_price_train,lambda.min = lambda_min,  alpha=p)\n",
    "glmcoef<-coef(mod,lasso.linear$lambda.1se)\n",
    "coef.increase<-dimnames(glmcoef[glmcoef[,1]>0,0])[[1]]\n",
    "coef.decrease<-dimnames(glmcoef[glmcoef[,1]<0,0])[[1]]\n",
    "\n",
    "maxcoef<-coef(mod,s=lambda_min)\n",
    "coef<-dimnames(maxcoef[maxcoef[,1]!=0,0])[[1]]\n",
    "allnames<-dimnames(maxcoef[maxcoef[,1]!=0,0])[[1]][order(maxcoef[maxcoef[,1]!=0,ncol(maxcoef)],decreasing=TRUE)]\n",
    "allnames<-setdiff(allnames,allnames[grep(\"Intercept\",allnames)])\n",
    "\n",
    "#assign colors\n",
    "cols<-rep(\"gray\",length(allnames))\n",
    "cols[allnames %in% coef.increase]<-\"red\"      # higher mpg is good\n",
    "cols[allnames %in% coef.decrease]<- \"green\"        # lower mpg is not\n",
    "\n",
    "plot_glmnet(mod,label=TRUE,s=lasso.linear$lambda.1se,col= cols)"
   ]
  },
  {
   "cell_type": "markdown",
   "metadata": {},
   "source": [
    "## Plot Lasso Coefficients"
   ]
  },
  {
   "cell_type": "code",
   "execution_count": 33,
   "metadata": {},
   "outputs": [
    {
     "name": "stdout",
     "output_type": "stream",
     "text": [
      "[1] \"LASSO coefficients\"\n",
      "51 x 1 sparse Matrix of class \"dgCMatrix\"\n",
      "                            1\n",
      "(Intercept)      15.029281457\n",
      "mileage          -2.396965524\n",
      "age_car_years    -3.916026174\n",
      "other_car_owner   .          \n",
      "co2_em            1.244700268\n",
      "mileage2          .          \n",
      "mileage3          .          \n",
      "mileage4          .          \n",
      "age_car_years2    .          \n",
      "age_car_years3    .          \n",
      "age_car_years4    0.313873154\n",
      "bmw_320           3.164640618\n",
      "opel_astra       -4.345550132\n",
      "mercedes_c        2.317920718\n",
      "vw_golf          -3.394109438\n",
      "vw_passat         .          \n",
      "diesel            1.856923332\n",
      "private_seller    .          \n",
      "guarantee         0.082187461\n",
      "maintenance_cert  .          \n",
      "pm_green          0.637844480\n",
      "mile_20          -0.603824454\n",
      "mile_30          -0.700426400\n",
      "mile_40          -0.008404513\n",
      "mile_50          -0.440805934\n",
      "mile_100         -0.018315297\n",
      "mile_150          .          \n",
      "age_3            -0.297646541\n",
      "age_6             .          \n",
      "dur_next_ins_0    .          \n",
      "dur_next_ins_1_2  0.059833884\n",
      "new_inspection    .          \n",
      "euro_1            .          \n",
      "euro_2            1.418122704\n",
      "euro_3            .          \n",
      "euro_4           -0.452332398\n",
      "euro_5            .          \n",
      "euro_6            2.572943903\n",
      "noise1            .          \n",
      "noise2            .          \n",
      "noise3            .          \n",
      "noise4            .          \n",
      "noise5            .          \n",
      "noise6            .          \n",
      "noise7            .          \n",
      "noise8            .          \n",
      "noise9            .          \n",
      "noise10           .          \n",
      "noise11           .          \n",
      "noise12           .          \n",
      "noise13           .          \n"
     ]
    }
   ],
   "source": [
    "########################  Plot LASSO Coefficients  ########################\n",
    "\n",
    "print('LASSO coefficients')\n",
    "print(glmcoef)\n",
    "# the LASSO coefficients are biased because of the penalty term"
   ]
  },
  {
   "cell_type": "markdown",
   "metadata": {},
   "source": [
    "Use $\\lambda$ from the training sample to fit a LASSO model in the estimation sample. Use the coefficients from the estimation sample to assess the performance of LASSO in the hold-out-sample."
   ]
  },
  {
   "cell_type": "code",
   "execution_count": 34,
   "metadata": {},
   "outputs": [
    {
     "name": "stdout",
     "output_type": "stream",
     "text": [
      "[1] \"Hold-out-Sample RMSE: 3.241\"\n",
      "[1] \"Hold-out-Sample R-squared: 0.79\"\n"
     ]
    }
   ],
   "source": [
    "########################  Performance of LASSO  ######################## \n",
    "\n",
    "# Estimate LASSO model with 1 standard error lambda in estimation sample\n",
    "lasso.fit <- glmnet(lasso_covariates_est , final_price_est,lambda = lasso.linear$lambda.1se)\n",
    "\n",
    "# Extrapolate LASSO estimates to hold-out-sample\n",
    "yhat.lasso <- predict(lasso.fit, lasso_covariates_hold_out)\n",
    "\n",
    "## Assess performance of LASSO estimator\n",
    "# Hold-out-sample RMSE\n",
    "rmse_lasso <- round(sqrt(mean((final_price_hold_out - yhat.lasso)^2)),digits=3)\n",
    "# Hold-out-sample R-squared\n",
    "r2_lasso <- round(1-mean((final_price_hold_out - yhat.lasso)^2)/mean((final_price_hold_out - mean(final_price_hold_out))^2),digits=3)\n",
    "\n",
    "print(paste0(\"Hold-out-Sample RMSE: \", rmse_lasso))\n",
    "print(paste0(\"Hold-out-Sample R-squared: \", r2_lasso))"
   ]
  },
  {
   "cell_type": "markdown",
   "metadata": {},
   "source": [
    "We could improve the performance of the LASSO prediction by adding more covariates (e.g., interactions). We can check the performance of the Risge estimator by setting *p = 0*."
   ]
  },
  {
   "cell_type": "markdown",
   "metadata": {},
   "source": [
    "## Post-Lasso"
   ]
  },
  {
   "cell_type": "markdown",
   "metadata": {},
   "source": [
    "The Post-LASSO is an OLS regression (in estimation sample) that includes only the variables with non-zero coefficients from the first-step LASSO estimations (from training sample). We can use the unscaled covariates for the Post-LASSO estimates to improve the interpretability."
   ]
  },
  {
   "cell_type": "code",
   "execution_count": 35,
   "metadata": {},
   "outputs": [
    {
     "data": {
      "text/plain": [
       "\n",
       "Call:\n",
       "lm(formula = post.lasso.model, data = lasso_covariates_est)\n",
       "\n",
       "Residuals:\n",
       "    Min      1Q  Median      3Q     Max \n",
       "-16.688  -1.885  -0.261   1.467  74.069 \n",
       "\n",
       "Coefficients:\n",
       "                   Estimate Std. Error t value Pr(>|t|)    \n",
       "(Intercept)       1.755e+01  6.235e-01  28.144  < 2e-16 ***\n",
       "mileage          -4.610e-02  2.537e-03 -18.166  < 2e-16 ***\n",
       "age_car_years    -1.876e+00  6.482e-02 -28.946  < 2e-16 ***\n",
       "co2_em            7.279e-02  3.572e-03  20.379  < 2e-16 ***\n",
       "age_car_years4    1.196e-04  1.656e-05   7.222  6.1e-13 ***\n",
       "bmw_320           3.907e+00  1.453e-01  26.890  < 2e-16 ***\n",
       "opel_astra       -4.782e+00  1.891e-01 -25.297  < 2e-16 ***\n",
       "mercedes_c        2.336e+00  1.655e-01  14.114  < 2e-16 ***\n",
       "vw_golf          -3.248e+00  1.632e-01 -19.906  < 2e-16 ***\n",
       "diesel            2.574e+00  1.695e-01  15.191  < 2e-16 ***\n",
       "guarantee         4.490e-01  1.945e-01   2.308 0.021066 *  \n",
       "pm_green          3.893e-01  1.593e-01   2.444 0.014556 *  \n",
       "mile_20          -1.210e+00  3.327e-01  -3.637 0.000279 ***\n",
       "mile_30          -4.431e-01  3.447e-01  -1.285 0.198736    \n",
       "mile_40          -5.944e-01  3.617e-01  -1.643 0.100396    \n",
       "mile_50           2.751e-01  2.785e-01   0.988 0.323350    \n",
       "mile_100         -4.474e-01  1.993e-01  -2.245 0.024849 *  \n",
       "age_3             1.712e-01  1.985e-01   0.862 0.388535    \n",
       "dur_next_ins_1_2  1.850e-01  1.112e-01   1.664 0.096287 .  \n",
       "euro_2           -2.833e+00  3.603e+00  -0.786 0.431717    \n",
       "euro_4           -1.496e-01  2.226e-01  -0.672 0.501564    \n",
       "euro_6            2.409e+00  2.470e-01   9.755  < 2e-16 ***\n",
       "---\n",
       "Signif. codes:  0 '***' 0.001 '**' 0.01 '*' 0.05 '.' 0.1 ' ' 1\n",
       "\n",
       "Residual standard error: 3.299 on 3978 degrees of freedom\n",
       "Multiple R-squared:  0.7888,\tAdjusted R-squared:  0.7877 \n",
       "F-statistic: 707.4 on 21 and 3978 DF,  p-value: < 2.2e-16\n"
      ]
     },
     "metadata": {},
     "output_type": "display_data"
    },
    {
     "name": "stdout",
     "output_type": "stream",
     "text": [
      "[1] \"Hold-out-Sample RMSE: 3.201\"\n",
      "[1] \"Hold-out-Sample R-squared: 0.795\"\n"
     ]
    }
   ],
   "source": [
    "########################  Post-LASSO estimator  ######################## \n",
    "\n",
    "# Estimate LASSO model with 1 standard error lambda in training sample\n",
    "lasso.linear.fit <- glmnet(lasso_covariates_train , final_price_train,lambda = lasso.linear$lambda.1se)\n",
    "\n",
    "# Select covariates with non-zero coefficients\n",
    "coef <- predict(lasso.linear.fit, type = \"nonzero\") # Method 2\n",
    "colnames <- colnames(lasso_covariates_train)\n",
    "selected.vars <- colnames[unlist(coef)]\n",
    "\n",
    "# Prepare (unscaled) LASSO variables\n",
    "lasso_covariates_hold_out <- as.data.frame(cbind(df_hold_out[,c(4:ncol(df_hold_out))],noise.covars.hold.out)) \n",
    "lasso_covariates_est <- as.data.frame(cbind(df_est[,c(4:ncol(df_est))],noise.covars.est)) \n",
    "\n",
    "# Linear Post-LASSO fit in estimation sample\n",
    "post.lasso.model <- paste(\"final_price_est\", paste(selected.vars,collapse=\" + \"),  sep = \" ~ \") \n",
    "post.lasso.model <- as.formula(post.lasso.model)\n",
    "post.lasso <- lm(post.lasso.model, data=lasso_covariates_est)\n",
    "summary(post.lasso)\n",
    "\n",
    "# Extrapolate Post-LASSO estimates to hold-out-sample\n",
    "yhat.post.lasso <- predict(post.lasso, newdata=lasso_covariates_hold_out)\n",
    "\n",
    "## Assess performance of LASSO estimator\n",
    "# Hold-out-sample RMSE\n",
    "rmse_post_lasso <- round(sqrt(mean((final_price_hold_out - yhat.post.lasso)^2)),digits=3)\n",
    "# Hold-out-sample R-squared\n",
    "r2_post_lasso <- round(1-mean((final_price_hold_out - yhat.post.lasso)^2)/mean((final_price_hold_out - mean(final_price_hold_out))^2),digits=3)\n",
    "\n",
    "print(paste0(\"Hold-out-Sample RMSE: \", rmse_post_lasso))\n",
    "print(paste0(\"Hold-out-Sample R-squared: \", r2_post_lasso))\n"
   ]
  },
  {
   "cell_type": "markdown",
   "metadata": {},
   "source": [
    "## Post-Lasso CV"
   ]
  },
  {
   "cell_type": "markdown",
   "metadata": {},
   "source": [
    "The previous Post-LASSO algorithm does not take account of the second estimation step in the CV. Conceptually, we have to base the model selection also on the Post-LASSO, e.g., we have to estimate a Post-LASSO model in each CV-fold."
   ]
  },
  {
   "cell_type": "code",
   "execution_count": 36,
   "metadata": {},
   "outputs": [
    {
     "ename": "ERROR",
     "evalue": "Error in post_lasso_cv(lasso_covariates_train, final_price_train, lambda.min = exp(-9), : impossible de trouver la fonction \"post_lasso_cv\"\n",
     "output_type": "error",
     "traceback": [
      "Error in post_lasso_cv(lasso_covariates_train, final_price_train, lambda.min = exp(-9), : impossible de trouver la fonction \"post_lasso_cv\"\nTraceback:\n"
     ]
    }
   ],
   "source": [
    "########################  Post-LASSO estimator with correct CV  ######################## \n",
    "# By MCKnaus\n",
    "\n",
    "lasso.linear <- post_lasso_cv(lasso_covariates_train, final_price_train,lambda.min = exp(-9), \n",
    "                              alpha=1, parallel=FALSE, output = T, se_rule = c(-1))\n",
    "#lasso.linear$names_Xse_pl$`SE -1`[-1]\n",
    "\n",
    "# Extrapolate Post-LASSO estimates to hold-out-sample\n",
    "post.lasso.model <- paste(\"final_price_est\", paste(lasso.linear$names_Xse_pl$`SE -1`[-1],collapse=\" + \"),  sep = \" ~ \") \n",
    "post.lasso.model <- as.formula(post.lasso.model)\n",
    "post.lasso <- lm(post.lasso.model, data=lasso_covariates_est)\n",
    "print(post.lasso$coefficients)\n",
    "\n",
    "yhat.post.lasso <- predict(post.lasso, newdata=lasso_covariates_hold_out)\n",
    "\n",
    "## Assess performance of LASSO estimator\n",
    "# Hold-out-sample RMSE\n",
    "rmse_post_lasso <- round(sqrt(mean((final_price_hold_out - yhat.post.lasso)^2)),digits=3)\n",
    "# Hold-out-sample R-squared\n",
    "r2_post_lasso <- round(1-mean((final_price_hold_out - yhat.post.lasso)^2)/mean((final_price_hold_out - mean(final_price_hold_out))^2),digits=3)\n",
    "\n",
    "print(paste0(\"Hold-out-Sample RMSE: \", rmse_post_lasso))\n",
    "print(paste0(\"Hold-out-Sample R-squared: \", r2_post_lasso))"
   ]
  },
  {
   "cell_type": "markdown",
   "metadata": {},
   "source": [
    "# Logit-Lasso"
   ]
  },
  {
   "cell_type": "markdown",
   "metadata": {},
   "source": [
    "Finally, we use a Logit-LASSO to predict the probability that an used car is overpriced."
   ]
  },
  {
   "cell_type": "code",
   "execution_count": 37,
   "metadata": {},
   "outputs": [
    {
     "name": "stdout",
     "output_type": "stream",
     "text": [
      "[1] \"Lambda minimising CV-MSE: 0.00187707\"\n",
      "[1] \"Lambda 1 standard error rule: 0.02314139\"\n"
     ]
    },
    {
     "data": {
      "text/html": [
       "0.28975"
      ],
      "text/latex": [
       "0.28975"
      ],
      "text/markdown": [
       "0.28975"
      ],
      "text/plain": [
       "[1] 0.28975"
      ]
     },
     "metadata": {},
     "output_type": "display_data"
    },
    {
     "data": {
      "text/plain": [
       "53 x 1 sparse Matrix of class \"dgCMatrix\"\n",
       "                           1\n",
       "(Intercept)      -0.63089755\n",
       "mileage           .         \n",
       "age_car_years    -0.05817525\n",
       "other_car_owner   .         \n",
       "inspection        .         \n",
       "co2_em            .         \n",
       "euro_norm         .         \n",
       "bmw_320           .         \n",
       "opel_astra        .         \n",
       "mercedes_c        .         \n",
       "vw_golf           .         \n",
       "vw_passat         .         \n",
       "diesel            .         \n",
       "private_seller    0.54630405\n",
       "guarantee         .         \n",
       "maintenance_cert  .         \n",
       "pm_green          .         \n",
       "mileage2          .         \n",
       "mileage3          .         \n",
       "mileage4          .         \n",
       "age_car_years2    .         \n",
       "age_car_years3    .         \n",
       "age_car_years4    .         \n",
       "mile_20           .         \n",
       "mile_30           .         \n",
       "mile_40           .         \n",
       "mile_50          -0.04866116\n",
       "mile_100          .         \n",
       "mile_150          .         \n",
       "age_3            -0.05643555\n",
       "age_6             .         \n",
       "dur_next_ins_0    .         \n",
       "dur_next_ins_1_2  .         \n",
       "new_inspection    .         \n",
       "euro_1            .         \n",
       "euro_2            .         \n",
       "euro_3            .         \n",
       "euro_4            .         \n",
       "euro_5            .         \n",
       "euro_6            .         \n",
       "noise1            .         \n",
       "noise2            .         \n",
       "noise3            .         \n",
       "noise4            .         \n",
       "noise5            .         \n",
       "noise6            .         \n",
       "noise7            .         \n",
       "noise8            .         \n",
       "noise9            .         \n",
       "noise10           .         \n",
       "noise11           .         \n",
       "noise12           .         \n",
       "noise13           .         "
      ]
     },
     "metadata": {},
     "output_type": "display_data"
    },
    {
     "name": "stdout",
     "output_type": "stream",
     "text": [
      "[1] \"Hold-out-Sample RMSE: 0.446\"\n",
      "[1] \"Hold-out-Sample R-squared: 0.032\"\n"
     ]
    },
    {
     "data": {
      "image/png": "[encoded data removed]",
      "text/plain": [
       "plot without title"
      ]
     },
     "metadata": {},
     "output_type": "display_data"
    }
   ],
   "source": [
    "########################  Logit-LASSO  ######################## \n",
    "\n",
    "overprice_train <- as.matrix(df_train[,3])\n",
    "overprice_est <- as.matrix(df_est[,3])\n",
    "lasso_covariates_est <- as.matrix(lasso_covariates_est)\n",
    "lasso_covariates_hold_out <- as.matrix(lasso_covariates_hold_out)\n",
    "\n",
    "# Cross-validate Lambda of LASSO model##\n",
    "\n",
    "lasso.logit <- cv.glmnet(lasso_covariates_train, overprice_train,alpha=1,family='binomial',type.measure = 'mse', parallel=FALSE)\n",
    "plot(lasso.logit)\n",
    "\n",
    "print(paste0(\"Lambda minimising CV-MSE: \", round(lasso.logit$lambda.min,digits=8)))\n",
    "# 1 standard error rule reduces the number of included covariates\n",
    "print(paste0(\"Lambda 1 standard error rule: \", round(lasso.logit$lambda.1se,digits=8)))\n",
    "\n",
    "\n",
    "# Estimate LASSO model with 1 standard error lambda in estimation sample\n",
    "lasso.logit.fit <- glmnet(lasso_covariates_est , overprice_est, alpha=1, family='binomial', lambda = lasso.logit$lambda.1se)\n",
    "mean(overprice_est)\n",
    "coef(lasso.logit.fit, s= lasso.logit$lambda.1se)\n",
    "\n",
    "# Extrapolate LASSO estimates to hold-out-sample\n",
    "yhat.lasso.logit <- predict(lasso.logit.fit, lasso_covariates_hold_out, lambda = lasso.logit$lambda.1se, type='response')\n",
    "\n",
    "## Assess performance of LASSO estimator\n",
    "# Hold-out-sample RMSE\n",
    "rmse_lasso_logit <- round(sqrt(mean((overprice_hold_out - yhat.lasso.logit)^2)),digits=3)\n",
    "# Hold-out-sample R-squared\n",
    "r2_lasso_logit <- round(1-mean((overprice_hold_out - yhat.lasso.logit)^2)/mean((overprice_hold_out - mean(overprice_hold_out))^2),digits=3)\n",
    "\n",
    "print(paste0(\"Hold-out-Sample RMSE: \", rmse_lasso_logit))\n",
    "print(paste0(\"Hold-out-Sample R-squared: \", r2_lasso_logit))"
   ]
  },
  {
   "cell_type": "markdown",
   "metadata": {},
   "source": [
    "# New Car Data"
   ]
  },
  {
   "cell_type": "markdown",
   "metadata": {},
   "source": [
    "We are finished with our preliminary analysis. In the meanwhile, 26,251 new cars have come to the market. We upload the data and standardise the covarites."
   ]
  },
  {
   "cell_type": "code",
   "execution_count": 38,
   "metadata": {},
   "outputs": [
    {
     "name": "stdout",
     "output_type": "stream",
     "text": [
      "[1] \"New data successfully extracted.\"\n"
     ]
    }
   ],
   "source": [
    "########################  Load New Car data  ######################## \n",
    "\n",
    "# 26251 new cars are on the market\n",
    "# Load data frame\n",
    "data_new <- read.csv(\"used_cars_on_market.csv\",header=TRUE, sep=\",\")\n",
    "df_new <- data_new %>%\n",
    "  dplyr::select(c(\"id\",all_covariates))\n",
    "\n",
    "# Covariates/Features\n",
    "baseline_covariates_bin <- c(\"bmw_320\", \"opel_astra\", \"mercedes_c\", \"vw_golf\", \"vw_passat\", \n",
    "                             \"diesel\",   \"private_seller\", \"guarantee\", \"maintenance_cert\",  \"pm_green\") # binary\n",
    "baseline_covariates_cont <- c(\"mileage\", \"age_car_years\", \"other_car_owner\", \"inspection\",\n",
    "                              \"co2_em\", \"euro_norm\") # continuous/ordered discrete\n",
    "baseline_covariates <- c(baseline_covariates_cont,baseline_covariates_bin)\n",
    "lasso_covariates_bin <- c(\"mile_20\", \"mile_30\", \"mile_40\", \"mile_50\", \"mile_100\", \"mile_150\", \n",
    "                          \"age_3\", \"age_6\",\"dur_next_ins_0\", \"dur_next_ins_1_2\", \"new_inspection\",\n",
    "                          \"euro_1\", \"euro_2\", \"euro_3\", \"euro_4\", \"euro_5\", \"euro_6\") # binary \n",
    "lasso_covariates_cont <- c(\"mileage2\", \"mileage3\", \"mileage4\", \"age_car_years2\", \"age_car_years3\",\n",
    "                           \"age_car_years4\") # continuous\n",
    "\n",
    "\n",
    "# Extracting continuous variables\n",
    "baseline_covariates_cont_new <- df_new %>%\n",
    "  dplyr::select(baseline_covariates_cont) \n",
    "\n",
    "lasso_covariates_cont_new <- df_new %>%\n",
    "  dplyr::select(lasso_covariates_cont) \n",
    "\n",
    "# Extracting indicator variables\n",
    "baseline_covariates_bin_new <- df_new %>%\n",
    "  dplyr::select(baseline_covariates_bin)\n",
    "\n",
    "lasso_covariates_bin_new <- df_new %>%\n",
    "  dplyr::select(lasso_covariates_bin)\n",
    "\n",
    "# Extracting outcome \n",
    "id <- data_new %>% dplyr::select(\"id\")\n",
    "\n",
    "# Setting up the data, renaming columns and discarding rows with NA (if any)\n",
    "df_new <- bind_cols(id, baseline_covariates_cont_new, baseline_covariates_bin_new, lasso_covariates_cont_new, lasso_covariates_bin_new) %>%\n",
    "  na.omit()\n",
    "\n",
    "\n",
    "# Baseline Covariates\n",
    "baseline_covariates_cont_train_old <- as.matrix(df_train[,c(4:9)]) \n",
    "preProcValues <- preProcess(baseline_covariates_cont_train_old , method = c(\"center\", \"scale\")) # Take means and standard deviations from training sample\n",
    "NewTransformed <- predict(preProcValues, baseline_covariates_cont_new)\n",
    "baseline_covariates_new <- as.matrix(cbind(NewTransformed,baseline_covariates_bin_new)) \n",
    "\n",
    "\n",
    "# Lasso Covariates\n",
    "l_cov_train_cont_old <- as.matrix(df_train[,c(4:6,8,20:25)])\n",
    "l_cov_train_cont_new <- as.matrix( bind_cols(baseline_covariates_cont_new,lasso_covariates_cont_new))\n",
    "l_cov_train_bin_new <- as.matrix( bind_cols(baseline_covariates_bin_new,lasso_covariates_bin_new))\n",
    "noise.covars.new <- matrix(data = rnorm(nrow(df_new)),  nrow = nrow(df_new), ncol = 13)\n",
    "colnames(noise.covars.new) <- c(\"noise1\", \"noise2\", \"noise3\", \"noise4\", \"noise5\", \"noise6\", \"noise7\", \"noise8\", \"noise9\", \"noise10\", \"noise11\", \"noise12\",\"noise13\")\n",
    "preProcValues <- preProcess(l_cov_train_cont_old, method = c(\"center\", \"scale\"))\n",
    "NewTransL <- predict(preProcValues, l_cov_train_cont_new)\n",
    "lasso_covariates_new <- as.matrix(cbind(NewTransL,l_cov_train_bin_new,noise.covars.new)) \n",
    "\n",
    "print('New data successfully extracted.')"
   ]
  },
  {
   "cell_type": "markdown",
   "metadata": {},
   "source": [
    "Now it is your task to find the most promissing ML algorithm. You may transform the data or create additional covariates (e.g., from the text data). You may also use other ML algorithms which we have not discussed in the PC session (e.g., neural nets). Your aim is to predict the *final_price* and *overprice* as good as possible. "
   ]
  },
  {
   "cell_type": "code",
   "execution_count": 39,
   "metadata": {},
   "outputs": [],
   "source": [
    "########################  Put your code here  ######################## \n",
    "\n",
    "\n",
    "\n",
    "\n",
    "\n",
    "\n",
    "\n",
    "\n",
    "\n",
    "\n",
    "####################################################################### "
   ]
  },
  {
   "cell_type": "markdown",
   "metadata": {},
   "source": [
    "After you chose the most promissing ML algorithm, extrapolate the predictions to the new data and submit your prediction to anthony.strittmatter@unisg.ch to participate in the competition. "
   ]
  },
  {
   "cell_type": "markdown",
   "metadata": {},
   "source": [
    "## Save predictions"
   ]
  },
  {
   "cell_type": "code",
   "execution_count": 40,
   "metadata": {},
   "outputs": [
    {
     "name": "stdout",
     "output_type": "stream",
     "text": [
      "[1] \"predictions saved\"\n",
      "[1] \"submit your predictions to anthony.strittmatter@unisg.ch\"\n"
     ]
    }
   ],
   "source": [
    "########################  Save predictions ######################## \n",
    "\n",
    "# Save a prediction for the final_price and overprice\n",
    "predictions = matrix(NA,ncol=2, nrow=nrow(id))\n",
    "predictions <- cbind(df_new[,1],predictions)\n",
    "colnames(predictions) <- c(\"id\",\"final_price\", \"overprice\")\n",
    "write.csv(predictions, file = \"predictions.csv\")\n",
    "print('predictions saved')\n",
    "print('submit your predictions to anthony.strittmatter@unisg.ch')"
   ]
  },
  {
   "cell_type": "code",
   "execution_count": null,
   "metadata": {},
   "outputs": [],
   "source": []
  }
 ],
 "metadata": {
  "kernelspec": {
   "display_name": "R",
   "language": "R",
   "name": "ir"
  },
  "language_info": {
   "codemirror_mode": "r",
   "file_extension": ".r",
   "mimetype": "text/x-r-source",
   "name": "R",
   "pygments_lexer": "r",
   "version": "3.5.1"
  }
 },
 "nbformat": 4,
 "nbformat_minor": 2
}
