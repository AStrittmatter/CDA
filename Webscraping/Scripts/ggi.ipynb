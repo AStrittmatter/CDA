{
 "cells": [
  {
   "cell_type": "markdown",
   "metadata": {},
   "source": [
    "# Scraping the Good Governance Index data"
   ]
  },
  {
   "cell_type": "markdown",
   "metadata": {},
   "source": [
    "This script opens the site, reads all drop-down menu options, then iterates over the list of options. On each iteration, the site submits the current option to the form, navigates to the new page, selects the table and processes it."
   ]
  },
  {
   "cell_type": "code",
   "execution_count": 1,
   "metadata": {},
   "outputs": [
    {
     "name": "stderr",
     "output_type": "stream",
     "text": [
      "Loading required package: xml2\n"
     ]
    },
    {
     "data": {
      "text/plain": [
       "{xml_nodeset (5)}\n",
       "[1] <form action=\"http://psa.gov.ph\" method=\"post\" id=\"search-block-form\" acc ...\n",
       "[2] <form id=\"form1\" name=\"form1\" method=\"post\" action=\"/ggi/search.asp\">\\r\\n ...\n",
       "[3] <form id=\"form2\" name=\"form2\" method=\"post\" action=\"/ggi/details.asp\">\\r\\ ...\n",
       "[4] <form id=\"form4\" name=\"form2\" method=\"post\" action=\"/ggi/details_prov.asp ...\n",
       "[5] <form id=\"form3\" name=\"form2\" method=\"post\" action=\"/ggi/rankresults.asp\" ..."
      ]
     },
     "metadata": {},
     "output_type": "display_data"
    },
    {
     "data": {
      "text/plain": [
       "{xml_nodeset (1634)}\n",
       " [1] <option value=\"Navotas+Metro Manila\">NCR - Metro Manila, Navotas</option>\\n\n",
       " [2] <option value=\"Pateros+Metro Manila\">NCR - Metro Manila, Pateros</option>\\n\n",
       " [3] <option value=\"San Juan+Metro Manila\">NCR - Metro Manila, San Juan</opti ...\n",
       " [4] <option value=\"Bangued+Abra\">CAR - Abra, Bangued</option>\\n\n",
       " [5] <option value=\"Boliney+Abra\">CAR - Abra, Boliney</option>\\n\n",
       " [6] <option value=\"Bucay+Abra\">CAR - Abra, Bucay</option>\\n\n",
       " [7] <option value=\"Bucloc+Abra\">CAR - Abra, Bucloc</option>\\n\n",
       " [8] <option value=\"Daguioman+Abra\">CAR - Abra, Daguioman</option>\\n\n",
       " [9] <option value=\"Danglas+Abra\">CAR - Abra, Danglas</option>\\n\n",
       "[10] <option value=\"Dolores+Abra\">CAR - Abra, Dolores</option>\\n\n",
       "[11] <option value=\"La Paz+Abra\">CAR - Abra, La Paz</option>\\n\n",
       "[12] <option value=\"Lacub+Abra\">CAR - Abra, Lacub</option>\\n\n",
       "[13] <option value=\"Lagangilang+Abra\">CAR - Abra, Lagangilang</option>\\n\n",
       "[14] <option value=\"Lagayan+Abra\">CAR - Abra, Lagayan</option>\\n\n",
       "[15] <option value=\"Langiden+Abra\">CAR - Abra, Langiden</option>\\n\n",
       "[16] <option value=\"Licuan-Baay+Abra\">CAR - Abra, Licuan-Baay</option>\\n\n",
       "[17] <option value=\"Luba+Abra\">CAR - Abra, Luba</option>\\n\n",
       "[18] <option value=\"Malibcong+Abra\">CAR - Abra, Malibcong</option>\\n\n",
       "[19] <option value=\"Manabo+Abra\">CAR - Abra, Manabo</option>\\n\n",
       "[20] <option value=\"Peñarrubia+Abra\">CAR - Abra, Peñarrubia</option>\\n\n",
       "..."
      ]
     },
     "metadata": {},
     "output_type": "display_data"
    },
    {
     "data": {
      "text/html": [
       "<table>\n",
       "<thead><tr><th scope=col>value</th><th scope=col>option</th></tr></thead>\n",
       "<tbody>\n",
       "\t<tr><td>Navotas+Metro Manila        </td><td>NCR - Metro Manila, Navotas </td></tr>\n",
       "\t<tr><td>Pateros+Metro Manila        </td><td>NCR - Metro Manila, Pateros </td></tr>\n",
       "\t<tr><td>San Juan+Metro Manila       </td><td>NCR - Metro Manila, San Juan</td></tr>\n",
       "\t<tr><td>Bangued+Abra                </td><td>CAR - Abra, Bangued         </td></tr>\n",
       "\t<tr><td>Boliney+Abra                </td><td>CAR - Abra, Boliney         </td></tr>\n",
       "\t<tr><td>Bucay+Abra                  </td><td>CAR - Abra, Bucay           </td></tr>\n",
       "</tbody>\n",
       "</table>\n"
      ],
      "text/latex": [
       "\\begin{tabular}{r|ll}\n",
       " value & option\\\\\n",
       "\\hline\n",
       "\t Navotas+Metro Manila         & NCR - Metro Manila, Navotas \\\\\n",
       "\t Pateros+Metro Manila         & NCR - Metro Manila, Pateros \\\\\n",
       "\t San Juan+Metro Manila        & NCR - Metro Manila, San Juan\\\\\n",
       "\t Bangued+Abra                 & CAR - Abra, Bangued         \\\\\n",
       "\t Boliney+Abra                 & CAR - Abra, Boliney         \\\\\n",
       "\t Bucay+Abra                   & CAR - Abra, Bucay           \\\\\n",
       "\\end{tabular}\n"
      ],
      "text/markdown": [
       "\n",
       "| value | option |\n",
       "|---|---|\n",
       "| Navotas+Metro Manila         | NCR - Metro Manila, Navotas  |\n",
       "| Pateros+Metro Manila         | NCR - Metro Manila, Pateros  |\n",
       "| San Juan+Metro Manila        | NCR - Metro Manila, San Juan |\n",
       "| Bangued+Abra                 | CAR - Abra, Bangued          |\n",
       "| Boliney+Abra                 | CAR - Abra, Boliney          |\n",
       "| Bucay+Abra                   | CAR - Abra, Bucay            |\n",
       "\n"
      ],
      "text/plain": [
       "  value                 option                      \n",
       "1 Navotas+Metro Manila  NCR - Metro Manila, Navotas \n",
       "2 Pateros+Metro Manila  NCR - Metro Manila, Pateros \n",
       "3 San Juan+Metro Manila NCR - Metro Manila, San Juan\n",
       "4 Bangued+Abra          CAR - Abra, Bangued         \n",
       "5 Boliney+Abra          CAR - Abra, Boliney         \n",
       "6 Bucay+Abra            CAR - Abra, Bucay           "
      ]
     },
     "metadata": {},
     "output_type": "display_data"
    },
    {
     "data": {
      "text/html": [
       "<ol class=list-inline>\n",
       "\t<li>1511</li>\n",
       "\t<li>2</li>\n",
       "</ol>\n"
      ],
      "text/latex": [
       "\\begin{enumerate*}\n",
       "\\item 1511\n",
       "\\item 2\n",
       "\\end{enumerate*}\n"
      ],
      "text/markdown": [
       "1. 1511\n",
       "2. 2\n",
       "\n",
       "\n"
      ],
      "text/plain": [
       "[1] 1511    2"
      ]
     },
     "metadata": {},
     "output_type": "display_data"
    },
    {
     "name": "stdout",
     "output_type": "stream",
     "text": [
      "[1] \"Navotas+Metro Manila\"\n",
      "[1] \"1/1511 Navotas+Metro Manila\"\n"
     ]
    },
    {
     "name": "stderr",
     "output_type": "stream",
     "text": [
      "Submitting with 'strMunicipality2'\n"
     ]
    },
    {
     "name": "stdout",
     "output_type": "stream",
     "text": [
      "[1] \"Pateros+Metro Manila\"\n",
      "[1] \"2/1511 Pateros+Metro Manila\"\n"
     ]
    },
    {
     "name": "stderr",
     "output_type": "stream",
     "text": [
      "Submitting with 'strMunicipality2'\n"
     ]
    },
    {
     "data": {
      "text/html": [
       "<ol class=list-inline>\n",
       "\t<li>16</li>\n",
       "\t<li>6</li>\n",
       "</ol>\n"
      ],
      "text/latex": [
       "\\begin{enumerate*}\n",
       "\\item 16\n",
       "\\item 6\n",
       "\\end{enumerate*}\n"
      ],
      "text/markdown": [
       "1. 16\n",
       "2. 6\n",
       "\n",
       "\n"
      ],
      "text/plain": [
       "[1] 16  6"
      ]
     },
     "metadata": {},
     "output_type": "display_data"
    },
    {
     "data": {
      "text/html": [
       "<table>\n",
       "<thead><tr><th></th><th scope=col>indicator</th><th scope=col>value2005</th><th scope=col>rank2005</th><th scope=col>value2008</th><th scope=col>rank2008</th><th scope=col>municipality </th></tr></thead>\n",
       "<tbody>\n",
       "\t<tr><th scope=row>3</th><td>Income Index                                                                  </td><td>321.91                                                                        </td><td>62                                                                            </td><td>became a city                                                                 </td><td>N/A                                                                           </td><td>Navotas+Metro Manila                                                          </td></tr>\n",
       "\t<tr><th scope=row>4</th><td>Total Per Capita Income Index                                                 </td><td>159.74                                                                        </td><td>617                                                                           </td><td>N/A                                                                           </td><td>N/A                                                                           </td><td>Navotas+Metro Manila                                                          </td></tr>\n",
       "\t<tr><th scope=row>5</th><td>Total Per Capita Income from Local Sources Index                              </td><td>484.09                                                                        </td><td>25                                                                            </td><td>N/A                                                                           </td><td>N/A                                                                           </td><td>Navotas+Metro Manila                                                          </td></tr>\n",
       "\t<tr><th scope=row>6</th><td>Expenditure Index                                                             </td><td>262.30                                                                        </td><td>102                                                                           </td><td>became a city                                                                 </td><td>N/A                                                                           </td><td>Navotas+Metro Manila                                                          </td></tr>\n",
       "\t<tr><th scope=row>7</th><td>Per Capita Expenditure on Education, Culture Sports/Manpower Development Index</td><td>535.83                                                                        </td><td>30                                                                            </td><td>N/A                                                                           </td><td>N/A                                                                           </td><td>Navotas+Metro Manila                                                          </td></tr>\n",
       "\t<tr><th scope=row>8</th><td>Per Capita Expenditure on Health, Nutrition and Population Control Index      </td><td>212.61                                                                        </td><td>340                                                                           </td><td>N/A                                                                           </td><td>N/A                                                                           </td><td>Navotas+Metro Manila                                                          </td></tr>\n",
       "\t<tr><th scope=row>9</th><td>Per Capita Expenditure on Economic Services Index                             </td><td>38.44                                                                         </td><td>1,427                                                                         </td><td>N/A                                                                           </td><td>N/A                                                                           </td><td>Navotas+Metro Manila                                                          </td></tr>\n",
       "\t<tr><th scope=row>10</th><td>GOOD GOVERNANCE INDEX                                                         </td><td>292.10                                                                        </td><td>73                                                                            </td><td>became a city                                                                 </td><td>N/A                                                                           </td><td>Navotas+Metro Manila                                                          </td></tr>\n",
       "\t<tr><th scope=row>31</th><td>Income Index                                                                  </td><td>274.24                                                                        </td><td>96                                                                            </td><td>316.94                                                                        </td><td>101                                                                           </td><td>Pateros+Metro Manila                                                          </td></tr>\n",
       "\t<tr><th scope=row>41</th><td>Total Per Capita Income Index                                                 </td><td>164.80                                                                        </td><td>573                                                                           </td><td>206.08                                                                        </td><td>673                                                                           </td><td>Pateros+Metro Manila                                                          </td></tr>\n",
       "\t<tr><th scope=row>51</th><td>Total Per Capita Income from Local Sources Index                              </td><td>383.69                                                                        </td><td>46                                                                            </td><td>427.79                                                                        </td><td>46                                                                            </td><td>Pateros+Metro Manila                                                          </td></tr>\n",
       "\t<tr><th scope=row>61</th><td>Expenditure Index                                                             </td><td>300.22                                                                        </td><td>71                                                                            </td><td>316.95                                                                        </td><td>84                                                                            </td><td>Pateros+Metro Manila                                                          </td></tr>\n",
       "\t<tr><th scope=row>71</th><td>Per Capita Expenditure on Education, Culture Sports/Manpower Development Index</td><td>461.01                                                                        </td><td>36                                                                            </td><td>497.71                                                                        </td><td>45                                                                            </td><td>Pateros+Metro Manila                                                          </td></tr>\n",
       "\t<tr><th scope=row>81</th><td>Per Capita Expenditure on Health, Nutrition and Population Control Index      </td><td>330.55                                                                        </td><td>105                                                                           </td><td>338.32                                                                        </td><td>103                                                                           </td><td>Pateros+Metro Manila                                                          </td></tr>\n",
       "\t<tr><th scope=row>91</th><td>Per Capita Expenditure on Economic Services Index                             </td><td>109.09                                                                        </td><td>880                                                                           </td><td>114.83                                                                        </td><td>894                                                                           </td><td>Pateros+Metro Manila                                                          </td></tr>\n",
       "\t<tr><th scope=row>101</th><td>GOOD GOVERNANCE INDEX                                                         </td><td>287.23                                                                        </td><td>77                                                                            </td><td>316.95                                                                        </td><td>85                                                                            </td><td>Pateros+Metro Manila                                                          </td></tr>\n",
       "</tbody>\n",
       "</table>\n"
      ],
      "text/latex": [
       "\\begin{tabular}{r|llllll}\n",
       "  & indicator & value2005 & rank2005 & value2008 & rank2008 & municipality \\\\\n",
       "\\hline\n",
       "\t3 & Income Index                                                                   & 321.91                                                                         & 62                                                                             & became a city                                                                  & N/A                                                                            & Navotas+Metro Manila                                                          \\\\\n",
       "\t4 & Total Per Capita Income Index                                                  & 159.74                                                                         & 617                                                                            & N/A                                                                            & N/A                                                                            & Navotas+Metro Manila                                                          \\\\\n",
       "\t5 & Total Per Capita Income from Local Sources Index                               & 484.09                                                                         & 25                                                                             & N/A                                                                            & N/A                                                                            & Navotas+Metro Manila                                                          \\\\\n",
       "\t6 & Expenditure Index                                                              & 262.30                                                                         & 102                                                                            & became a city                                                                  & N/A                                                                            & Navotas+Metro Manila                                                          \\\\\n",
       "\t7 & Per Capita Expenditure on Education, Culture Sports/Manpower Development Index & 535.83                                                                         & 30                                                                             & N/A                                                                            & N/A                                                                            & Navotas+Metro Manila                                                          \\\\\n",
       "\t8 & Per Capita Expenditure on Health, Nutrition and Population Control Index       & 212.61                                                                         & 340                                                                            & N/A                                                                            & N/A                                                                            & Navotas+Metro Manila                                                          \\\\\n",
       "\t9 & Per Capita Expenditure on Economic Services Index                              & 38.44                                                                          & 1,427                                                                          & N/A                                                                            & N/A                                                                            & Navotas+Metro Manila                                                          \\\\\n",
       "\t10 & GOOD GOVERNANCE INDEX                                                          & 292.10                                                                         & 73                                                                             & became a city                                                                  & N/A                                                                            & Navotas+Metro Manila                                                          \\\\\n",
       "\t31 & Income Index                                                                   & 274.24                                                                         & 96                                                                             & 316.94                                                                         & 101                                                                            & Pateros+Metro Manila                                                          \\\\\n",
       "\t41 & Total Per Capita Income Index                                                  & 164.80                                                                         & 573                                                                            & 206.08                                                                         & 673                                                                            & Pateros+Metro Manila                                                          \\\\\n",
       "\t51 & Total Per Capita Income from Local Sources Index                               & 383.69                                                                         & 46                                                                             & 427.79                                                                         & 46                                                                             & Pateros+Metro Manila                                                          \\\\\n",
       "\t61 & Expenditure Index                                                              & 300.22                                                                         & 71                                                                             & 316.95                                                                         & 84                                                                             & Pateros+Metro Manila                                                          \\\\\n",
       "\t71 & Per Capita Expenditure on Education, Culture Sports/Manpower Development Index & 461.01                                                                         & 36                                                                             & 497.71                                                                         & 45                                                                             & Pateros+Metro Manila                                                          \\\\\n",
       "\t81 & Per Capita Expenditure on Health, Nutrition and Population Control Index       & 330.55                                                                         & 105                                                                            & 338.32                                                                         & 103                                                                            & Pateros+Metro Manila                                                          \\\\\n",
       "\t91 & Per Capita Expenditure on Economic Services Index                              & 109.09                                                                         & 880                                                                            & 114.83                                                                         & 894                                                                            & Pateros+Metro Manila                                                          \\\\\n",
       "\t101 & GOOD GOVERNANCE INDEX                                                          & 287.23                                                                         & 77                                                                             & 316.95                                                                         & 85                                                                             & Pateros+Metro Manila                                                          \\\\\n",
       "\\end{tabular}\n"
      ],
      "text/markdown": [
       "\n",
       "| <!--/--> | indicator | value2005 | rank2005 | value2008 | rank2008 | municipality  |\n",
       "|---|---|---|---|---|---|---|\n",
       "| 3 | Income Index                                                                   | 321.91                                                                         | 62                                                                             | became a city                                                                  | N/A                                                                            | Navotas+Metro Manila                                                           |\n",
       "| 4 | Total Per Capita Income Index                                                  | 159.74                                                                         | 617                                                                            | N/A                                                                            | N/A                                                                            | Navotas+Metro Manila                                                           |\n",
       "| 5 | Total Per Capita Income from Local Sources Index                               | 484.09                                                                         | 25                                                                             | N/A                                                                            | N/A                                                                            | Navotas+Metro Manila                                                           |\n",
       "| 6 | Expenditure Index                                                              | 262.30                                                                         | 102                                                                            | became a city                                                                  | N/A                                                                            | Navotas+Metro Manila                                                           |\n",
       "| 7 | Per Capita Expenditure on Education, Culture Sports/Manpower Development Index | 535.83                                                                         | 30                                                                             | N/A                                                                            | N/A                                                                            | Navotas+Metro Manila                                                           |\n",
       "| 8 | Per Capita Expenditure on Health, Nutrition and Population Control Index       | 212.61                                                                         | 340                                                                            | N/A                                                                            | N/A                                                                            | Navotas+Metro Manila                                                           |\n",
       "| 9 | Per Capita Expenditure on Economic Services Index                              | 38.44                                                                          | 1,427                                                                          | N/A                                                                            | N/A                                                                            | Navotas+Metro Manila                                                           |\n",
       "| 10 | GOOD GOVERNANCE INDEX                                                          | 292.10                                                                         | 73                                                                             | became a city                                                                  | N/A                                                                            | Navotas+Metro Manila                                                           |\n",
       "| 31 | Income Index                                                                   | 274.24                                                                         | 96                                                                             | 316.94                                                                         | 101                                                                            | Pateros+Metro Manila                                                           |\n",
       "| 41 | Total Per Capita Income Index                                                  | 164.80                                                                         | 573                                                                            | 206.08                                                                         | 673                                                                            | Pateros+Metro Manila                                                           |\n",
       "| 51 | Total Per Capita Income from Local Sources Index                               | 383.69                                                                         | 46                                                                             | 427.79                                                                         | 46                                                                             | Pateros+Metro Manila                                                           |\n",
       "| 61 | Expenditure Index                                                              | 300.22                                                                         | 71                                                                             | 316.95                                                                         | 84                                                                             | Pateros+Metro Manila                                                           |\n",
       "| 71 | Per Capita Expenditure on Education, Culture Sports/Manpower Development Index | 461.01                                                                         | 36                                                                             | 497.71                                                                         | 45                                                                             | Pateros+Metro Manila                                                           |\n",
       "| 81 | Per Capita Expenditure on Health, Nutrition and Population Control Index       | 330.55                                                                         | 105                                                                            | 338.32                                                                         | 103                                                                            | Pateros+Metro Manila                                                           |\n",
       "| 91 | Per Capita Expenditure on Economic Services Index                              | 109.09                                                                         | 880                                                                            | 114.83                                                                         | 894                                                                            | Pateros+Metro Manila                                                           |\n",
       "| 101 | GOOD GOVERNANCE INDEX                                                          | 287.23                                                                         | 77                                                                             | 316.95                                                                         | 85                                                                             | Pateros+Metro Manila                                                           |\n",
       "\n"
      ],
      "text/plain": [
       "    indicator                                                                     \n",
       "3   Income Index                                                                  \n",
       "4   Total Per Capita Income Index                                                 \n",
       "5   Total Per Capita Income from Local Sources Index                              \n",
       "6   Expenditure Index                                                             \n",
       "7   Per Capita Expenditure on Education, Culture Sports/Manpower Development Index\n",
       "8   Per Capita Expenditure on Health, Nutrition and Population Control Index      \n",
       "9   Per Capita Expenditure on Economic Services Index                             \n",
       "10  GOOD GOVERNANCE INDEX                                                         \n",
       "31  Income Index                                                                  \n",
       "41  Total Per Capita Income Index                                                 \n",
       "51  Total Per Capita Income from Local Sources Index                              \n",
       "61  Expenditure Index                                                             \n",
       "71  Per Capita Expenditure on Education, Culture Sports/Manpower Development Index\n",
       "81  Per Capita Expenditure on Health, Nutrition and Population Control Index      \n",
       "91  Per Capita Expenditure on Economic Services Index                             \n",
       "101 GOOD GOVERNANCE INDEX                                                         \n",
       "    value2005 rank2005 value2008     rank2008 municipality        \n",
       "3   321.91    62       became a city N/A      Navotas+Metro Manila\n",
       "4   159.74    617      N/A           N/A      Navotas+Metro Manila\n",
       "5   484.09    25       N/A           N/A      Navotas+Metro Manila\n",
       "6   262.30    102      became a city N/A      Navotas+Metro Manila\n",
       "7   535.83    30       N/A           N/A      Navotas+Metro Manila\n",
       "8   212.61    340      N/A           N/A      Navotas+Metro Manila\n",
       "9   38.44     1,427    N/A           N/A      Navotas+Metro Manila\n",
       "10  292.10    73       became a city N/A      Navotas+Metro Manila\n",
       "31  274.24    96       316.94        101      Pateros+Metro Manila\n",
       "41  164.80    573      206.08        673      Pateros+Metro Manila\n",
       "51  383.69    46       427.79        46       Pateros+Metro Manila\n",
       "61  300.22    71       316.95        84       Pateros+Metro Manila\n",
       "71  461.01    36       497.71        45       Pateros+Metro Manila\n",
       "81  330.55    105      338.32        103      Pateros+Metro Manila\n",
       "91  109.09    880      114.83        894      Pateros+Metro Manila\n",
       "101 287.23    77       316.95        85       Pateros+Metro Manila"
      ]
     },
     "metadata": {},
     "output_type": "display_data"
    }
   ],
   "source": [
    "## load library\n",
    "library(rvest)\n",
    "\n",
    "## initiate session on site\n",
    "site <- \"http://nap.psa.gov.ph/ggi/default.asp\"\n",
    "session <- html_session(site)\n",
    "\n",
    "## look at nodes\n",
    "html_nodes(session, \"form\")\n",
    "html_nodes(session, \"option\")\n",
    "\n",
    "## get the drop-down options\n",
    "options <- html_nodes(session, \"select[name='strMunicipality2'] > option\")\n",
    "municipalities <- data.frame(\n",
    "    value  = html_attr(options, \"value\"),\n",
    "    option = html_text(options))\n",
    "head(municipalities)\n",
    "dim(municipalities)\n",
    "\n",
    "## empty data frame to be filled\n",
    "data <- data.frame(matrix(nrow = 0, ncol = 5))\n",
    "\n",
    "## get ggi data for all municipalities in the list, restrict to first two for test\n",
    "for (op in municipalities$value[1:2]) {\n",
    "\n",
    "    ## display some information\n",
    "    ## print(op)\n",
    "    print(paste0(which(op == municipalities$value), \"/\",\n",
    "                 nrow(municipalities), \" \", op))\n",
    "\n",
    "    ## set option and submit form\n",
    "    form <- html_form(html_node(session, \"#form2\"))\n",
    "    form <- set_values(form, \"strMunicipality2\" = op)\n",
    "    newpage <- submit_form(session, form)\n",
    "\n",
    "    ## get table and process it\n",
    "    table <- html_table(html_node(newpage, \"table\"), fill = TRUE)\n",
    "    table$municipality <- op\n",
    "    table <- table[3:nrow(table), ]\n",
    "\n",
    "    ## assert correct dimension\n",
    "    stopifnot(ncol(table) == 6)\n",
    "    ## print(table)\n",
    "\n",
    "    ## append to data\n",
    "    data <- rbind(data, table)\n",
    "}\n",
    "\n",
    "## build header and add to data frame\n",
    "header <- c(\"indicator\", \"value2005\", \"rank2005\", \"value2008\", \"rank2008\",\n",
    "            \"municipality \")\n",
    "names(data) <- header\n",
    "\n",
    "## look at data\n",
    "dim(data)\n",
    "data"
   ]
  },
  {
   "cell_type": "markdown",
   "metadata": {},
   "source": [
    "## CSV output"
   ]
  },
  {
   "cell_type": "code",
   "execution_count": null,
   "metadata": {},
   "outputs": [],
   "source": []
  },
  {
   "cell_type": "markdown",
   "metadata": {},
   "source": [
    "With larger projects, it may be infeasible to accumulate data in in-memory objects like data frames. A very simple alternative is to just append rows with data to a csv file each iteration. "
   ]
  },
  {
   "cell_type": "code",
   "execution_count": 2,
   "metadata": {},
   "outputs": [
    {
     "data": {
      "text/plain": [
       "{xml_nodeset (5)}\n",
       "[1] <form action=\"http://psa.gov.ph\" method=\"post\" id=\"search-block-form\" acc ...\n",
       "[2] <form id=\"form1\" name=\"form1\" method=\"post\" action=\"/ggi/search.asp\">\\r\\n ...\n",
       "[3] <form id=\"form2\" name=\"form2\" method=\"post\" action=\"/ggi/details.asp\">\\r\\ ...\n",
       "[4] <form id=\"form4\" name=\"form2\" method=\"post\" action=\"/ggi/details_prov.asp ...\n",
       "[5] <form id=\"form3\" name=\"form2\" method=\"post\" action=\"/ggi/rankresults.asp\" ..."
      ]
     },
     "metadata": {},
     "output_type": "display_data"
    },
    {
     "data": {
      "text/plain": [
       "{xml_nodeset (1634)}\n",
       " [1] <option value=\"Navotas+Metro Manila\">NCR - Metro Manila, Navotas</option>\\n\n",
       " [2] <option value=\"Pateros+Metro Manila\">NCR - Metro Manila, Pateros</option>\\n\n",
       " [3] <option value=\"San Juan+Metro Manila\">NCR - Metro Manila, San Juan</opti ...\n",
       " [4] <option value=\"Bangued+Abra\">CAR - Abra, Bangued</option>\\n\n",
       " [5] <option value=\"Boliney+Abra\">CAR - Abra, Boliney</option>\\n\n",
       " [6] <option value=\"Bucay+Abra\">CAR - Abra, Bucay</option>\\n\n",
       " [7] <option value=\"Bucloc+Abra\">CAR - Abra, Bucloc</option>\\n\n",
       " [8] <option value=\"Daguioman+Abra\">CAR - Abra, Daguioman</option>\\n\n",
       " [9] <option value=\"Danglas+Abra\">CAR - Abra, Danglas</option>\\n\n",
       "[10] <option value=\"Dolores+Abra\">CAR - Abra, Dolores</option>\\n\n",
       "[11] <option value=\"La Paz+Abra\">CAR - Abra, La Paz</option>\\n\n",
       "[12] <option value=\"Lacub+Abra\">CAR - Abra, Lacub</option>\\n\n",
       "[13] <option value=\"Lagangilang+Abra\">CAR - Abra, Lagangilang</option>\\n\n",
       "[14] <option value=\"Lagayan+Abra\">CAR - Abra, Lagayan</option>\\n\n",
       "[15] <option value=\"Langiden+Abra\">CAR - Abra, Langiden</option>\\n\n",
       "[16] <option value=\"Licuan-Baay+Abra\">CAR - Abra, Licuan-Baay</option>\\n\n",
       "[17] <option value=\"Luba+Abra\">CAR - Abra, Luba</option>\\n\n",
       "[18] <option value=\"Malibcong+Abra\">CAR - Abra, Malibcong</option>\\n\n",
       "[19] <option value=\"Manabo+Abra\">CAR - Abra, Manabo</option>\\n\n",
       "[20] <option value=\"Peñarrubia+Abra\">CAR - Abra, Peñarrubia</option>\\n\n",
       "..."
      ]
     },
     "metadata": {},
     "output_type": "display_data"
    },
    {
     "data": {
      "text/html": [
       "<ol class=list-inline>\n",
       "\t<li>1511</li>\n",
       "\t<li>2</li>\n",
       "</ol>\n"
      ],
      "text/latex": [
       "\\begin{enumerate*}\n",
       "\\item 1511\n",
       "\\item 2\n",
       "\\end{enumerate*}\n"
      ],
      "text/markdown": [
       "1. 1511\n",
       "2. 2\n",
       "\n",
       "\n"
      ],
      "text/plain": [
       "[1] 1511    2"
      ]
     },
     "metadata": {},
     "output_type": "display_data"
    },
    {
     "name": "stdout",
     "output_type": "stream",
     "text": [
      "[1] \"Navotas+Metro Manila\"\n",
      "[1] \"1/1511 Navotas+Metro Manila\"\n"
     ]
    },
    {
     "name": "stderr",
     "output_type": "stream",
     "text": [
      "Submitting with 'strMunicipality2'\n"
     ]
    },
    {
     "name": "stdout",
     "output_type": "stream",
     "text": [
      "[1] \"Pateros+Metro Manila\"\n",
      "[1] \"2/1511 Pateros+Metro Manila\"\n"
     ]
    },
    {
     "name": "stderr",
     "output_type": "stream",
     "text": [
      "Submitting with 'strMunicipality2'\n"
     ]
    }
   ],
   "source": [
    "## load library\n",
    "library(rvest)\n",
    "\n",
    "## initiate session on site\n",
    "site <- \"http://nap.psa.gov.ph/ggi/default.asp\"\n",
    "session <- html_session(site)\n",
    "\n",
    "## look at nodes\n",
    "html_nodes(session, \"form\")\n",
    "html_nodes(session, \"option\")\n",
    "\n",
    "## get the drop-down options\n",
    "options <- html_nodes(session, \"select[name='strMunicipality2'] > option\")\n",
    "municipalities <- data.frame(\n",
    "    value  = html_attr(options, \"value\"),\n",
    "    option = html_text(options))\n",
    "## head(municipalities)\n",
    "dim(municipalities)\n",
    "\n",
    "## build header and write to file\n",
    "header <- c(\"indicator\", \"value2005\", \"rank2005\", \"value2008\", \"rank2008\",\n",
    "            \"municipality\")\n",
    "write.table(t(header), \"Data/ggi.csv\", sep = \";\",\n",
    "            col.names = FALSE, row.names = FALSE)\n",
    "\n",
    "## get ggi data for all municipalities in the list\n",
    "for (op in municipalities$value[1:2]) {\n",
    "\n",
    "    ## display some information\n",
    "    print(op)\n",
    "    print(paste0(which(op == municipalities$value), \"/\",\n",
    "                 nrow(municipalities), \" \", op))\n",
    "\n",
    "    ## set option and submit form\n",
    "    form <- html_form(html_node(session, \"#form2\"))\n",
    "    form <- set_values(form, \"strMunicipality2\" = op)\n",
    "    newpage <- submit_form(session, form)\n",
    "\n",
    "    ## get table and process it\n",
    "    table <- html_table(html_node(newpage, \"table\"), fill = TRUE)\n",
    "    table$municipality <- op\n",
    "    table <- table[3:nrow(table), ]\n",
    "\n",
    "    ## assert correct dimension\n",
    "    stopifnot(ncol(table) == 6)\n",
    "\n",
    "    ## append to file\n",
    "    write.table(table, \"Data/ggi.csv\", sep = \";\", append = TRUE,\n",
    "                col.names = FALSE, row.names = FALSE)\n",
    "}"
   ]
  }
 ],
 "metadata": {
  "kernelspec": {
   "display_name": "R",
   "language": "R",
   "name": "ir"
  },
  "language_info": {
   "codemirror_mode": "r",
   "file_extension": ".r",
   "mimetype": "text/x-r-source",
   "name": "R",
   "pygments_lexer": "r",
   "version": "3.4.4"
  }
 },
 "nbformat": 4,
 "nbformat_minor": 2
}
